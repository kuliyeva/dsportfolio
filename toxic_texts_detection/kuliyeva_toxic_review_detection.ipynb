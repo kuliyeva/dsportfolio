{
 "cells": [
  {
   "cell_type": "markdown",
   "id": "0a9d046b-77fa-4bdf-b416-fcd2eb3d90ff",
   "metadata": {},
   "source": [
    "# Модерация отзывов"
   ]
  },
  {
   "cell_type": "markdown",
   "id": "85b5727d-aad4-4a4a-beb9-bae0f0881188",
   "metadata": {},
   "source": [
    "## Введение"
   ]
  },
  {
   "cell_type": "markdown",
   "id": "240c8f08-bb9e-43b7-840f-97f9d3056173",
   "metadata": {},
   "source": [
    "**Цель проекта**\n",
    "\n",
    "Разработать решение для выявления токсичных комментариев, чтобы отправлять их на модерацию. \n",
    "\n",
    "**Задачи проекта**\n",
    "1. Разработка нескольких моделей для классификации комментариев как не_токсичные и токсичные. \n",
    "2. Выбор лучшей модели.\n",
    "\n",
    "**Критерии качества моделей:**\n",
    "- Качество предсказания: значение метрики F1 < 0.75.\n",
    "____\n",
    "\n",
    "**О данных**\n",
    "\n",
    "**Датасет data** содержит комментарии с разметкой их токсичности.\n",
    "- text - текст комментария.\n",
    "- toxic - классификация токсичности: 0 - не_токсичный, 1 - токсичный.\n",
    "\n",
    "**toxic** является целевым признаком для моделей.\n",
    "_____\n",
    "\n",
    "**План проекта**\n",
    "1. Обзор и предобработка данных\n",
    "2. Исследовательский анализ данных\n",
    "3. Обучение и выбор моделей\n",
    "4. Общий вывод"
   ]
  },
  {
   "cell_type": "markdown",
   "id": "443b23b7-45ee-49d9-b549-21be836fbf4b",
   "metadata": {},
   "source": [
    "## Импорт библиотек"
   ]
  },
  {
   "cell_type": "code",
   "execution_count": 1,
   "id": "61f6ffa0-4317-4075-a180-120706f80879",
   "metadata": {},
   "outputs": [],
   "source": [
    "#установим библиотеки для работы\n",
    "\n",
    "!pip install transformers[torch] -q\n",
    "!pip install datasets -q\n",
    "!pip install -U sentence-transformers -q\n",
    "!pip install tf-keras -q\n"
   ]
  },
  {
   "cell_type": "code",
   "execution_count": 2,
   "id": "eded8c26-ce6e-4ac8-8216-2c4c00860a83",
   "metadata": {},
   "outputs": [
    {
     "name": "stderr",
     "output_type": "stream",
     "text": [
      "C:\\Users\\user\\anaconda3\\envs\\practicum\\lib\\site-packages\\google\\protobuf\\runtime_version.py:98: UserWarning: Protobuf gencode version 5.28.3 is exactly one major version older than the runtime version 6.31.1 at tensorflow/core/framework/attr_value.proto. Please update the gencode to avoid compatibility violations in the next runtime release.\n",
      "  warnings.warn(\n",
      "C:\\Users\\user\\anaconda3\\envs\\practicum\\lib\\site-packages\\google\\protobuf\\runtime_version.py:98: UserWarning: Protobuf gencode version 5.28.3 is exactly one major version older than the runtime version 6.31.1 at tensorflow/core/framework/tensor.proto. Please update the gencode to avoid compatibility violations in the next runtime release.\n",
      "  warnings.warn(\n",
      "C:\\Users\\user\\anaconda3\\envs\\practicum\\lib\\site-packages\\google\\protobuf\\runtime_version.py:98: UserWarning: Protobuf gencode version 5.28.3 is exactly one major version older than the runtime version 6.31.1 at tensorflow/core/framework/resource_handle.proto. Please update the gencode to avoid compatibility violations in the next runtime release.\n",
      "  warnings.warn(\n",
      "C:\\Users\\user\\anaconda3\\envs\\practicum\\lib\\site-packages\\google\\protobuf\\runtime_version.py:98: UserWarning: Protobuf gencode version 5.28.3 is exactly one major version older than the runtime version 6.31.1 at tensorflow/core/framework/tensor_shape.proto. Please update the gencode to avoid compatibility violations in the next runtime release.\n",
      "  warnings.warn(\n",
      "C:\\Users\\user\\anaconda3\\envs\\practicum\\lib\\site-packages\\google\\protobuf\\runtime_version.py:98: UserWarning: Protobuf gencode version 5.28.3 is exactly one major version older than the runtime version 6.31.1 at tensorflow/core/framework/types.proto. Please update the gencode to avoid compatibility violations in the next runtime release.\n",
      "  warnings.warn(\n",
      "C:\\Users\\user\\anaconda3\\envs\\practicum\\lib\\site-packages\\google\\protobuf\\runtime_version.py:98: UserWarning: Protobuf gencode version 5.28.3 is exactly one major version older than the runtime version 6.31.1 at tensorflow/core/framework/full_type.proto. Please update the gencode to avoid compatibility violations in the next runtime release.\n",
      "  warnings.warn(\n",
      "C:\\Users\\user\\anaconda3\\envs\\practicum\\lib\\site-packages\\google\\protobuf\\runtime_version.py:98: UserWarning: Protobuf gencode version 5.28.3 is exactly one major version older than the runtime version 6.31.1 at tensorflow/core/framework/function.proto. Please update the gencode to avoid compatibility violations in the next runtime release.\n",
      "  warnings.warn(\n",
      "C:\\Users\\user\\anaconda3\\envs\\practicum\\lib\\site-packages\\google\\protobuf\\runtime_version.py:98: UserWarning: Protobuf gencode version 5.28.3 is exactly one major version older than the runtime version 6.31.1 at tensorflow/core/framework/node_def.proto. Please update the gencode to avoid compatibility violations in the next runtime release.\n",
      "  warnings.warn(\n",
      "C:\\Users\\user\\anaconda3\\envs\\practicum\\lib\\site-packages\\google\\protobuf\\runtime_version.py:98: UserWarning: Protobuf gencode version 5.28.3 is exactly one major version older than the runtime version 6.31.1 at tensorflow/core/framework/op_def.proto. Please update the gencode to avoid compatibility violations in the next runtime release.\n",
      "  warnings.warn(\n",
      "C:\\Users\\user\\anaconda3\\envs\\practicum\\lib\\site-packages\\google\\protobuf\\runtime_version.py:98: UserWarning: Protobuf gencode version 5.28.3 is exactly one major version older than the runtime version 6.31.1 at tensorflow/core/framework/graph.proto. Please update the gencode to avoid compatibility violations in the next runtime release.\n",
      "  warnings.warn(\n",
      "C:\\Users\\user\\anaconda3\\envs\\practicum\\lib\\site-packages\\google\\protobuf\\runtime_version.py:98: UserWarning: Protobuf gencode version 5.28.3 is exactly one major version older than the runtime version 6.31.1 at tensorflow/core/framework/graph_debug_info.proto. Please update the gencode to avoid compatibility violations in the next runtime release.\n",
      "  warnings.warn(\n",
      "C:\\Users\\user\\anaconda3\\envs\\practicum\\lib\\site-packages\\google\\protobuf\\runtime_version.py:98: UserWarning: Protobuf gencode version 5.28.3 is exactly one major version older than the runtime version 6.31.1 at tensorflow/core/framework/versions.proto. Please update the gencode to avoid compatibility violations in the next runtime release.\n",
      "  warnings.warn(\n",
      "C:\\Users\\user\\anaconda3\\envs\\practicum\\lib\\site-packages\\google\\protobuf\\runtime_version.py:98: UserWarning: Protobuf gencode version 5.28.3 is exactly one major version older than the runtime version 6.31.1 at tensorflow/core/protobuf/config.proto. Please update the gencode to avoid compatibility violations in the next runtime release.\n",
      "  warnings.warn(\n",
      "C:\\Users\\user\\anaconda3\\envs\\practicum\\lib\\site-packages\\google\\protobuf\\runtime_version.py:98: UserWarning: Protobuf gencode version 5.28.3 is exactly one major version older than the runtime version 6.31.1 at xla/tsl/protobuf/coordination_config.proto. Please update the gencode to avoid compatibility violations in the next runtime release.\n",
      "  warnings.warn(\n",
      "C:\\Users\\user\\anaconda3\\envs\\practicum\\lib\\site-packages\\google\\protobuf\\runtime_version.py:98: UserWarning: Protobuf gencode version 5.28.3 is exactly one major version older than the runtime version 6.31.1 at tensorflow/core/framework/cost_graph.proto. Please update the gencode to avoid compatibility violations in the next runtime release.\n",
      "  warnings.warn(\n",
      "C:\\Users\\user\\anaconda3\\envs\\practicum\\lib\\site-packages\\google\\protobuf\\runtime_version.py:98: UserWarning: Protobuf gencode version 5.28.3 is exactly one major version older than the runtime version 6.31.1 at tensorflow/core/framework/step_stats.proto. Please update the gencode to avoid compatibility violations in the next runtime release.\n",
      "  warnings.warn(\n",
      "C:\\Users\\user\\anaconda3\\envs\\practicum\\lib\\site-packages\\google\\protobuf\\runtime_version.py:98: UserWarning: Protobuf gencode version 5.28.3 is exactly one major version older than the runtime version 6.31.1 at tensorflow/core/framework/allocation_description.proto. Please update the gencode to avoid compatibility violations in the next runtime release.\n",
      "  warnings.warn(\n",
      "C:\\Users\\user\\anaconda3\\envs\\practicum\\lib\\site-packages\\google\\protobuf\\runtime_version.py:98: UserWarning: Protobuf gencode version 5.28.3 is exactly one major version older than the runtime version 6.31.1 at tensorflow/core/framework/tensor_description.proto. Please update the gencode to avoid compatibility violations in the next runtime release.\n",
      "  warnings.warn(\n",
      "C:\\Users\\user\\anaconda3\\envs\\practicum\\lib\\site-packages\\google\\protobuf\\runtime_version.py:98: UserWarning: Protobuf gencode version 5.28.3 is exactly one major version older than the runtime version 6.31.1 at tensorflow/core/protobuf/cluster.proto. Please update the gencode to avoid compatibility violations in the next runtime release.\n",
      "  warnings.warn(\n",
      "C:\\Users\\user\\anaconda3\\envs\\practicum\\lib\\site-packages\\google\\protobuf\\runtime_version.py:98: UserWarning: Protobuf gencode version 5.28.3 is exactly one major version older than the runtime version 6.31.1 at tensorflow/core/protobuf/debug.proto. Please update the gencode to avoid compatibility violations in the next runtime release.\n",
      "  warnings.warn(\n"
     ]
    },
    {
     "name": "stdout",
     "output_type": "stream",
     "text": [
      "WARNING:tensorflow:From C:\\Users\\user\\anaconda3\\envs\\practicum\\lib\\site-packages\\tf_keras\\src\\losses.py:2976: The name tf.losses.sparse_softmax_cross_entropy is deprecated. Please use tf.compat.v1.losses.sparse_softmax_cross_entropy instead.\n",
      "\n"
     ]
    }
   ],
   "source": [
    "#импортируем библиотеки для работы\n",
    "import pandas as pd\n",
    "import numpy as np\n",
    "\n",
    "import matplotlib.pyplot as plt\n",
    "import matplotlib.gridspec as gridspec\n",
    "import seaborn as sns\n",
    "\n",
    "from datasets import Dataset\n",
    "from torch.utils.data import Dataset as TorchDataset, DataLoader\n",
    "\n",
    "import torch\n",
    "import torch.nn.functional as F\n",
    "import transformers\n",
    "from transformers import (DistilBertTokenizer, \n",
    "DistilBertForSequenceClassification, \n",
    "Trainer, \n",
    "TrainingArguments, \n",
    "AutoTokenizer, \n",
    "AutoModel,\n",
    "AutoModelForSequenceClassification)\n",
    "\n",
    "from sklearn.model_selection import train_test_split\n",
    "from sklearn.linear_model import LogisticRegression\n",
    "from sklearn.metrics import f1_score, classification_report, confusion_matrix\n",
    "\n",
    "from tqdm import tqdm\n",
    "import os\n",
    "import gc\n",
    "\n",
    "\n",
    "#задаем константы\n",
    "RANDOM_STATE = 30\n",
    "BATCH_SIZE = 16"
   ]
  },
  {
   "cell_type": "markdown",
   "id": "397e306e-2ad2-4422-8465-37e1416e841e",
   "metadata": {},
   "source": [
    "## Функции для работы"
   ]
  },
  {
   "cell_type": "code",
   "execution_count": 3,
   "id": "37874928-0e38-42f8-ba13-c4d7619f44a0",
   "metadata": {},
   "outputs": [],
   "source": [
    "#разгонятель тоски\n",
    "device = 'cuda' if torch.cuda.is_available() else 'cpu'"
   ]
  },
  {
   "cell_type": "code",
   "execution_count": 4,
   "id": "d381bb9f-bee2-43bc-9a31-165a000b0b48",
   "metadata": {},
   "outputs": [],
   "source": [
    "#для загрузки данных\n",
    "class TextDataset(TorchDataset):\n",
    "    def __init__(self, texts, tokenizer, max_len=128):\n",
    "        self.texts = texts\n",
    "        self.tokenizer = tokenizer\n",
    "        self.max_len = max_len\n",
    "\n",
    "    def __len__(self):\n",
    "        return len(self.texts)\n",
    "\n",
    "    def __getitem__(self, idx):\n",
    "        text = str(self.texts[idx])\n",
    "        encoded = self.tokenizer(text,\n",
    "                                 truncation=True,\n",
    "                                 padding='max_length',\n",
    "                                 max_length=self.max_len,\n",
    "                                 return_tensors='pt')\n",
    "        return {\n",
    "            'input_ids': encoded['input_ids'].squeeze(0),\n",
    "            'attention_mask': encoded['attention_mask'].squeeze(0)\n",
    "        }"
   ]
  },
  {
   "cell_type": "code",
   "execution_count": 5,
   "id": "e36ff1f0-33f8-4009-9487-7e8cf95f411c",
   "metadata": {},
   "outputs": [],
   "source": [
    "#для извлечения CLS-токена\n",
    "def extract_cls_embeddings(dataloader, model, device):\n",
    "    model.eval()\n",
    "    all_embeddings = []\n",
    "\n",
    "    with torch.no_grad():\n",
    "        for batch in tqdm(dataloader, desc=\"Extracting CLS embeddings\"):\n",
    "            input_ids = batch['input_ids'].to(device)\n",
    "            attention_mask = batch['attention_mask'].to(device)\n",
    "\n",
    "            outputs = model(input_ids=input_ids, attention_mask=attention_mask)\n",
    "            cls_embeddings = outputs.last_hidden_state[:, 0, :]\n",
    "            all_embeddings.append(cls_embeddings.cpu())\n",
    "\n",
    "    return torch.cat(all_embeddings, dim=0).numpy()"
   ]
  },
  {
   "cell_type": "code",
   "execution_count": 6,
   "id": "c1f1366e-80a7-4dc0-ab8d-819e566fde3c",
   "metadata": {},
   "outputs": [],
   "source": [
    "#для токенизации в DistilBertForSequenceClassification\n",
    "def tokenizator3000(example):\n",
    "    return tokenizer(example['text'],\n",
    "                     max_length=512,\n",
    "                     truncation=True,\n",
    "                     padding=\"max_length\")"
   ]
  },
  {
   "cell_type": "code",
   "execution_count": 7,
   "id": "c042e328-08f9-4589-b4e6-8c760a160eb9",
   "metadata": {},
   "outputs": [],
   "source": [
    "#для токенизации в ToxicBert\n",
    "def tokenizer3000toxic(batch):\n",
    "    return tokenizer_toxic(batch[\"text\"], \n",
    "                           truncation=True, \n",
    "                           padding=\"max_length\", \n",
    "                           max_length=300)"
   ]
  },
  {
   "cell_type": "code",
   "execution_count": 8,
   "id": "1a3fcda2-c858-4c3d-b4ca-156aa62139fb",
   "metadata": {},
   "outputs": [],
   "source": [
    "#для оценки в DistilBertForSequenceClassification\n",
    "def compute_metrics(eval_pred):\n",
    "    logits, labels = eval_pred\n",
    "    preds = logits.argmax(axis=1)\n",
    "    return {\"f1\": f1_score(labels, preds)}"
   ]
  },
  {
   "cell_type": "code",
   "execution_count": 9,
   "id": "540053fd-616b-4707-9b22-bb2b9a4627a3",
   "metadata": {},
   "outputs": [],
   "source": [
    "#для оценки в ToxicBert\n",
    "def compute_metrics_toxic(eval_pred):\n",
    "    logits, labels = eval_pred\n",
    "    preds = np.argmax(logits, axis=1)\n",
    "    return {\"f1\": f1_score(labels, preds)}"
   ]
  },
  {
   "cell_type": "markdown",
   "id": "590249d7-96a8-487d-bbd5-a72797c26bcb",
   "metadata": {},
   "source": [
    "## Предобработка данных"
   ]
  },
  {
   "cell_type": "markdown",
   "id": "ba1025d0-3309-4b3e-afab-11d29bbf1920",
   "metadata": {},
   "source": [
    "### Импорт и обзор данных"
   ]
  },
  {
   "cell_type": "code",
   "execution_count": 10,
   "id": "23d9a55e-8d1b-4361-8ae4-4013f9c701f6",
   "metadata": {},
   "outputs": [],
   "source": [
    "#импортируем данные\n",
    "try:\n",
    "    data = pd.read_csv('Desktop/practicum cases/toxic_comments.csv')\n",
    "except:\n",
    "    data = pd.read_csv('https://code.s3.yandex.net/datasets/toxic_comments.csv')"
   ]
  },
  {
   "cell_type": "code",
   "execution_count": 11,
   "id": "8c189472-59e5-43af-a81f-11f8cb5c3518",
   "metadata": {},
   "outputs": [
    {
     "data": {
      "text/html": [
       "<div>\n",
       "<style scoped>\n",
       "    .dataframe tbody tr th:only-of-type {\n",
       "        vertical-align: middle;\n",
       "    }\n",
       "\n",
       "    .dataframe tbody tr th {\n",
       "        vertical-align: top;\n",
       "    }\n",
       "\n",
       "    .dataframe thead th {\n",
       "        text-align: right;\n",
       "    }\n",
       "</style>\n",
       "<table border=\"1\" class=\"dataframe\">\n",
       "  <thead>\n",
       "    <tr style=\"text-align: right;\">\n",
       "      <th></th>\n",
       "      <th>Unnamed: 0</th>\n",
       "      <th>text</th>\n",
       "      <th>toxic</th>\n",
       "    </tr>\n",
       "  </thead>\n",
       "  <tbody>\n",
       "    <tr>\n",
       "      <th>0</th>\n",
       "      <td>0</td>\n",
       "      <td>Explanation\\nWhy the edits made under my usern...</td>\n",
       "      <td>0</td>\n",
       "    </tr>\n",
       "    <tr>\n",
       "      <th>1</th>\n",
       "      <td>1</td>\n",
       "      <td>D'aww! He matches this background colour I'm s...</td>\n",
       "      <td>0</td>\n",
       "    </tr>\n",
       "    <tr>\n",
       "      <th>2</th>\n",
       "      <td>2</td>\n",
       "      <td>Hey man, I'm really not trying to edit war. It...</td>\n",
       "      <td>0</td>\n",
       "    </tr>\n",
       "    <tr>\n",
       "      <th>3</th>\n",
       "      <td>3</td>\n",
       "      <td>\"\\nMore\\nI can't make any real suggestions on ...</td>\n",
       "      <td>0</td>\n",
       "    </tr>\n",
       "    <tr>\n",
       "      <th>4</th>\n",
       "      <td>4</td>\n",
       "      <td>You, sir, are my hero. Any chance you remember...</td>\n",
       "      <td>0</td>\n",
       "    </tr>\n",
       "    <tr>\n",
       "      <th>5</th>\n",
       "      <td>5</td>\n",
       "      <td>\"\\n\\nCongratulations from me as well, use the ...</td>\n",
       "      <td>0</td>\n",
       "    </tr>\n",
       "    <tr>\n",
       "      <th>6</th>\n",
       "      <td>6</td>\n",
       "      <td>COCKSUCKER BEFORE YOU PISS AROUND ON MY WORK</td>\n",
       "      <td>1</td>\n",
       "    </tr>\n",
       "    <tr>\n",
       "      <th>7</th>\n",
       "      <td>7</td>\n",
       "      <td>Your vandalism to the Matt Shirvington article...</td>\n",
       "      <td>0</td>\n",
       "    </tr>\n",
       "    <tr>\n",
       "      <th>8</th>\n",
       "      <td>8</td>\n",
       "      <td>Sorry if the word 'nonsense' was offensive to ...</td>\n",
       "      <td>0</td>\n",
       "    </tr>\n",
       "    <tr>\n",
       "      <th>9</th>\n",
       "      <td>9</td>\n",
       "      <td>alignment on this subject and which are contra...</td>\n",
       "      <td>0</td>\n",
       "    </tr>\n",
       "  </tbody>\n",
       "</table>\n",
       "</div>"
      ],
      "text/plain": [
       "   Unnamed: 0                                               text  toxic\n",
       "0           0  Explanation\\nWhy the edits made under my usern...      0\n",
       "1           1  D'aww! He matches this background colour I'm s...      0\n",
       "2           2  Hey man, I'm really not trying to edit war. It...      0\n",
       "3           3  \"\\nMore\\nI can't make any real suggestions on ...      0\n",
       "4           4  You, sir, are my hero. Any chance you remember...      0\n",
       "5           5  \"\\n\\nCongratulations from me as well, use the ...      0\n",
       "6           6       COCKSUCKER BEFORE YOU PISS AROUND ON MY WORK      1\n",
       "7           7  Your vandalism to the Matt Shirvington article...      0\n",
       "8           8  Sorry if the word 'nonsense' was offensive to ...      0\n",
       "9           9  alignment on this subject and which are contra...      0"
      ]
     },
     "execution_count": 11,
     "metadata": {},
     "output_type": "execute_result"
    }
   ],
   "source": [
    "data.head(10)"
   ]
  },
  {
   "cell_type": "code",
   "execution_count": 12,
   "id": "c8914c1a-27ee-4027-bb81-1b2511766684",
   "metadata": {},
   "outputs": [
    {
     "data": {
      "text/html": [
       "<div>\n",
       "<style scoped>\n",
       "    .dataframe tbody tr th:only-of-type {\n",
       "        vertical-align: middle;\n",
       "    }\n",
       "\n",
       "    .dataframe tbody tr th {\n",
       "        vertical-align: top;\n",
       "    }\n",
       "\n",
       "    .dataframe thead th {\n",
       "        text-align: right;\n",
       "    }\n",
       "</style>\n",
       "<table border=\"1\" class=\"dataframe\">\n",
       "  <thead>\n",
       "    <tr style=\"text-align: right;\">\n",
       "      <th></th>\n",
       "      <th>Unnamed: 0</th>\n",
       "      <th>text</th>\n",
       "      <th>toxic</th>\n",
       "    </tr>\n",
       "  </thead>\n",
       "  <tbody>\n",
       "    <tr>\n",
       "      <th>75223</th>\n",
       "      <td>75299</td>\n",
       "      <td>How's about this... Editing in such a way that...</td>\n",
       "      <td>0</td>\n",
       "    </tr>\n",
       "    <tr>\n",
       "      <th>53815</th>\n",
       "      <td>53876</td>\n",
       "      <td>Moi? Vandalize? I was out of reverts anyway. A...</td>\n",
       "      <td>0</td>\n",
       "    </tr>\n",
       "    <tr>\n",
       "      <th>73983</th>\n",
       "      <td>74055</td>\n",
       "      <td>Trust is earned, not given freely. You have bu...</td>\n",
       "      <td>0</td>\n",
       "    </tr>\n",
       "    <tr>\n",
       "      <th>100437</th>\n",
       "      <td>100534</td>\n",
       "      <td>ACS \\n\\nThe ACS clearly sets the standard in t...</td>\n",
       "      <td>0</td>\n",
       "    </tr>\n",
       "    <tr>\n",
       "      <th>86435</th>\n",
       "      <td>86516</td>\n",
       "      <td>For the record, U-Haul pickup trucks and cargo...</td>\n",
       "      <td>0</td>\n",
       "    </tr>\n",
       "    <tr>\n",
       "      <th>119567</th>\n",
       "      <td>119672</td>\n",
       "      <td>Oi Wankstain ==\\n\\nFuck off you ignorant cunt,...</td>\n",
       "      <td>1</td>\n",
       "    </tr>\n",
       "    <tr>\n",
       "      <th>30561</th>\n",
       "      <td>30601</td>\n",
       "      <td>Find some facts about a town or subject around...</td>\n",
       "      <td>0</td>\n",
       "    </tr>\n",
       "    <tr>\n",
       "      <th>31055</th>\n",
       "      <td>31095</td>\n",
       "      <td>As I understand it, her historical campaign st...</td>\n",
       "      <td>0</td>\n",
       "    </tr>\n",
       "    <tr>\n",
       "      <th>62584</th>\n",
       "      <td>62651</td>\n",
       "      <td>O&amp;A; and thirtysomething \\n\\nThe article alude...</td>\n",
       "      <td>0</td>\n",
       "    </tr>\n",
       "    <tr>\n",
       "      <th>56506</th>\n",
       "      <td>56567</td>\n",
       "      <td>YOU WONT BAN ME YOU FAGGG \\n ==</td>\n",
       "      <td>1</td>\n",
       "    </tr>\n",
       "  </tbody>\n",
       "</table>\n",
       "</div>"
      ],
      "text/plain": [
       "        Unnamed: 0                                               text  toxic\n",
       "75223        75299  How's about this... Editing in such a way that...      0\n",
       "53815        53876  Moi? Vandalize? I was out of reverts anyway. A...      0\n",
       "73983        74055  Trust is earned, not given freely. You have bu...      0\n",
       "100437      100534  ACS \\n\\nThe ACS clearly sets the standard in t...      0\n",
       "86435        86516  For the record, U-Haul pickup trucks and cargo...      0\n",
       "119567      119672  Oi Wankstain ==\\n\\nFuck off you ignorant cunt,...      1\n",
       "30561        30601  Find some facts about a town or subject around...      0\n",
       "31055        31095  As I understand it, her historical campaign st...      0\n",
       "62584        62651  O&A; and thirtysomething \\n\\nThe article alude...      0\n",
       "56506        56567                    YOU WONT BAN ME YOU FAGGG \\n ==      1"
      ]
     },
     "execution_count": 12,
     "metadata": {},
     "output_type": "execute_result"
    }
   ],
   "source": [
    "data.sample(10)"
   ]
  },
  {
   "cell_type": "code",
   "execution_count": 13,
   "id": "959c1979-68c6-41b8-b9eb-891f981829ff",
   "metadata": {},
   "outputs": [
    {
     "name": "stdout",
     "output_type": "stream",
     "text": [
      "<class 'pandas.core.frame.DataFrame'>\n",
      "RangeIndex: 159292 entries, 0 to 159291\n",
      "Data columns (total 3 columns):\n",
      " #   Column      Non-Null Count   Dtype \n",
      "---  ------      --------------   ----- \n",
      " 0   Unnamed: 0  159292 non-null  int64 \n",
      " 1   text        159292 non-null  object\n",
      " 2   toxic       159292 non-null  int64 \n",
      "dtypes: int64(2), object(1)\n",
      "memory usage: 3.6+ MB\n"
     ]
    }
   ],
   "source": [
    "data.info()"
   ]
  },
  {
   "cell_type": "code",
   "execution_count": 14,
   "id": "7d96640e-5ba6-4acf-bb26-c1565080ef1e",
   "metadata": {},
   "outputs": [
    {
     "name": "stdout",
     "output_type": "stream",
     "text": [
      "Кол-во явных дубликатов: 0\n"
     ]
    }
   ],
   "source": [
    "print('Кол-во явных дубликатов:', data.duplicated().sum())"
   ]
  },
  {
   "cell_type": "code",
   "execution_count": 15,
   "id": "b7974340-aca4-47ab-a9be-681986ad9a6b",
   "metadata": {},
   "outputs": [
    {
     "name": "stdout",
     "output_type": "stream",
     "text": [
      "Кол-во явных дубликатов в столбце текстов: 0\n"
     ]
    }
   ],
   "source": [
    "print('Кол-во явных дубликатов в столбце текстов:', data['text'].duplicated().sum())"
   ]
  },
  {
   "cell_type": "code",
   "execution_count": 16,
   "id": "02df6e12-26f2-4ebe-bc1d-050da5cbc8ea",
   "metadata": {},
   "outputs": [
    {
     "name": "stdout",
     "output_type": "stream",
     "text": [
      "Кол-во пропусков:\n"
     ]
    },
    {
     "data": {
      "text/plain": [
       "Unnamed: 0    0\n",
       "text          0\n",
       "toxic         0\n",
       "dtype: int64"
      ]
     },
     "execution_count": 16,
     "metadata": {},
     "output_type": "execute_result"
    }
   ],
   "source": [
    "print('Кол-во пропусков:')\n",
    "data.isna().sum()"
   ]
  },
  {
   "cell_type": "markdown",
   "id": "0a1afe87-6f8c-4c62-af02-3282f80693ab",
   "metadata": {},
   "source": [
    "**Итог обзора данных**\n",
    "- Тип данных ок.\n",
    "- Явных дубликатов нет, в т.ч. конкретно в столбце текстов.\n",
    "- Пропусков нет.\n",
    "- Столбец 'Unnamed: 0' имеет загадочное название и назначение, но он очень похож на набор старых индексов до предобработки текста. Т.к. он нам в работе не понадобится, мы его удалим.\n",
    "____\n",
    "\n",
    "**План по предобработке**\n",
    "- Удалить ненужный столбец.\n",
    "- Привести все тексты к нижнему регистру, чтобы проверить еще раз на дубликаты, менее явные.\n",
    "- ***Так как предобработку данных для моделей мы будем проделывать с фреймворками на базе Bert/токенизатором Bert, мы оставим знаки препинания и стоп-слова на месте.***"
   ]
  },
  {
   "cell_type": "markdown",
   "id": "181bacbe-012a-4065-9f54-d2b15b5a27d3",
   "metadata": {},
   "source": [
    "### Коррекция данных"
   ]
  },
  {
   "cell_type": "code",
   "execution_count": 17,
   "id": "e77b42f7-92c2-41b5-947e-036fb05f6622",
   "metadata": {},
   "outputs": [
    {
     "name": "stdout",
     "output_type": "stream",
     "text": [
      "Кол-во явных дубликатов после коррекции: 45\n",
      "Кол-во явных дубликатов после коррекции в столбце текстов: 46\n"
     ]
    }
   ],
   "source": [
    "#удалим ненужный столбец\n",
    "data = data.drop('Unnamed: 0', axis=1)\n",
    "#приведем тексты к нижнему регистру\n",
    "data['text'] = data['text'].str.lower()\n",
    "\n",
    "#проверим на дубликаты\n",
    "print('Кол-во явных дубликатов после коррекции:', data.duplicated().sum())\n",
    "print('Кол-во явных дубликатов после коррекции в столбце текстов:', data['text'].duplicated().sum())"
   ]
  },
  {
   "cell_type": "markdown",
   "id": "feb45344-cdbd-4f57-bb44-090f90a53246",
   "metadata": {},
   "source": [
    "- Это очень интересный результат, который намекает, что есть дубликаты текста, которые помечены по-разному в части токсичности."
   ]
  },
  {
   "cell_type": "code",
   "execution_count": 18,
   "id": "25db1f84-ef0f-4627-a592-b5b58ce788b6",
   "metadata": {},
   "outputs": [
    {
     "data": {
      "text/html": [
       "<div>\n",
       "<style scoped>\n",
       "    .dataframe tbody tr th:only-of-type {\n",
       "        vertical-align: middle;\n",
       "    }\n",
       "\n",
       "    .dataframe tbody tr th {\n",
       "        vertical-align: top;\n",
       "    }\n",
       "\n",
       "    .dataframe thead th {\n",
       "        text-align: right;\n",
       "    }\n",
       "</style>\n",
       "<table border=\"1\" class=\"dataframe\">\n",
       "  <thead>\n",
       "    <tr style=\"text-align: right;\">\n",
       "      <th></th>\n",
       "      <th>text</th>\n",
       "      <th>toxic</th>\n",
       "    </tr>\n",
       "  </thead>\n",
       "  <tbody>\n",
       "    <tr>\n",
       "      <th>80528</th>\n",
       "      <td>removing irrelevant nonsense\\n\\nad hominem att...</td>\n",
       "      <td>1</td>\n",
       "    </tr>\n",
       "    <tr>\n",
       "      <th>135364</th>\n",
       "      <td>removing irrelevant nonsense\\n\\nad hominem att...</td>\n",
       "      <td>0</td>\n",
       "    </tr>\n",
       "  </tbody>\n",
       "</table>\n",
       "</div>"
      ],
      "text/plain": [
       "                                                     text  toxic\n",
       "80528   removing irrelevant nonsense\\n\\nad hominem att...      1\n",
       "135364  removing irrelevant nonsense\\n\\nad hominem att...      0"
      ]
     },
     "execution_count": 18,
     "metadata": {},
     "output_type": "execute_result"
    }
   ],
   "source": [
    "#удалим дубликаты\n",
    "data = data.drop_duplicates().reset_index(drop=True)\n",
    "#посмотрим на коварную ошибку разметки\n",
    "data.loc[data['text'].duplicated(keep=False)]"
   ]
  },
  {
   "cell_type": "code",
   "execution_count": 19,
   "id": "3ae91343-74ef-4fbc-9940-207e7f07c7b8",
   "metadata": {},
   "outputs": [],
   "source": [
    "#мы смотрим на данные с ошибками и не осуждаем - мы удаляем то, что требует осуждения или \"помилования\"\n",
    "data = data.drop(index = [80528, 135364], axis=0).reset_index(drop=True)"
   ]
  },
  {
   "cell_type": "markdown",
   "id": "0f05be01-9dd3-45f0-b07f-fc21df700b42",
   "metadata": {},
   "source": [
    "### Выводы по предобработке"
   ]
  },
  {
   "cell_type": "markdown",
   "id": "d20425ef-c53e-47df-a4a4-35b5982e6c06",
   "metadata": {},
   "source": [
    "- Тип данных ок.\n",
    "- Пропусков нет.\n",
    "- Тексты были приведены к нижнему регистру.\n",
    "- Был удален нерелевантный столбец 'Unnamed: 0'.\n",
    "- Были удалены 45 полных дубликатов и 2 строчки с одинаковым текстом, но разными метками 'toxic'."
   ]
  },
  {
   "cell_type": "markdown",
   "id": "68a526e8-41f0-49c6-953b-c2ef405f255b",
   "metadata": {},
   "source": [
    "## Исследовательский анализ данных"
   ]
  },
  {
   "cell_type": "markdown",
   "id": "45cf5174-4379-4f41-9035-9577c903d1f2",
   "metadata": {},
   "source": [
    "### Оценка распределения длины отзывов"
   ]
  },
  {
   "cell_type": "code",
   "execution_count": 20,
   "id": "b8a53211-beac-4118-9e47-9695894c8e77",
   "metadata": {},
   "outputs": [
    {
     "data": {
      "image/png": "[encoded data removed]",
      "text/plain": [
       "<Figure size 1200x800 with 2 Axes>"
      ]
     },
     "metadata": {},
     "output_type": "display_data"
    }
   ],
   "source": [
    "data['text_length'] = data['text'].str.len()\n",
    "\n",
    "fig = plt.figure(figsize=(12, 8))\n",
    "gs = gridspec.GridSpec(2, 1, height_ratios=[3, 1]) \n",
    "\n",
    "axes = [fig.add_subplot(gs[0]), fig.add_subplot(gs[1])]\n",
    "fig.suptitle(\"Распределение длины текстов\", fontsize=16)\n",
    "\n",
    "palette = ['#87CEEB', '#4682B4', '#1E90FF', '#00BFFF', '#00CED1', '#40E0D0', '#468499', '#B0E0E6', '#66CDAA', '#6495ED']\n",
    "\n",
    "# Гистограмма\n",
    "data['text_length'].plot(\n",
    "    kind='hist',\n",
    "    alpha=0.7,\n",
    "    ax=axes[0],\n",
    "    color=palette[0],\n",
    "    bins=20)\n",
    "axes[0].set_ylabel('Количество текстов')\n",
    "axes[0].set_title(\"Гистограмма\")\n",
    "axes[0].set_xticklabels([])\n",
    "\n",
    "median = data['text_length'].median()\n",
    "mean = data['text_length'].mean()\n",
    "axes[0].axvline(median, color='blue', linestyle='dashed', linewidth=2, label=f'Медиана: {median:.2f}')\n",
    "axes[0].axvline(mean, color='orange', linestyle='dashed', linewidth=2, label=f'Среднее: {mean:.2f}')\n",
    "axes[0].legend()\n",
    "\n",
    "# Боксплот\n",
    "data['text_length'].plot(\n",
    "    kind='box',\n",
    "    ax=axes[1],\n",
    "    vert=False,\n",
    "    color={'boxes': 'DarkBlue', 'whiskers': 'gray', 'medians': 'red', 'caps': 'black'})\n",
    "axes[1].set_xlabel('Длина текста в символах')\n",
    "axes[1].set_yticklabels([])\n",
    "axes[1].set_ylabel('')\n",
    "axes[1].set_title(\"Диаграмма размаха\")\n",
    "\n",
    "plt.tight_layout(rect=[0, 0, 1, 0.96])\n",
    "plt.show()\n"
   ]
  },
  {
   "cell_type": "code",
   "execution_count": 21,
   "id": "949fb711-fa1a-4229-84e8-740023172287",
   "metadata": {},
   "outputs": [
    {
     "data": {
      "image/png": "[encoded data removed]",
      "text/plain": [
       "<Figure size 1500x1000 with 4 Axes>"
      ]
     },
     "metadata": {},
     "output_type": "display_data"
    }
   ],
   "source": [
    "data_toxic = data.query('toxic == 1')\n",
    "data_non_toxic = data.query('toxic == 0')\n",
    "\n",
    "fig = plt.figure(figsize=(15, 10))\n",
    "gs = gridspec.GridSpec(2, 2, height_ratios=[2, 2]) \n",
    "\n",
    "axes = [fig.add_subplot(gs[0]), fig.add_subplot(gs[1]), fig.add_subplot(gs[2]), fig.add_subplot(gs[3]),]\n",
    "fig.suptitle(\"Распределение длины текстов в зависимости от типа комментария\", fontsize=16)\n",
    "\n",
    "palette = ['#87CEEB', '#4682B4', '#1E90FF', '#00BFFF', '#00CED1', '#40E0D0', '#468499', '#B0E0E6', '#66CDAA', '#6495ED']\n",
    "\n",
    "# Гистограммы\n",
    "data_toxic['text_length'].plot(\n",
    "    kind='hist',\n",
    "    alpha=0.7,\n",
    "    ax=axes[0],\n",
    "    color=palette[0],\n",
    "    bins=20)\n",
    "axes[0].set_ylabel('Количество текстов')\n",
    "axes[0].set_title(\"Токсичные комментарии\")\n",
    "axes[0].set_xticklabels([])\n",
    "\n",
    "median = data_toxic['text_length'].median()\n",
    "mean = data_toxic['text_length'].mean()\n",
    "axes[0].axvline(median, color='blue', linestyle='dashed', linewidth=2, label=f'Медиана: {median:.2f}')\n",
    "axes[0].axvline(mean, color='orange', linestyle='dashed', linewidth=2, label=f'Среднее: {mean:.2f}')\n",
    "axes[0].legend()\n",
    "\n",
    "data_non_toxic['text_length'].plot(\n",
    "    kind='hist',\n",
    "    alpha=0.7,\n",
    "    ax=axes[2],\n",
    "    color=palette[0],\n",
    "    bins=20)\n",
    "axes[2].set_ylabel('Количество текстов')\n",
    "axes[2].set_title(\"Не_токсичные комментарии\")\n",
    "axes[2].set_xlabel('Длина текста в символах')\n",
    "\n",
    "\n",
    "median = data_non_toxic['text_length'].median()\n",
    "mean = data_non_toxic['text_length'].mean()\n",
    "axes[2].axvline(median, color='blue', linestyle='dashed', linewidth=2, label=f'Медиана: {median:.2f}')\n",
    "axes[2].axvline(mean, color='orange', linestyle='dashed', linewidth=2, label=f'Среднее: {mean:.2f}')\n",
    "axes[2].legend()\n",
    "\n",
    "# Боксплоты\n",
    "data_toxic['text_length'].plot(\n",
    "    kind='box',\n",
    "    ax=axes[1],\n",
    "    vert=False,\n",
    "    color={'boxes': 'DarkBlue', 'whiskers': 'gray', 'medians': 'red', 'caps': 'black'})\n",
    "axes[1].set_yticklabels([])\n",
    "axes[1].set_ylabel('')\n",
    "axes[1].set_title('Токсичные комментарии')\n",
    "axes[1].set_xticklabels([])\n",
    "\n",
    "\n",
    "data_non_toxic['text_length'].plot(\n",
    "    kind='box',\n",
    "    ax=axes[3],\n",
    "    vert=False,\n",
    "    color={'boxes': 'DarkBlue', 'whiskers': 'gray', 'medians': 'red', 'caps': 'black'})\n",
    "axes[3].set_xlabel('Длина текста в символах')\n",
    "axes[3].set_yticklabels([])\n",
    "axes[3].set_ylabel('')\n",
    "axes[3].set_title(\"Не_токсичные комментарии\")\n",
    "\n",
    "plt.tight_layout(rect=[0, 0, 1, 0.96])\n",
    "plt.show()\n"
   ]
  },
  {
   "cell_type": "code",
   "execution_count": 22,
   "id": "5c1ec92a-d836-4a1f-a22a-75e5e6aa282d",
   "metadata": {},
   "outputs": [
    {
     "data": {
      "text/plain": [
       "13323"
      ]
     },
     "execution_count": 22,
     "metadata": {},
     "output_type": "execute_result"
    }
   ],
   "source": [
    "len(data.query('text_length > 1000'))"
   ]
  },
  {
   "cell_type": "markdown",
   "id": "92bc9825-478e-45ed-9e04-b8bbaac3c1c9",
   "metadata": {},
   "source": [
    "- Медиана длины всех текстов - 205 знаков. Из-за хвоста графоманов среднее отличается от медианы почти вдвое - 394.\n",
    "- Если смотреть по типам комментариев, то адекватный комментарий и по среднему значению, и по медиане вдвое длиннее токсичного.\n",
    "- Однако, в целом комментарии больше 1000 знаков - это и довольно редкий случай (10% всего датасета), и малоинформативный избыток. Идея \"длинный комментарий скорее всего добрый\" может считаться уже с 600-700 знаков: больше 600-700 знаков - аномалия для токсичного, но норма для адекватного комментария.\n",
    "- Пласт графоманов мы не будем отсекать от датасета (хотя тоже не велика потеря была бы), т.к. формально он не ошибка, такое бывает - зато будем уверенно использовать DistilBertTokenizer с ограничением max_length=512."
   ]
  },
  {
   "cell_type": "markdown",
   "id": "f8f0be92-462e-4da8-9473-354b38aef886",
   "metadata": {},
   "source": [
    "### Проверка баланса классов в целевом признаке"
   ]
  },
  {
   "cell_type": "code",
   "execution_count": 23,
   "id": "0da34ed1-2ffe-4263-b048-f6331af30850",
   "metadata": {},
   "outputs": [
    {
     "data": {
      "image/png": "[encoded data removed]",
      "text/plain": [
       "<Figure size 1000x600 with 1 Axes>"
      ]
     },
     "metadata": {},
     "output_type": "display_data"
    }
   ],
   "source": [
    "plt.figure(figsize=(10, 6)) \n",
    "sns.countplot(x='toxic', data=data, color='#6495ED')\n",
    "plt.ylabel('Число отзывов')\n",
    "plt.xlabel('Токсичность: 0 - \"приемлемый\", 1 - \"токсичный\"')\n",
    "plt.title('Распределение отзывов по токсичности')\n",
    "plt.tight_layout()\n",
    "plt.show();"
   ]
  },
  {
   "cell_type": "code",
   "execution_count": 24,
   "id": "df657405-c2fd-48ac-a5a4-def6ac692c4a",
   "metadata": {},
   "outputs": [
    {
     "data": {
      "text/plain": [
       "toxic\n",
       "0    143075\n",
       "1     16170\n",
       "Name: count, dtype: int64"
      ]
     },
     "execution_count": 24,
     "metadata": {},
     "output_type": "execute_result"
    }
   ],
   "source": [
    "data['toxic'].value_counts()"
   ]
  },
  {
   "cell_type": "markdown",
   "id": "22898200-ae98-45ab-9e21-78ad34a1193b",
   "metadata": {},
   "source": [
    "- Токсичных отзывов чуть больше 10% от общего числа.\n",
    "- Такой дисбаланс ожидаем и нормален, однако, его надо учесть при дальнейшей работе."
   ]
  },
  {
   "cell_type": "markdown",
   "id": "475739bc-ebf5-4fa1-bb04-3bd272406f44",
   "metadata": {},
   "source": [
    "### Выводы по исследовательскому анализу"
   ]
  },
  {
   "cell_type": "markdown",
   "id": "6942d95c-f0e2-40b2-bfa0-deb0b43503c3",
   "metadata": {},
   "source": [
    "- Токсичные комментарии обычно почти вдвое короче - по медиане и по среднему значению, - чем не_токсичные комментарии.\n",
    "- Наблюдается длинный, но немногочисленный хвост нетипично длинных отзывов. Трогать его пока без нужды не будем: посмотрим на работу моделей + DistilBertTokenizer сам какую-то часть отсечет из-за внутреннего порога.\n",
    "- Наблюдается заметный дисбаланс классов у целевого признака: токсичными являются чуть больше 10% отзывов, а остальные - обычные.\n",
    "  В дальнейшем мы учтем эту особенность:\n",
    "  - стратифицируем выборки\n",
    "  - при необходимости (в зависимости от результатов) уточним class_weight или еще что похуже"
   ]
  },
  {
   "cell_type": "markdown",
   "id": "79dac862-afcb-4413-b431-c5b0d531815b",
   "metadata": {},
   "source": [
    "## Создание моделей"
   ]
  },
  {
   "cell_type": "markdown",
   "id": "09cafade-709e-4296-b9b8-6d7fab3372a8",
   "metadata": {},
   "source": [
    "Для решения задачи мы обучим две модели и применим два способа обработки данных.\n",
    "- Модель LogisticRegression мы обучим и проверим на данных, обработанных с помощью ToxicBert.\n",
    "- Модель DistilBertForSequenceClassification мы обучим и проверим на данных, обработанных с соответствующим токенайзером.\n",
    "___________\n",
    "\n",
    "***Из-за специфики работы с Trainer для DistilBertForSequenceClassification, мы формально дважды разобьем данные на выборки, но это будут абсолютно идентичные выборки - за счет одинакового random_state.***\n",
    "\n",
    "__________\n",
    "***Мы воздержимся от LabelEncoder***, т.к. у нас признаки уже красивые, числовые и бинарные: 0 - \"нет, не токсичный\", 1 - \"да, токсичный\"."
   ]
  },
  {
   "cell_type": "markdown",
   "id": "1348e407-04ea-4673-9833-4568db132b92",
   "metadata": {},
   "source": [
    "### Модель LogisticRegression"
   ]
  },
  {
   "cell_type": "markdown",
   "id": "93206ad1-ef7d-4167-bd30-438f53a90c3e",
   "metadata": {},
   "source": [
    "- Разобьем данные на тренеровочную, валидационную и тестовую выборки с учетом дисбаланса целевого признака.\n",
    "- Токенизируем с помощью автотокенизатора на базе ToxicBert, а потом получим эмбеддинги CLS-токена по версии модели ToxicBert.\n",
    "- Обучим модель LogisticRegression на эмбеддингах и проверим метрику F1 ее на валидационных данных."
   ]
  },
  {
   "cell_type": "markdown",
   "id": "b503366d-449b-477f-ae97-02020edec661",
   "metadata": {},
   "source": [
    "#### Разбиение на выборки"
   ]
  },
  {
   "cell_type": "code",
   "execution_count": 25,
   "id": "18328926-3924-4443-ab2f-1bce38dc7114",
   "metadata": {},
   "outputs": [
    {
     "name": "stdout",
     "output_type": "stream",
     "text": [
      "Размеренность входных данных: 159245\n",
      "Размеренность тренеровочных данных: 127396\n",
      "Размеренность валидационных данных: 15924\n",
      "Размеренность тестовых данных: 15925\n"
     ]
    }
   ],
   "source": [
    "X = data['text'].values\n",
    "y = data['toxic'].values\n",
    "\n",
    "X_train, X_temp, y_train, y_temp = train_test_split(X, y, test_size=0.2, stratify=y, random_state=RANDOM_STATE)\n",
    "X_val, X_test, y_val, y_test = train_test_split(X_temp, y_temp, test_size=0.5, stratify=y_temp, random_state=RANDOM_STATE)\n",
    "\n",
    "\n",
    "print('Размеренность входных данных:', X.shape[0])\n",
    "print('Размеренность тренеровочных данных:', X_train.shape[0])\n",
    "print('Размеренность валидационных данных:', X_val.shape[0])\n",
    "print('Размеренность тестовых данных:', X_test.shape[0])"
   ]
  },
  {
   "cell_type": "markdown",
   "id": "24e4543c-3fd3-4bcb-94d1-9b20aaf4a0ad",
   "metadata": {},
   "source": [
    "#### Обработка данных с ToxicBert"
   ]
  },
  {
   "cell_type": "code",
   "execution_count": 26,
   "id": "7ac94e6a-d7d7-4deb-9ab9-cc9f3d5df56c",
   "metadata": {},
   "outputs": [
    {
     "name": "stderr",
     "output_type": "stream",
     "text": [
      "C:\\Users\\user\\anaconda3\\envs\\practicum\\lib\\site-packages\\torch\\nn\\modules\\module.py:1747: FutureWarning: `encoder_attention_mask` is deprecated and will be removed in version 4.55.0 for `BertSdpaSelfAttention.forward`.\n",
      "  return forward_call(*args, **kwargs)\n",
      "Extracting CLS embeddings: 100%|███████████████████████████████████████████████████| 7963/7963 [11:55<00:00, 11.13it/s]\n",
      "Extracting CLS embeddings: 100%|█████████████████████████████████████████████████████| 996/996 [01:29<00:00, 11.17it/s]\n",
      "Extracting CLS embeddings: 100%|█████████████████████████████████████████████████████| 996/996 [01:29<00:00, 11.16it/s]"
     ]
    },
    {
     "name": "stdout",
     "output_type": "stream",
     "text": [
      "Размеренность тренеровочных данных: (127396, 768)\n",
      "Размеренность валидационных данных: (15924, 768)\n",
      "Размеренность тестовых данных: (15925, 768)\n"
     ]
    },
    {
     "name": "stderr",
     "output_type": "stream",
     "text": [
      "\n"
     ]
    }
   ],
   "source": [
    "#инициируем модель и токейназер, специализированные для токсичных текстов\n",
    "tokenizer = AutoTokenizer.from_pretrained('unitary/toxic-bert')\n",
    "model = AutoModel.from_pretrained('unitary/toxic-bert').to(device)\n",
    "\n",
    "#обрабатываем данные для модели\n",
    "train_dataset = TextDataset(X_train, tokenizer)\n",
    "val_dataset = TextDataset(X_val, tokenizer)\n",
    "test_dataset = TextDataset(X_test, tokenizer)\n",
    "\n",
    "train_loader = DataLoader(train_dataset, batch_size=BATCH_SIZE, shuffle=False)\n",
    "val_loader = DataLoader(val_dataset, batch_size=BATCH_SIZE, shuffle=False)\n",
    "test_loader = DataLoader(test_dataset, batch_size=BATCH_SIZE, shuffle=False)\n",
    "\n",
    "train_embeddings = extract_cls_embeddings(train_loader, model, device)\n",
    "val_embeddings = extract_cls_embeddings(val_loader, model, device)\n",
    "test_embeddings = extract_cls_embeddings(test_loader, model, device)\n",
    "\n",
    "#проверим размеренность\n",
    "print('Размеренность тренеровочных данных:', train_embeddings.shape)\n",
    "print('Размеренность валидационных данных:', val_embeddings.shape)\n",
    "print('Размеренность тестовых данных:', test_embeddings.shape)"
   ]
  },
  {
   "cell_type": "markdown",
   "id": "9ae6b211-0027-4077-920c-d5f558ce2392",
   "metadata": {},
   "source": [
    "#### Обучение и валидация LogisticRegression"
   ]
  },
  {
   "cell_type": "code",
   "execution_count": 27,
   "id": "8b783673-5465-46a5-a143-8c67ef5d163b",
   "metadata": {},
   "outputs": [
    {
     "name": "stdout",
     "output_type": "stream",
     "text": [
      "Значение F1 для модели LogisticRegression на валидационных данных: 0.9363037339190461\n"
     ]
    }
   ],
   "source": [
    "#инициация и обучение модели логистической регрессии\n",
    "model_lr = LogisticRegression(max_iter=1000)\n",
    "model_lr.fit(train_embeddings, y_train)\n",
    "\n",
    "#проверка модели на валидационных данных\n",
    "prediction_lr_val = model_lr.predict(val_embeddings)\n",
    "f1_prediction_lr_val = f1_score(y_val, prediction_lr_val)\n",
    "print('Значение F1 для модели LogisticRegression на валидационных данных:', f1_prediction_lr_val)"
   ]
  },
  {
   "cell_type": "markdown",
   "id": "a3f0d948-d0c7-4624-b14c-39a156553546",
   "metadata": {},
   "source": [
    "- Отличная метрика F1, равная 0.94.\n",
    "- Модель быстро учится.\n",
    "- Удобно настраивать порог токсичности."
   ]
  },
  {
   "cell_type": "markdown",
   "id": "9361d1b2-1b66-4c87-a3a0-bf13f1656cf8",
   "metadata": {},
   "source": [
    "### Модель DistilBertForSequenceClassification"
   ]
  },
  {
   "cell_type": "markdown",
   "id": "b0910510-b6f0-42b2-b074-01bc3cae01cd",
   "metadata": {},
   "source": [
    "- Разобьем данные на тренеровочную, валидационную и тестовую выборки с учетом дисбаланса целевого признака.\n",
    "- Токенизируем данные с DistilBertTokenizer.\n",
    "- Обучим с помощью Trainer модель DistilBertForSequenceClassification."
   ]
  },
  {
   "cell_type": "markdown",
   "id": "f5cc209d-bc19-4cc9-a6f9-70e3debc9cb2",
   "metadata": {},
   "source": [
    "#### Разбиение на выборки"
   ]
  },
  {
   "cell_type": "code",
   "execution_count": 28,
   "id": "36d267f7-9ab5-49b6-adb4-e0ca5c19a6ba",
   "metadata": {},
   "outputs": [
    {
     "data": {
      "application/vnd.jupyter.widget-view+json": {
       "model_id": "27cf0b79db6e4b42986c973735920cff",
       "version_major": 2,
       "version_minor": 0
      },
      "text/plain": [
       "Stringifying the column:   0%|          | 0/127396 [00:00<?, ? examples/s]"
      ]
     },
     "metadata": {},
     "output_type": "display_data"
    },
    {
     "data": {
      "application/vnd.jupyter.widget-view+json": {
       "model_id": "cb84cee9e86e4b9eb14832a493335e10",
       "version_major": 2,
       "version_minor": 0
      },
      "text/plain": [
       "Casting to class labels:   0%|          | 0/127396 [00:00<?, ? examples/s]"
      ]
     },
     "metadata": {},
     "output_type": "display_data"
    },
    {
     "data": {
      "application/vnd.jupyter.widget-view+json": {
       "model_id": "d11c028373bd4e26ae3c1502d6aaad7b",
       "version_major": 2,
       "version_minor": 0
      },
      "text/plain": [
       "Stringifying the column:   0%|          | 0/15924 [00:00<?, ? examples/s]"
      ]
     },
     "metadata": {},
     "output_type": "display_data"
    },
    {
     "data": {
      "application/vnd.jupyter.widget-view+json": {
       "model_id": "c63685745f414909b4922dc82522e20d",
       "version_major": 2,
       "version_minor": 0
      },
      "text/plain": [
       "Casting to class labels:   0%|          | 0/15924 [00:00<?, ? examples/s]"
      ]
     },
     "metadata": {},
     "output_type": "display_data"
    },
    {
     "data": {
      "application/vnd.jupyter.widget-view+json": {
       "model_id": "10856fd6e6fc439e85acd38eb98666f5",
       "version_major": 2,
       "version_minor": 0
      },
      "text/plain": [
       "Stringifying the column:   0%|          | 0/15925 [00:00<?, ? examples/s]"
      ]
     },
     "metadata": {},
     "output_type": "display_data"
    },
    {
     "data": {
      "application/vnd.jupyter.widget-view+json": {
       "model_id": "66b155df34484a999a81289c72e8c15f",
       "version_major": 2,
       "version_minor": 0
      },
      "text/plain": [
       "Casting to class labels:   0%|          | 0/15925 [00:00<?, ? examples/s]"
      ]
     },
     "metadata": {},
     "output_type": "display_data"
    },
    {
     "name": "stdout",
     "output_type": "stream",
     "text": [
      "Размеренность входных данных: 159245\n",
      "Размеренность тренеровочных данных: 127396\n",
      "Размеренность валидационных данных: 15924\n",
      "Размеренность тестовых данных: 15925\n"
     ]
    }
   ],
   "source": [
    "#разобьем данные на тренеровочные и обучающие с учетом дисбаланса признаков\n",
    "train, temp = train_test_split(data[['text', 'toxic']],\n",
    "                               test_size = 0.2,\n",
    "                               random_state=RANDOM_STATE ,\n",
    "                               stratify=data['toxic'])\n",
    "\n",
    "val, test = train_test_split(temp,\n",
    "                             test_size = 0.5,\n",
    "                             random_state=RANDOM_STATE,\n",
    "                             stratify=temp['toxic'])\n",
    "\n",
    "\n",
    "train = Dataset.from_pandas(train.rename({'toxic': 'labels'},\n",
    "                                         axis=1)).class_encode_column(\"labels\")\n",
    "val = Dataset.from_pandas(val.rename({'toxic': 'labels'},\n",
    "                                         axis=1)).class_encode_column(\"labels\")\n",
    "test = Dataset.from_pandas(test.rename({'toxic': 'labels'},\n",
    "                                       axis=1)).class_encode_column(\"labels\")\n",
    "\n",
    "#проверим размеренность\n",
    "print('Размеренность входных данных:', data.shape[0])\n",
    "print('Размеренность тренеровочных данных:', train.shape[0])\n",
    "print('Размеренность валидационных данных:', val.shape[0])\n",
    "print('Размеренность тестовых данных:', test.shape[0])"
   ]
  },
  {
   "cell_type": "markdown",
   "id": "74cbb47d-4b8e-4578-9766-625e530928a2",
   "metadata": {},
   "source": [
    "#### Токенизация данных с DistilBertTokenizer"
   ]
  },
  {
   "cell_type": "code",
   "execution_count": 29,
   "id": "f9672811-bfd8-4705-bb97-e224a82b469a",
   "metadata": {},
   "outputs": [
    {
     "data": {
      "application/vnd.jupyter.widget-view+json": {
       "model_id": "915498bc048c402eac73ff81d08bd4e9",
       "version_major": 2,
       "version_minor": 0
      },
      "text/plain": [
       "Map:   0%|          | 0/127396 [00:00<?, ? examples/s]"
      ]
     },
     "metadata": {},
     "output_type": "display_data"
    },
    {
     "data": {
      "application/vnd.jupyter.widget-view+json": {
       "model_id": "f1cdd157f2b047e4af2f00cc69ec101a",
       "version_major": 2,
       "version_minor": 0
      },
      "text/plain": [
       "Map:   0%|          | 0/15924 [00:00<?, ? examples/s]"
      ]
     },
     "metadata": {},
     "output_type": "display_data"
    },
    {
     "data": {
      "application/vnd.jupyter.widget-view+json": {
       "model_id": "a853a02052c64dc685808834a13c64f9",
       "version_major": 2,
       "version_minor": 0
      },
      "text/plain": [
       "Map:   0%|          | 0/15925 [00:00<?, ? examples/s]"
      ]
     },
     "metadata": {},
     "output_type": "display_data"
    }
   ],
   "source": [
    "tokenizer = DistilBertTokenizer.from_pretrained('distilbert-base-uncased')\n",
    "\n",
    "train_tokenized = train.map(tokenizator3000, batched=True)\n",
    "val_tokenized = val.map(tokenizator3000, batched=True)\n",
    "test_tokenized = test.map(tokenizator3000, batched=True)"
   ]
  },
  {
   "cell_type": "markdown",
   "id": "b98cce10-1219-4aa1-a7c5-68464b0323eb",
   "metadata": {},
   "source": [
    "#### Обучение и валидация модели DistilBertForSequenceClassification"
   ]
  },
  {
   "cell_type": "code",
   "execution_count": 30,
   "id": "63bd70b0-8b61-4f58-b6b8-493423a16d5a",
   "metadata": {},
   "outputs": [
    {
     "name": "stderr",
     "output_type": "stream",
     "text": [
      "Some weights of DistilBertForSequenceClassification were not initialized from the model checkpoint at distilbert-base-uncased and are newly initialized: ['classifier.bias', 'classifier.weight', 'pre_classifier.bias', 'pre_classifier.weight']\n",
      "You should probably TRAIN this model on a down-stream task to be able to use it for predictions and inference.\n",
      "C:\\Users\\user\\AppData\\Local\\Temp\\ipykernel_24232\\1741711534.py:20: FutureWarning: `tokenizer` is deprecated and will be removed in version 5.0.0 for `Trainer.__init__`. Use `processing_class` instead.\n",
      "  trainer = Trainer(\n"
     ]
    },
    {
     "data": {
      "text/html": [
       "\n",
       "    <div>\n",
       "      \n",
       "      <progress value='15926' max='15926' style='width:300px; height:20px; vertical-align: middle;'></progress>\n",
       "      [15926/15926 2:36:16, Epoch 2/2]\n",
       "    </div>\n",
       "    <table border=\"1\" class=\"dataframe\">\n",
       "  <thead>\n",
       " <tr style=\"text-align: left;\">\n",
       "      <th>Epoch</th>\n",
       "      <th>Training Loss</th>\n",
       "      <th>Validation Loss</th>\n",
       "      <th>F1</th>\n",
       "    </tr>\n",
       "  </thead>\n",
       "  <tbody>\n",
       "    <tr>\n",
       "      <td>1</td>\n",
       "      <td>0.078300</td>\n",
       "      <td>0.090809</td>\n",
       "      <td>0.844956</td>\n",
       "    </tr>\n",
       "    <tr>\n",
       "      <td>2</td>\n",
       "      <td>0.045200</td>\n",
       "      <td>0.105361</td>\n",
       "      <td>0.848939</td>\n",
       "    </tr>\n",
       "  </tbody>\n",
       "</table><p>"
      ],
      "text/plain": [
       "<IPython.core.display.HTML object>"
      ]
     },
     "metadata": {},
     "output_type": "display_data"
    },
    {
     "name": "stderr",
     "output_type": "stream",
     "text": [
      "IOPub message rate exceeded.\n",
      "The Jupyter server will temporarily stop sending output\n",
      "to the client in order to avoid crashing it.\n",
      "To change this limit, set the config variable\n",
      "`--ServerApp.iopub_msg_rate_limit`.\n",
      "\n",
      "Current values:\n",
      "ServerApp.iopub_msg_rate_limit=1000.0 (msgs/sec)\n",
      "ServerApp.rate_limit_window=3.0 (secs)\n",
      "\n"
     ]
    },
    {
     "data": {
      "text/plain": [
       "TrainOutput(global_step=15926, training_loss=0.0828590019255536, metrics={'train_runtime': 9377.8047, 'train_samples_per_second': 27.17, 'train_steps_per_second': 1.698, 'total_flos': 3.375163343835955e+16, 'train_loss': 0.0828590019255536, 'epoch': 2.0})"
      ]
     },
     "execution_count": 30,
     "metadata": {},
     "output_type": "execute_result"
    }
   ],
   "source": [
    "#сейчас мы всё сломаем - всё в себе\n",
    "\n",
    "model = DistilBertForSequenceClassification.from_pretrained('distilbert-base-uncased', num_labels=2)\n",
    "model.to(device)\n",
    "\n",
    "training_args = TrainingArguments(\n",
    "    output_dir='./model',\n",
    "    learning_rate=2e-5,\n",
    "    per_device_train_batch_size=16,\n",
    "    per_device_eval_batch_size=16,\n",
    "    num_train_epochs=2,\n",
    "    save_strategy='epoch',\n",
    "    save_total_limit=1,\n",
    "    logging_dir=\"./logs\",\n",
    "    logging_steps=50,\n",
    "    load_best_model_at_end=True,\n",
    "    eval_strategy='epoch',\n",
    "    metric_for_best_model='f1')\n",
    "\n",
    "trainer = Trainer(\n",
    "    model=model,\n",
    "    args=training_args,\n",
    "    train_dataset=train_tokenized,\n",
    "    eval_dataset=val_tokenized,\n",
    "    tokenizer=tokenizer,\n",
    "    compute_metrics=compute_metrics)\n",
    "\n",
    "trainer.train()"
   ]
  },
  {
   "cell_type": "code",
   "execution_count": 31,
   "id": "b3cf9917-9525-45b7-afe8-a2a3ca799eca",
   "metadata": {},
   "outputs": [
    {
     "data": {
      "text/html": [
       "\n",
       "    <div>\n",
       "      \n",
       "      <progress value='996' max='996' style='width:300px; height:20px; vertical-align: middle;'></progress>\n",
       "      [996/996 03:00]\n",
       "    </div>\n",
       "    "
      ],
      "text/plain": [
       "<IPython.core.display.HTML object>"
      ]
     },
     "metadata": {},
     "output_type": "display_data"
    },
    {
     "name": "stdout",
     "output_type": "stream",
     "text": [
      "Значение F1 для модели DistilBertForSequenceClassification на валидационных данных: 0.8489388264669163\n"
     ]
    }
   ],
   "source": [
    "f1_prediction_db_val = trainer.evaluate()\n",
    "print('Значение F1 для модели DistilBertForSequenceClassification на валидационных данных:', f1_prediction_db_val['eval_f1'])"
   ]
  },
  {
   "cell_type": "markdown",
   "id": "4176ba9f-2203-44a3-bb2d-296d861c1b94",
   "metadata": {},
   "source": [
    "- Хорошая метрика F1, равная 0.85.\n",
    "- Модель относительно долго обучается (хотя в сравнении с полнокровной Toxic Bert - пуля)."
   ]
  },
  {
   "cell_type": "markdown",
   "id": "eda8fcf2-385f-418f-bd0c-a8efaf28f411",
   "metadata": {},
   "source": [
    "### Сравнительный анализ "
   ]
  },
  {
   "cell_type": "code",
   "execution_count": 32,
   "id": "3a0ee80c-8407-481b-a57f-291418dc5c3f",
   "metadata": {},
   "outputs": [
    {
     "data": {
      "text/html": [
       "<div>\n",
       "<style scoped>\n",
       "    .dataframe tbody tr th:only-of-type {\n",
       "        vertical-align: middle;\n",
       "    }\n",
       "\n",
       "    .dataframe tbody tr th {\n",
       "        vertical-align: top;\n",
       "    }\n",
       "\n",
       "    .dataframe thead th {\n",
       "        text-align: right;\n",
       "    }\n",
       "</style>\n",
       "<table border=\"1\" class=\"dataframe\">\n",
       "  <thead>\n",
       "    <tr style=\"text-align: right;\">\n",
       "      <th></th>\n",
       "      <th>Модель</th>\n",
       "      <th>F1 на валидационной выборке</th>\n",
       "    </tr>\n",
       "  </thead>\n",
       "  <tbody>\n",
       "    <tr>\n",
       "      <th>0</th>\n",
       "      <td>Logistic Regression</td>\n",
       "      <td>0.94</td>\n",
       "    </tr>\n",
       "    <tr>\n",
       "      <th>1</th>\n",
       "      <td>DistilBertForSequenceClassification</td>\n",
       "      <td>0.85</td>\n",
       "    </tr>\n",
       "  </tbody>\n",
       "</table>\n",
       "</div>"
      ],
      "text/plain": [
       "                                Модель  F1 на валидационной выборке\n",
       "0                  Logistic Regression                         0.94\n",
       "1  DistilBertForSequenceClassification                         0.85"
      ]
     },
     "execution_count": 32,
     "metadata": {},
     "output_type": "execute_result"
    }
   ],
   "source": [
    "#соберем данные в табличку\n",
    "models_comparison = pd.DataFrame({'Модель': ['Logistic Regression', 'DistilBertForSequenceClassification'],\n",
    "                                  'F1 на валидационной выборке': [round(f1_prediction_lr_val, 2), round(f1_prediction_db_val[\"eval_f1\"], 2)]})\n",
    "\n",
    "models_comparison"
   ]
  },
  {
   "cell_type": "markdown",
   "id": "3620f3af-2ad0-48d1-8812-e2c77fd4c946",
   "metadata": {},
   "source": [
    "- На валидационных данных значительно лучше себя показала модель LogisticRegression."
   ]
  },
  {
   "cell_type": "markdown",
   "id": "a467201b-9b7f-4d67-a2e3-3d9f63463316",
   "metadata": {},
   "source": [
    "### Тест и анализ выбранной модели"
   ]
  },
  {
   "cell_type": "code",
   "execution_count": 34,
   "id": "f6a30271-0f67-4f7e-a728-63ba548ce093",
   "metadata": {},
   "outputs": [
    {
     "name": "stdout",
     "output_type": "stream",
     "text": [
      "Значение F1 для модели LogisticRegression на валидационных данных: 0.9383025367992484\n"
     ]
    }
   ],
   "source": [
    "#оценим метрику на тестовой выборке\n",
    "prediction_lr_test = model_lr.predict(test_embeddings)\n",
    "f1_prediction_lr_test = f1_score(y_test, prediction_lr_test)\n",
    "print('Значение F1 для модели LogisticRegression на валидационных данных:', f1_prediction_lr_test)"
   ]
  },
  {
   "cell_type": "code",
   "execution_count": 35,
   "id": "a9b0e9ad-da76-4a91-a388-e38e4f616a82",
   "metadata": {},
   "outputs": [
    {
     "name": "stdout",
     "output_type": "stream",
     "text": [
      "              precision    recall  f1-score   support\n",
      "\n",
      "           0       0.99      0.99      0.99     14308\n",
      "           1       0.95      0.93      0.94      1617\n",
      "\n",
      "    accuracy                           0.99     15925\n",
      "   macro avg       0.97      0.96      0.97     15925\n",
      "weighted avg       0.99      0.99      0.99     15925\n",
      "\n"
     ]
    },
    {
     "data": {
      "image/png": "[encoded data removed]",
      "text/plain": [
       "<Figure size 640x480 with 2 Axes>"
      ]
     },
     "metadata": {},
     "output_type": "display_data"
    }
   ],
   "source": [
    "#посмотрим, где и как модель ошибается\n",
    "print(classification_report(y_test, prediction_lr_test))\n",
    "\n",
    "sns.heatmap(confusion_matrix(y_test, prediction_lr_test, normalize='true'),\n",
    "            annot=True,\n",
    "            fmt='0.2%',\n",
    "            cmap='Blues')\n",
    "plt.show()"
   ]
  },
  {
   "cell_type": "markdown",
   "id": "92de9fa4-96da-433c-8d4c-10ba664571b2",
   "metadata": {},
   "source": [
    "- Модель имеет прекрасный-стабильный показатель F1 на тестовой выборке - 0.94.\n",
    "- Модель в целом отлично справляется с идентификацией не_токсичных комментариев, однако делает 7.36% ошибок второго типа.\n",
    "- Для улучшения результатов в части полноты выявления токсичных комментариев можно скорректировать порог идентификации комментария как токсичного (однако, это скорее пойдет в ущерб точности выявления нетоксичных комментариев и создаст дополнительную нагрузку на проверяющих)."
   ]
  },
  {
   "cell_type": "markdown",
   "id": "ec290e50-2199-406a-9666-0a134ff21b83",
   "metadata": {},
   "source": [
    "### Выводы по созданию моделей"
   ]
  },
  {
   "cell_type": "markdown",
   "id": "1b8cd50f-905c-468a-90e2-cf2a5e69db9e",
   "metadata": {},
   "source": [
    "- Рекомендуемая по результатам обучения и валидации модель - LogisticRegression.\n",
    "- F1 рекомендуемой модели на валидационных и тестовых данных равен 0.94, что выше заявленного порогового значения 0.75."
   ]
  },
  {
   "cell_type": "markdown",
   "id": "376d14e2-5b18-41f9-840a-654cc0a95277",
   "metadata": {},
   "source": [
    "## Общие выводы"
   ]
  },
  {
   "cell_type": "markdown",
   "id": "4bac51fc-1b80-457c-84b5-6aec9f8c76ec",
   "metadata": {},
   "source": [
    "**Ход проекта**\n",
    "1. **Обзор и предобработка данных**\n",
    "   - Значительных минусов или аномалий в данных не выявлено.\n",
    "   - Был удален нерелевантный столбец 'Unnamed: 0'.\n",
    "   - Были удалены 45 полных дубликатов и 2 строчки с одинаковым текстом, но разными метками 'toxic'.\n",
    "2. **Исследовательский анализ данных**\n",
    "   - Токсичные комментарии обычно почти вдвое короче - по медиане и по среднему значению, - чем не_токсичные комментарии.\n",
    "   - В целом комментарии больше 1000 знаков редкость (10% всех данных), особенно для токсичных комментариев, но они вполне реальны и достоверны. Их отсекать мы не стали.\n",
    "   - В данных есть ожидаемый и заметный дисбаланс классов у целевого признака: токсичными являются чуть больше 10% отзывов, а остальные - обычные. Мы учли это при разбиении данных на выборки для обучения и теста моделей.\n",
    "3. **Обучение и выбор моделей**\n",
    "   - Были обучены две модели: LogisticRegression и DistilBertForSequenceClassification.\n",
    "   - Рекомендуемая по результатам обучения и валидации модель - LogisticRegression.\n",
    "   - F1 рекомендуемой модели на валидационных и тестовых данных равен 0.94, что выше заявленного порогового значения 0.75.\n",
    "   - Модель в целом отлично справляется с идентификацией не_токсичных комментариев, однако делает 7.36% ошибок второго типа - т.е. идентифицирует токсичные комментарии как не_токсичные.\n",
    "   - Для улучшения результатов в части полноты выявления токсичных комментариев можно скорректировать порог идентификации комментария как токсичного.\n"
   ]
  },
  {
   "cell_type": "code",
   "execution_count": null,
   "id": "c5c73786-4007-4fc1-8593-30b7c89ff6ef",
   "metadata": {},
   "outputs": [],
   "source": []
  }
 ],
 "metadata": {
  "kernelspec": {
   "display_name": "Python 3 (ipykernel)",
   "language": "python",
   "name": "python3"
  },
  "language_info": {
   "codemirror_mode": {
    "name": "ipython",
    "version": 3
   },
   "file_extension": ".py",
   "mimetype": "text/x-python",
   "name": "python",
   "nbconvert_exporter": "python",
   "pygments_lexer": "ipython3",
   "version": "3.9.21"
  },
  "toc": {
   "base_numbering": 1,
   "nav_menu": {},
   "number_sections": true,
   "sideBar": true,
   "skip_h1_title": true,
   "title_cell": "Table of Contents",
   "title_sidebar": "Contents",
   "toc_cell": false,
   "toc_position": {},
   "toc_section_display": true,
   "toc_window_display": false
  }
 },
 "nbformat": 4,
 "nbformat_minor": 5
}
