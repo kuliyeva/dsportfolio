{
 "cells": [
  {
   "cell_type": "markdown",
   "id": "7f7c99c9-1c5a-450f-9298-c7aec1087c7d",
   "metadata": {},
   "source": [
    "# Исследование аудитории сервиса самокатов GoFast."
   ]
  },
  {
   "cell_type": "markdown",
   "id": "27656f99-3400-4eee-b46c-a12a7782dad4",
   "metadata": {},
   "source": [
    "## Введение"
   ]
  },
  {
   "cell_type": "markdown",
   "id": "2e009e6c-c94f-4055-8824-5741b2cfbde0",
   "metadata": {},
   "source": [
    "**Контекст**\n",
    "\n",
    "В исследовании мы рассматриваем пользователей сервиса самокатов GoFast.\n",
    "\n",
    "\n",
    "**Цель исследования**\n",
    "\n",
    "Необходимо проверить ряд гипотез, которые позволят наметить план для дальнейшей популяризации сервиса и увеличения доходности бизнеса.\n",
    "\n",
    "\n",
    "**О данных**\n",
    "\n",
    "В нашем распоряжении 3 набора данных:\n",
    "1. Данные о пользователях:\n",
    "   - id\n",
    "   - имя\n",
    "   - возраст\n",
    "   - город\n",
    "   - тип пользователя: с подпиской и без\n",
    "2. Данные о поездках:\n",
    "   - id пользователя, который совершил поездку\n",
    "   - дата поездки\n",
    "   - продолжительность\n",
    "   - дальность\n",
    "3. Условия использования сервиса для пользователей с подпиской и без\n",
    "   - абонентская плата\n",
    "   - стоимость минуты поездки\n",
    "   - стоимость старта поездки\n",
    "\n",
    "**Ход исследования**\n",
    "\n",
    "Исследование включает в себя следующие шаги:\n",
    "1. Обзор и предобработка данных.\n",
    "2. Исследование основных значений для всех пользователей:\n",
    "   - популярность сервиса по городам;\n",
    "   - распределение типов пользователей;\n",
    "   - возраст пользователей;\n",
    "   - дальность поездок;\n",
    "   - продолжительность поездок;\n",
    "3. Исследование основных значений по типам пользователей:\n",
    "   - дальность поездок;\n",
    "   - продолжительность поездок;\n",
    "4. Проверка гипотез для планирования развития сервиса:\n",
    "   - Гипотеза №1: пользователи с подпиской тратят больше времени на поездки.\n",
    "   - Гипотеза №2: средняя дальность поездки пользователей с подпиской составляет 3130 метров.\n",
    "   - Гипотеза №3: помесячная выручка от пользователей с подпиской выше, чем от пользователей без подписки.\n",
    "   - Гипотеза №4: обновление серверов уменьшает количество обращений в поддержку.\n",
    "5. Рассчеты для планирования промо:\n",
    "   - Промо с раздачей промокодов для привлечения новых подписчиков.\n",
    "   - Промо с рассылкой push-уведомлений.\n",
    "6. Выводы\n"
   ]
  },
  {
   "cell_type": "markdown",
   "id": "8b5ca8bc-0cb0-49e7-83db-bde5bf38d1e3",
   "metadata": {},
   "source": [
    "## Предобработка данных"
   ]
  },
  {
   "cell_type": "markdown",
   "id": "c18ac37f-ba27-46e8-8893-e75b7f0d1dd3",
   "metadata": {},
   "source": [
    "### Импорт библиотек и данных"
   ]
  },
  {
   "cell_type": "code",
   "execution_count": 67,
   "id": "30b2a9e5-fef2-421d-875d-d104ba296920",
   "metadata": {},
   "outputs": [],
   "source": [
    "#импортируем библиотеки для работы\n",
    "import pandas as pd\n",
    "import matplotlib.pyplot as plt\n",
    "import scipy.stats as st\n",
    "import numpy as np\n"
   ]
  },
  {
   "cell_type": "code",
   "execution_count": 68,
   "id": "d07daf1b-7281-4ffb-a496-25bf68d82f82",
   "metadata": {},
   "outputs": [],
   "source": [
    "#импортируем данные о пользователях\n",
    "try:\n",
    "    users = pd.read_csv('Desktop/practicum cases/users_go.csv')\n",
    "except:\n",
    "    users = pd.read_csv('https://code.s3.yandex.net/datasets/users_go.csv')\n",
    "\n",
    "#импортируем данные о поездках\n",
    "try:\n",
    "    rides = pd.read_csv('Desktop/practicum cases/rides_go.csv')\n",
    "except:\n",
    "    rides = pd.read_csv('https://code.s3.yandex.net/datasets/rides_go.csv')\n",
    "\n",
    "#импортируем данные о тарифах\n",
    "try:\n",
    "    subscriptions = pd.read_csv('Desktop/practicum cases/subscriptions_go.csv')\n",
    "except:\n",
    "    subscriptions = pd.read_csv('https://code.s3.yandex.net/datasets/subscriptions_go.csv')"
   ]
  },
  {
   "cell_type": "markdown",
   "id": "c8174543-2e89-498d-b04d-3c9f0115223e",
   "metadata": {},
   "source": [
    "### Ревизия данных о пользователях"
   ]
  },
  {
   "cell_type": "code",
   "execution_count": 69,
   "id": "6d47a615-c0a5-4a5d-9bf3-fad6196d3a8d",
   "metadata": {},
   "outputs": [
    {
     "data": {
      "text/html": [
       "<div>\n",
       "<style scoped>\n",
       "    .dataframe tbody tr th:only-of-type {\n",
       "        vertical-align: middle;\n",
       "    }\n",
       "\n",
       "    .dataframe tbody tr th {\n",
       "        vertical-align: top;\n",
       "    }\n",
       "\n",
       "    .dataframe thead th {\n",
       "        text-align: right;\n",
       "    }\n",
       "</style>\n",
       "<table border=\"1\" class=\"dataframe\">\n",
       "  <thead>\n",
       "    <tr style=\"text-align: right;\">\n",
       "      <th></th>\n",
       "      <th>user_id</th>\n",
       "      <th>name</th>\n",
       "      <th>age</th>\n",
       "      <th>city</th>\n",
       "      <th>subscription_type</th>\n",
       "    </tr>\n",
       "  </thead>\n",
       "  <tbody>\n",
       "    <tr>\n",
       "      <th>0</th>\n",
       "      <td>1</td>\n",
       "      <td>Кира</td>\n",
       "      <td>22</td>\n",
       "      <td>Тюмень</td>\n",
       "      <td>ultra</td>\n",
       "    </tr>\n",
       "    <tr>\n",
       "      <th>1</th>\n",
       "      <td>2</td>\n",
       "      <td>Станислав</td>\n",
       "      <td>31</td>\n",
       "      <td>Омск</td>\n",
       "      <td>ultra</td>\n",
       "    </tr>\n",
       "    <tr>\n",
       "      <th>2</th>\n",
       "      <td>3</td>\n",
       "      <td>Алексей</td>\n",
       "      <td>20</td>\n",
       "      <td>Москва</td>\n",
       "      <td>ultra</td>\n",
       "    </tr>\n",
       "    <tr>\n",
       "      <th>3</th>\n",
       "      <td>4</td>\n",
       "      <td>Константин</td>\n",
       "      <td>26</td>\n",
       "      <td>Ростов-на-Дону</td>\n",
       "      <td>ultra</td>\n",
       "    </tr>\n",
       "    <tr>\n",
       "      <th>4</th>\n",
       "      <td>5</td>\n",
       "      <td>Адель</td>\n",
       "      <td>28</td>\n",
       "      <td>Омск</td>\n",
       "      <td>ultra</td>\n",
       "    </tr>\n",
       "    <tr>\n",
       "      <th>5</th>\n",
       "      <td>6</td>\n",
       "      <td>Регина</td>\n",
       "      <td>25</td>\n",
       "      <td>Краснодар</td>\n",
       "      <td>ultra</td>\n",
       "    </tr>\n",
       "    <tr>\n",
       "      <th>6</th>\n",
       "      <td>7</td>\n",
       "      <td>Игорь</td>\n",
       "      <td>23</td>\n",
       "      <td>Омск</td>\n",
       "      <td>ultra</td>\n",
       "    </tr>\n",
       "    <tr>\n",
       "      <th>7</th>\n",
       "      <td>8</td>\n",
       "      <td>Юрий</td>\n",
       "      <td>23</td>\n",
       "      <td>Краснодар</td>\n",
       "      <td>ultra</td>\n",
       "    </tr>\n",
       "    <tr>\n",
       "      <th>8</th>\n",
       "      <td>9</td>\n",
       "      <td>Ян</td>\n",
       "      <td>21</td>\n",
       "      <td>Пятигорск</td>\n",
       "      <td>ultra</td>\n",
       "    </tr>\n",
       "    <tr>\n",
       "      <th>9</th>\n",
       "      <td>10</td>\n",
       "      <td>Валерий</td>\n",
       "      <td>18</td>\n",
       "      <td>Екатеринбург</td>\n",
       "      <td>ultra</td>\n",
       "    </tr>\n",
       "  </tbody>\n",
       "</table>\n",
       "</div>"
      ],
      "text/plain": [
       "   user_id        name  age            city subscription_type\n",
       "0        1        Кира   22          Тюмень             ultra\n",
       "1        2   Станислав   31            Омск             ultra\n",
       "2        3     Алексей   20          Москва             ultra\n",
       "3        4  Константин   26  Ростов-на-Дону             ultra\n",
       "4        5       Адель   28            Омск             ultra\n",
       "5        6      Регина   25       Краснодар             ultra\n",
       "6        7       Игорь   23            Омск             ultra\n",
       "7        8        Юрий   23       Краснодар             ultra\n",
       "8        9          Ян   21       Пятигорск             ultra\n",
       "9       10     Валерий   18    Екатеринбург             ultra"
      ]
     },
     "execution_count": 69,
     "metadata": {},
     "output_type": "execute_result"
    }
   ],
   "source": [
    "#проверим данные о пользователях\n",
    "users.head(10)"
   ]
  },
  {
   "cell_type": "code",
   "execution_count": 70,
   "id": "ce3f3390-4c14-4dfc-9359-a5c607f8c016",
   "metadata": {},
   "outputs": [
    {
     "name": "stdout",
     "output_type": "stream",
     "text": [
      "<class 'pandas.core.frame.DataFrame'>\n",
      "RangeIndex: 1565 entries, 0 to 1564\n",
      "Data columns (total 5 columns):\n",
      " #   Column             Non-Null Count  Dtype \n",
      "---  ------             --------------  ----- \n",
      " 0   user_id            1565 non-null   int64 \n",
      " 1   name               1565 non-null   object\n",
      " 2   age                1565 non-null   int64 \n",
      " 3   city               1565 non-null   object\n",
      " 4   subscription_type  1565 non-null   object\n",
      "dtypes: int64(2), object(3)\n",
      "memory usage: 61.3+ KB\n"
     ]
    }
   ],
   "source": [
    "#оценим объем и тип данных\n",
    "users.info()"
   ]
  },
  {
   "cell_type": "code",
   "execution_count": 71,
   "id": "13322731-cd34-4da2-a7fa-989d80d4067e",
   "metadata": {},
   "outputs": [
    {
     "data": {
      "text/plain": [
       "user_id              0\n",
       "name                 0\n",
       "age                  0\n",
       "city                 0\n",
       "subscription_type    0\n",
       "dtype: int64"
      ]
     },
     "execution_count": 71,
     "metadata": {},
     "output_type": "execute_result"
    }
   ],
   "source": [
    "#проверим на пропуски\n",
    "users.isna().sum()"
   ]
  },
  {
   "cell_type": "code",
   "execution_count": 72,
   "id": "83f9f1d2-243a-4727-bd2e-9b6a28040f40",
   "metadata": {},
   "outputs": [
    {
     "data": {
      "text/plain": [
       "31"
      ]
     },
     "execution_count": 72,
     "metadata": {},
     "output_type": "execute_result"
    }
   ],
   "source": [
    "#проверим на явные дубликаты\n",
    "users.duplicated().sum()"
   ]
  },
  {
   "cell_type": "code",
   "execution_count": 73,
   "id": "92d9de0f-942c-4da6-89bc-77b4f563fdfc",
   "metadata": {},
   "outputs": [
    {
     "data": {
      "text/html": [
       "<div>\n",
       "<style scoped>\n",
       "    .dataframe tbody tr th:only-of-type {\n",
       "        vertical-align: middle;\n",
       "    }\n",
       "\n",
       "    .dataframe tbody tr th {\n",
       "        vertical-align: top;\n",
       "    }\n",
       "\n",
       "    .dataframe thead th {\n",
       "        text-align: right;\n",
       "    }\n",
       "</style>\n",
       "<table border=\"1\" class=\"dataframe\">\n",
       "  <thead>\n",
       "    <tr style=\"text-align: right;\">\n",
       "      <th></th>\n",
       "      <th>user_id</th>\n",
       "      <th>name</th>\n",
       "      <th>age</th>\n",
       "      <th>city</th>\n",
       "      <th>subscription_type</th>\n",
       "    </tr>\n",
       "  </thead>\n",
       "  <tbody>\n",
       "    <tr>\n",
       "      <th>0</th>\n",
       "      <td>1</td>\n",
       "      <td>Кира</td>\n",
       "      <td>22</td>\n",
       "      <td>Тюмень</td>\n",
       "      <td>ultra</td>\n",
       "    </tr>\n",
       "    <tr>\n",
       "      <th>1</th>\n",
       "      <td>2</td>\n",
       "      <td>Станислав</td>\n",
       "      <td>31</td>\n",
       "      <td>Омск</td>\n",
       "      <td>ultra</td>\n",
       "    </tr>\n",
       "    <tr>\n",
       "      <th>2</th>\n",
       "      <td>3</td>\n",
       "      <td>Алексей</td>\n",
       "      <td>20</td>\n",
       "      <td>Москва</td>\n",
       "      <td>ultra</td>\n",
       "    </tr>\n",
       "    <tr>\n",
       "      <th>3</th>\n",
       "      <td>4</td>\n",
       "      <td>Константин</td>\n",
       "      <td>26</td>\n",
       "      <td>Ростов-на-Дону</td>\n",
       "      <td>ultra</td>\n",
       "    </tr>\n",
       "    <tr>\n",
       "      <th>4</th>\n",
       "      <td>5</td>\n",
       "      <td>Адель</td>\n",
       "      <td>28</td>\n",
       "      <td>Омск</td>\n",
       "      <td>ultra</td>\n",
       "    </tr>\n",
       "    <tr>\n",
       "      <th>5</th>\n",
       "      <td>6</td>\n",
       "      <td>Регина</td>\n",
       "      <td>25</td>\n",
       "      <td>Краснодар</td>\n",
       "      <td>ultra</td>\n",
       "    </tr>\n",
       "    <tr>\n",
       "      <th>6</th>\n",
       "      <td>7</td>\n",
       "      <td>Игорь</td>\n",
       "      <td>23</td>\n",
       "      <td>Омск</td>\n",
       "      <td>ultra</td>\n",
       "    </tr>\n",
       "    <tr>\n",
       "      <th>7</th>\n",
       "      <td>8</td>\n",
       "      <td>Юрий</td>\n",
       "      <td>23</td>\n",
       "      <td>Краснодар</td>\n",
       "      <td>ultra</td>\n",
       "    </tr>\n",
       "    <tr>\n",
       "      <th>8</th>\n",
       "      <td>9</td>\n",
       "      <td>Ян</td>\n",
       "      <td>21</td>\n",
       "      <td>Пятигорск</td>\n",
       "      <td>ultra</td>\n",
       "    </tr>\n",
       "    <tr>\n",
       "      <th>9</th>\n",
       "      <td>10</td>\n",
       "      <td>Валерий</td>\n",
       "      <td>18</td>\n",
       "      <td>Екатеринбург</td>\n",
       "      <td>ultra</td>\n",
       "    </tr>\n",
       "  </tbody>\n",
       "</table>\n",
       "</div>"
      ],
      "text/plain": [
       "   user_id        name  age            city subscription_type\n",
       "0        1        Кира   22          Тюмень             ultra\n",
       "1        2   Станислав   31            Омск             ultra\n",
       "2        3     Алексей   20          Москва             ultra\n",
       "3        4  Константин   26  Ростов-на-Дону             ultra\n",
       "4        5       Адель   28            Омск             ultra\n",
       "5        6      Регина   25       Краснодар             ultra\n",
       "6        7       Игорь   23            Омск             ultra\n",
       "7        8        Юрий   23       Краснодар             ultra\n",
       "8        9          Ян   21       Пятигорск             ultra\n",
       "9       10     Валерий   18    Екатеринбург             ultra"
      ]
     },
     "execution_count": 73,
     "metadata": {},
     "output_type": "execute_result"
    }
   ],
   "source": [
    "#удалим явные дубликаты\n",
    "users = users.drop_duplicates().reset_index(drop=True)\n",
    "\n",
    "#посмотрим на таблицу еще раз\n",
    "users.head(10)"
   ]
  },
  {
   "cell_type": "markdown",
   "id": "d9dc35b7-5ec8-44cc-98be-b1af16074972",
   "metadata": {},
   "source": [
    "### Ревизия данных о поездках"
   ]
  },
  {
   "cell_type": "code",
   "execution_count": 74,
   "id": "298bca68-6ec9-40b0-9157-286ecb90054d",
   "metadata": {},
   "outputs": [
    {
     "data": {
      "text/html": [
       "<div>\n",
       "<style scoped>\n",
       "    .dataframe tbody tr th:only-of-type {\n",
       "        vertical-align: middle;\n",
       "    }\n",
       "\n",
       "    .dataframe tbody tr th {\n",
       "        vertical-align: top;\n",
       "    }\n",
       "\n",
       "    .dataframe thead th {\n",
       "        text-align: right;\n",
       "    }\n",
       "</style>\n",
       "<table border=\"1\" class=\"dataframe\">\n",
       "  <thead>\n",
       "    <tr style=\"text-align: right;\">\n",
       "      <th></th>\n",
       "      <th>user_id</th>\n",
       "      <th>distance</th>\n",
       "      <th>duration</th>\n",
       "      <th>date</th>\n",
       "    </tr>\n",
       "  </thead>\n",
       "  <tbody>\n",
       "    <tr>\n",
       "      <th>0</th>\n",
       "      <td>1</td>\n",
       "      <td>4409.919140</td>\n",
       "      <td>25.599769</td>\n",
       "      <td>2021-01-01</td>\n",
       "    </tr>\n",
       "    <tr>\n",
       "      <th>1</th>\n",
       "      <td>1</td>\n",
       "      <td>2617.592153</td>\n",
       "      <td>15.816871</td>\n",
       "      <td>2021-01-18</td>\n",
       "    </tr>\n",
       "    <tr>\n",
       "      <th>2</th>\n",
       "      <td>1</td>\n",
       "      <td>754.159807</td>\n",
       "      <td>6.232113</td>\n",
       "      <td>2021-04-20</td>\n",
       "    </tr>\n",
       "    <tr>\n",
       "      <th>3</th>\n",
       "      <td>1</td>\n",
       "      <td>2694.783254</td>\n",
       "      <td>18.511000</td>\n",
       "      <td>2021-08-11</td>\n",
       "    </tr>\n",
       "    <tr>\n",
       "      <th>4</th>\n",
       "      <td>1</td>\n",
       "      <td>4028.687306</td>\n",
       "      <td>26.265803</td>\n",
       "      <td>2021-08-28</td>\n",
       "    </tr>\n",
       "    <tr>\n",
       "      <th>5</th>\n",
       "      <td>1</td>\n",
       "      <td>2770.890808</td>\n",
       "      <td>16.650138</td>\n",
       "      <td>2021-10-09</td>\n",
       "    </tr>\n",
       "    <tr>\n",
       "      <th>6</th>\n",
       "      <td>1</td>\n",
       "      <td>3039.020292</td>\n",
       "      <td>14.927879</td>\n",
       "      <td>2021-10-19</td>\n",
       "    </tr>\n",
       "    <tr>\n",
       "      <th>7</th>\n",
       "      <td>1</td>\n",
       "      <td>2842.118050</td>\n",
       "      <td>23.117468</td>\n",
       "      <td>2021-11-06</td>\n",
       "    </tr>\n",
       "    <tr>\n",
       "      <th>8</th>\n",
       "      <td>1</td>\n",
       "      <td>3412.690668</td>\n",
       "      <td>15.238072</td>\n",
       "      <td>2021-11-14</td>\n",
       "    </tr>\n",
       "    <tr>\n",
       "      <th>9</th>\n",
       "      <td>1</td>\n",
       "      <td>748.690645</td>\n",
       "      <td>15.041884</td>\n",
       "      <td>2021-11-22</td>\n",
       "    </tr>\n",
       "  </tbody>\n",
       "</table>\n",
       "</div>"
      ],
      "text/plain": [
       "   user_id     distance   duration        date\n",
       "0        1  4409.919140  25.599769  2021-01-01\n",
       "1        1  2617.592153  15.816871  2021-01-18\n",
       "2        1   754.159807   6.232113  2021-04-20\n",
       "3        1  2694.783254  18.511000  2021-08-11\n",
       "4        1  4028.687306  26.265803  2021-08-28\n",
       "5        1  2770.890808  16.650138  2021-10-09\n",
       "6        1  3039.020292  14.927879  2021-10-19\n",
       "7        1  2842.118050  23.117468  2021-11-06\n",
       "8        1  3412.690668  15.238072  2021-11-14\n",
       "9        1   748.690645  15.041884  2021-11-22"
      ]
     },
     "execution_count": 74,
     "metadata": {},
     "output_type": "execute_result"
    }
   ],
   "source": [
    "#проверим данные о поездках\n",
    "rides.head(10)"
   ]
  },
  {
   "cell_type": "code",
   "execution_count": 75,
   "id": "c8252109-3d9b-4699-932c-4096d18af722",
   "metadata": {},
   "outputs": [
    {
     "name": "stdout",
     "output_type": "stream",
     "text": [
      "<class 'pandas.core.frame.DataFrame'>\n",
      "RangeIndex: 18068 entries, 0 to 18067\n",
      "Data columns (total 4 columns):\n",
      " #   Column    Non-Null Count  Dtype  \n",
      "---  ------    --------------  -----  \n",
      " 0   user_id   18068 non-null  int64  \n",
      " 1   distance  18068 non-null  float64\n",
      " 2   duration  18068 non-null  float64\n",
      " 3   date      18068 non-null  object \n",
      "dtypes: float64(2), int64(1), object(1)\n",
      "memory usage: 564.8+ KB\n"
     ]
    }
   ],
   "source": [
    "#оценим объем и тип данных\n",
    "rides.info()"
   ]
  },
  {
   "cell_type": "code",
   "execution_count": 76,
   "id": "6580eba6-8bf9-46aa-aee8-0a4ec40cf406",
   "metadata": {},
   "outputs": [
    {
     "data": {
      "text/plain": [
       "user_id     0\n",
       "distance    0\n",
       "duration    0\n",
       "date        0\n",
       "dtype: int64"
      ]
     },
     "execution_count": 76,
     "metadata": {},
     "output_type": "execute_result"
    }
   ],
   "source": [
    "#проверим на пропуски\n",
    "rides.isna().sum()"
   ]
  },
  {
   "cell_type": "code",
   "execution_count": 77,
   "id": "cc549c83-ea72-4902-9f1d-31d5559a7c11",
   "metadata": {},
   "outputs": [
    {
     "data": {
      "text/plain": [
       "0"
      ]
     },
     "execution_count": 77,
     "metadata": {},
     "output_type": "execute_result"
    }
   ],
   "source": [
    "#проверим на явные дубликаты\n",
    "rides.duplicated().sum()"
   ]
  },
  {
   "cell_type": "code",
   "execution_count": 78,
   "id": "1dffe16f-6a05-404e-bff0-11cf30e61a4b",
   "metadata": {},
   "outputs": [
    {
     "data": {
      "text/plain": [
       "'2021-01-01'"
      ]
     },
     "metadata": {},
     "output_type": "display_data"
    },
    {
     "data": {
      "text/plain": [
       "'2021-12-30'"
      ]
     },
     "execution_count": 78,
     "metadata": {},
     "output_type": "execute_result"
    }
   ],
   "source": [
    "#оценим период данных, чтобы в дальнейшем не иметь повторов в значениях месяцев\n",
    "display(rides['date'].min())\n",
    "rides['date'].max()"
   ]
  },
  {
   "cell_type": "markdown",
   "id": "8d059787-2089-40f3-b6c9-206193238108",
   "metadata": {},
   "source": [
    "Отлично, все данные - за один год."
   ]
  },
  {
   "cell_type": "code",
   "execution_count": 79,
   "id": "b06ee386-afdd-4e95-824b-26423cf52bec",
   "metadata": {},
   "outputs": [
    {
     "data": {
      "text/html": [
       "<div>\n",
       "<style scoped>\n",
       "    .dataframe tbody tr th:only-of-type {\n",
       "        vertical-align: middle;\n",
       "    }\n",
       "\n",
       "    .dataframe tbody tr th {\n",
       "        vertical-align: top;\n",
       "    }\n",
       "\n",
       "    .dataframe thead th {\n",
       "        text-align: right;\n",
       "    }\n",
       "</style>\n",
       "<table border=\"1\" class=\"dataframe\">\n",
       "  <thead>\n",
       "    <tr style=\"text-align: right;\">\n",
       "      <th></th>\n",
       "      <th>user_id</th>\n",
       "      <th>distance</th>\n",
       "      <th>duration</th>\n",
       "      <th>date</th>\n",
       "      <th>month</th>\n",
       "    </tr>\n",
       "  </thead>\n",
       "  <tbody>\n",
       "    <tr>\n",
       "      <th>0</th>\n",
       "      <td>1</td>\n",
       "      <td>4409.919140</td>\n",
       "      <td>26.0</td>\n",
       "      <td>2021-01-01</td>\n",
       "      <td>1</td>\n",
       "    </tr>\n",
       "    <tr>\n",
       "      <th>1</th>\n",
       "      <td>1</td>\n",
       "      <td>2617.592153</td>\n",
       "      <td>16.0</td>\n",
       "      <td>2021-01-18</td>\n",
       "      <td>1</td>\n",
       "    </tr>\n",
       "    <tr>\n",
       "      <th>2</th>\n",
       "      <td>1</td>\n",
       "      <td>754.159807</td>\n",
       "      <td>7.0</td>\n",
       "      <td>2021-04-20</td>\n",
       "      <td>4</td>\n",
       "    </tr>\n",
       "    <tr>\n",
       "      <th>3</th>\n",
       "      <td>1</td>\n",
       "      <td>2694.783254</td>\n",
       "      <td>19.0</td>\n",
       "      <td>2021-08-11</td>\n",
       "      <td>8</td>\n",
       "    </tr>\n",
       "    <tr>\n",
       "      <th>4</th>\n",
       "      <td>1</td>\n",
       "      <td>4028.687306</td>\n",
       "      <td>27.0</td>\n",
       "      <td>2021-08-28</td>\n",
       "      <td>8</td>\n",
       "    </tr>\n",
       "    <tr>\n",
       "      <th>5</th>\n",
       "      <td>1</td>\n",
       "      <td>2770.890808</td>\n",
       "      <td>17.0</td>\n",
       "      <td>2021-10-09</td>\n",
       "      <td>10</td>\n",
       "    </tr>\n",
       "    <tr>\n",
       "      <th>6</th>\n",
       "      <td>1</td>\n",
       "      <td>3039.020292</td>\n",
       "      <td>15.0</td>\n",
       "      <td>2021-10-19</td>\n",
       "      <td>10</td>\n",
       "    </tr>\n",
       "    <tr>\n",
       "      <th>7</th>\n",
       "      <td>1</td>\n",
       "      <td>2842.118050</td>\n",
       "      <td>24.0</td>\n",
       "      <td>2021-11-06</td>\n",
       "      <td>11</td>\n",
       "    </tr>\n",
       "    <tr>\n",
       "      <th>8</th>\n",
       "      <td>1</td>\n",
       "      <td>3412.690668</td>\n",
       "      <td>16.0</td>\n",
       "      <td>2021-11-14</td>\n",
       "      <td>11</td>\n",
       "    </tr>\n",
       "    <tr>\n",
       "      <th>9</th>\n",
       "      <td>1</td>\n",
       "      <td>748.690645</td>\n",
       "      <td>16.0</td>\n",
       "      <td>2021-11-22</td>\n",
       "      <td>11</td>\n",
       "    </tr>\n",
       "  </tbody>\n",
       "</table>\n",
       "</div>"
      ],
      "text/plain": [
       "   user_id     distance  duration       date  month\n",
       "0        1  4409.919140      26.0 2021-01-01      1\n",
       "1        1  2617.592153      16.0 2021-01-18      1\n",
       "2        1   754.159807       7.0 2021-04-20      4\n",
       "3        1  2694.783254      19.0 2021-08-11      8\n",
       "4        1  4028.687306      27.0 2021-08-28      8\n",
       "5        1  2770.890808      17.0 2021-10-09     10\n",
       "6        1  3039.020292      15.0 2021-10-19     10\n",
       "7        1  2842.118050      24.0 2021-11-06     11\n",
       "8        1  3412.690668      16.0 2021-11-14     11\n",
       "9        1   748.690645      16.0 2021-11-22     11"
      ]
     },
     "execution_count": 79,
     "metadata": {},
     "output_type": "execute_result"
    }
   ],
   "source": [
    "#приведем к формату datetime данные в колонке с датой поездки\n",
    "rides['date'] = pd.to_datetime(rides['date'], format='%Y-%m-%d')\n",
    "\n",
    "#добавим к таблице колонку с номером месяца поездки\n",
    "rides['month'] = rides['date'].dt.month\n",
    "\n",
    "#округлим значения в столбце времени поездки до целых значений в верхнюю сторону\n",
    "rides['duration'] = np.ceil(rides['duration'])\n",
    "\n",
    "\n",
    "#оценим результат\n",
    "rides.head(10)"
   ]
  },
  {
   "cell_type": "code",
   "execution_count": 80,
   "id": "45b49292-040a-4ba0-9dfb-909fe26f7fd8",
   "metadata": {},
   "outputs": [
    {
     "name": "stdout",
     "output_type": "stream",
     "text": [
      "<class 'pandas.core.frame.DataFrame'>\n",
      "RangeIndex: 18068 entries, 0 to 18067\n",
      "Data columns (total 5 columns):\n",
      " #   Column    Non-Null Count  Dtype         \n",
      "---  ------    --------------  -----         \n",
      " 0   user_id   18068 non-null  int64         \n",
      " 1   distance  18068 non-null  float64       \n",
      " 2   duration  18068 non-null  float64       \n",
      " 3   date      18068 non-null  datetime64[ns]\n",
      " 4   month     18068 non-null  int64         \n",
      "dtypes: datetime64[ns](1), float64(2), int64(2)\n",
      "memory usage: 705.9 KB\n"
     ]
    }
   ],
   "source": [
    "#проверим изменение формата\n",
    "rides.info()"
   ]
  },
  {
   "cell_type": "markdown",
   "id": "fed7fd7d-a27c-47ae-8fad-ed60172f6649",
   "metadata": {},
   "source": [
    "### Ревизия данных о тарифах"
   ]
  },
  {
   "cell_type": "code",
   "execution_count": 81,
   "id": "546f7c14-0711-4c25-9216-7cb01690eb15",
   "metadata": {},
   "outputs": [
    {
     "data": {
      "text/html": [
       "<div>\n",
       "<style scoped>\n",
       "    .dataframe tbody tr th:only-of-type {\n",
       "        vertical-align: middle;\n",
       "    }\n",
       "\n",
       "    .dataframe tbody tr th {\n",
       "        vertical-align: top;\n",
       "    }\n",
       "\n",
       "    .dataframe thead th {\n",
       "        text-align: right;\n",
       "    }\n",
       "</style>\n",
       "<table border=\"1\" class=\"dataframe\">\n",
       "  <thead>\n",
       "    <tr style=\"text-align: right;\">\n",
       "      <th></th>\n",
       "      <th>subscription_type</th>\n",
       "      <th>minute_price</th>\n",
       "      <th>start_ride_price</th>\n",
       "      <th>subscription_fee</th>\n",
       "    </tr>\n",
       "  </thead>\n",
       "  <tbody>\n",
       "    <tr>\n",
       "      <th>0</th>\n",
       "      <td>free</td>\n",
       "      <td>8</td>\n",
       "      <td>50</td>\n",
       "      <td>0</td>\n",
       "    </tr>\n",
       "    <tr>\n",
       "      <th>1</th>\n",
       "      <td>ultra</td>\n",
       "      <td>6</td>\n",
       "      <td>0</td>\n",
       "      <td>199</td>\n",
       "    </tr>\n",
       "  </tbody>\n",
       "</table>\n",
       "</div>"
      ],
      "text/plain": [
       "  subscription_type  minute_price  start_ride_price  subscription_fee\n",
       "0              free             8                50                 0\n",
       "1             ultra             6                 0               199"
      ]
     },
     "execution_count": 81,
     "metadata": {},
     "output_type": "execute_result"
    }
   ],
   "source": [
    "#проверим данные о тарифах\n",
    "subscriptions.head(10)"
   ]
  },
  {
   "cell_type": "markdown",
   "id": "36c9983c-2ee7-441d-b598-87eea4f2d113",
   "metadata": {},
   "source": [
    "Это будет моя любимая таблица в проекте."
   ]
  },
  {
   "cell_type": "markdown",
   "id": "ba6484d3-1491-4721-8c08-00324e397419",
   "metadata": {},
   "source": [
    "### Выводы о предобработке данных"
   ]
  },
  {
   "cell_type": "markdown",
   "id": "c0a53719-3823-4efa-aa7d-a883124089d8",
   "metadata": {},
   "source": [
    "- В таблице users названия столбцов в норме, пропуски отсутствуют, тип данных корректный, явные дубликаты (31 строка) удалены. Сейчас в таблице 1565 строк.\n",
    "- В таблице rides названия столбцов в норме, пропуски отсутствуют, тип данных в столбце о дате поездки изменен на datetime, в столбце о длительности поездок округлили данные до целых чисел вверх, явных дубликатов нет. Сейчас в таблице 18068 строк.\n",
    "- В таблице subscriptions названия столбцов в норме, пропуски отсутствуют, тип данных корректный, явные дубликаты отсутствуют. Сейчас в таблице 2 строки."
   ]
  },
  {
   "cell_type": "markdown",
   "id": "2e0a7495-6316-4338-988b-4243161efec5",
   "metadata": {},
   "source": [
    "## Исследовательский анализ данных"
   ]
  },
  {
   "cell_type": "markdown",
   "id": "3d55a22e-10a5-4f12-9be7-545cf97b0069",
   "metadata": {},
   "source": [
    "### Какие города встречаются чаще"
   ]
  },
  {
   "cell_type": "code",
   "execution_count": 82,
   "id": "735ce35e-c1a8-49e9-953e-432728aa4dbb",
   "metadata": {},
   "outputs": [
    {
     "data": {
      "text/plain": [
       "Пятигорск         219\n",
       "Екатеринбург      204\n",
       "Ростов-на-Дону    198\n",
       "Краснодар         193\n",
       "Сочи              189\n",
       "Омск              183\n",
       "Тюмень            180\n",
       "Москва            168\n",
       "Name: city, dtype: int64"
      ]
     },
     "execution_count": 82,
     "metadata": {},
     "output_type": "execute_result"
    }
   ],
   "source": [
    "#посмотрим, какие города встречаются в данных, и сколько пользователей в каждом из них\n",
    "users['city'].value_counts()"
   ]
  },
  {
   "cell_type": "code",
   "execution_count": 83,
   "id": "f59a15da-8a63-4ea9-a407-61f20777fc8f",
   "metadata": {},
   "outputs": [
    {
     "data": {
      "image/png": "[encoded data removed]",
      "text/plain": [
       "<Figure size 640x480 with 1 Axes>"
      ]
     },
     "metadata": {},
     "output_type": "display_data"
    }
   ],
   "source": [
    "#вычислим процент пользователей по городам\n",
    "city_counts = users['city'].value_counts(normalize=True) * 100\n",
    "\n",
    "#визуализируем распределение пользователей по городам\n",
    "city_counts.plot(kind='bar')\n",
    "\n",
    "plt.ylabel('Процент пользователей (%)')\n",
    "plt.xlabel('Города, где представлен сервис')\n",
    "plt.title('Процент пользователей по городам')\n",
    "plt.show()"
   ]
  },
  {
   "cell_type": "markdown",
   "id": "7a7390cc-d731-426c-8395-f38f60ab3994",
   "metadata": {},
   "source": [
    "- Больше всего пользователей в Пятигорске — 219 человек, 14.3% от всех пользователей.\n",
    "- Меньше всего пользователей в Москве — 168 человек, 11% от всех пользователей.\n",
    "- В целом сервис везде почти одинаково популярен."
   ]
  },
  {
   "cell_type": "markdown",
   "id": "937118e6-fae1-4d64-a89a-a65a996d070f",
   "metadata": {},
   "source": [
    "### Типы пользователей"
   ]
  },
  {
   "cell_type": "code",
   "execution_count": 85,
   "id": "27a695a2-36ca-4d54-8c2e-8afa6ef5ad8c",
   "metadata": {},
   "outputs": [
    {
     "data": {
      "text/plain": [
       "free     835\n",
       "ultra    699\n",
       "Name: subscription_type, dtype: int64"
      ]
     },
     "execution_count": 85,
     "metadata": {},
     "output_type": "execute_result"
    }
   ],
   "source": [
    "#оценим число пользователей с подпиской и без\n",
    "users['subscription_type'].value_counts()"
   ]
  },
  {
   "cell_type": "code",
   "execution_count": 86,
   "id": "7d120376-b6b0-47cf-a760-fa339ac1405b",
   "metadata": {},
   "outputs": [
    {
     "data": {
      "image/png": "[encoded data removed]",
      "text/plain": [
       "<Figure size 640x480 with 1 Axes>"
      ]
     },
     "metadata": {},
     "output_type": "display_data"
    }
   ],
   "source": [
    "#вычислим процент пользователей с подпиской и без\n",
    "subscribers_counts = users['subscription_type'].value_counts(normalize=True) * 100\n",
    "subscribers_counts.index = ['Без подписки', 'С подпиской']\n",
    "\n",
    "#визуализируем\n",
    "subscribers_counts.plot(\n",
    "    kind= 'pie',\n",
    "    title= 'Соотношение пользователей с подпиской и без подписки',\n",
    "    autopct = \"%.0f%%\",\n",
    "    ylabel= \"\"\n",
    ")\n",
    "plt.show()"
   ]
  },
  {
   "cell_type": "code",
   "execution_count": 87,
   "id": "02de8a51",
   "metadata": {},
   "outputs": [
    {
     "data": {
      "image/png": "[encoded data removed]",
      "text/plain": [
       "<Figure size 640x480 with 1 Axes>"
      ]
     },
     "metadata": {},
     "output_type": "display_data"
    }
   ],
   "source": [
    "# Комментарий ревьюера\n",
    "import matplotlib.pyplot as plt\n",
    "temp = users.copy()\n",
    "temp['subscription_type'].value_counts().plot(\n",
    "    kind= 'pie',\n",
    "    title= 'Соотношение пользователей с подпиской и без подписки',\n",
    "    autopct = \"%.0f%%\",\n",
    "    ylabel= \"\"\n",
    ")\n",
    "plt.show()"
   ]
  },
  {
   "cell_type": "markdown",
   "id": "fb718fab-6aca-4d1e-9b1d-b509114e6f86",
   "metadata": {},
   "source": [
    "- Пользователей без подписки на 8% больше, чем пользователей с подпиской: 54% против 46% соответственно."
   ]
  },
  {
   "cell_type": "markdown",
   "id": "9a391925-e412-4629-8a50-a5b443256ecc",
   "metadata": {},
   "source": [
    "### Возраст пользователей"
   ]
  },
  {
   "cell_type": "code",
   "execution_count": 88,
   "id": "5c4b158c-6030-4703-bab2-0f1d2d81690f",
   "metadata": {},
   "outputs": [
    {
     "data": {
      "text/plain": [
       "count    1534.000000\n",
       "mean       24.903520\n",
       "std         4.572367\n",
       "min        12.000000\n",
       "25%        22.000000\n",
       "50%        25.000000\n",
       "75%        28.000000\n",
       "max        43.000000\n",
       "Name: age, dtype: float64"
      ]
     },
     "execution_count": 88,
     "metadata": {},
     "output_type": "execute_result"
    }
   ],
   "source": [
    "#оценим разброс пользователей по возрастам\n",
    "users['age'].describe()"
   ]
  },
  {
   "cell_type": "code",
   "execution_count": 89,
   "id": "0579f9b8-b3fa-4490-a980-676a39b389dd",
   "metadata": {},
   "outputs": [
    {
     "data": {
      "image/png": "[encoded data removed]",
      "text/plain": [
       "<Figure size 640x480 with 1 Axes>"
      ]
     },
     "metadata": {},
     "output_type": "display_data"
    }
   ],
   "source": [
    "#визуализируем возраста пользователей на графике\n",
    "users.hist(column='age', bins=10, range=(12, 45), grid=False);\n",
    "\n",
    "plt.title('Распределение пользователей по возрасту')\n",
    "plt.ylabel('Число пользователей')\n",
    "plt.xlabel('Возраст')\n",
    "\n",
    "plt.show()"
   ]
  },
  {
   "cell_type": "markdown",
   "id": "2dffe90a-9086-410e-90cd-df7898094ec5",
   "metadata": {},
   "source": [
    "- Большая часть пользователей проживают свой третий десяток: медиана 25 лет.\n",
    "- 50% всех пользователей - в возрасте от 22 до 28.\n",
    "- Среди пользователей есть чуть меньше 100 человек несовершеннолетних, включая подростка 12 лет. Эта группа не сильно заметна в общем числе пользователей, зато (в потенциале) очень ярко выглядит в новостях о ДТП с самокатчиком. "
   ]
  },
  {
   "cell_type": "markdown",
   "id": "b34b4149-f7cc-49aa-a55d-6bcf9361c767",
   "metadata": {},
   "source": [
    "### Расстояние поездок"
   ]
  },
  {
   "cell_type": "code",
   "execution_count": 90,
   "id": "228df125-b60d-4f26-84ba-d112e9e39946",
   "metadata": {},
   "outputs": [
    {
     "data": {
      "text/plain": [
       "count    18068.000000\n",
       "mean      3070.659976\n",
       "std       1116.831209\n",
       "min          0.855683\n",
       "25%       2543.226360\n",
       "50%       3133.609994\n",
       "75%       3776.222735\n",
       "max       7211.007745\n",
       "Name: distance, dtype: float64"
      ]
     },
     "execution_count": 90,
     "metadata": {},
     "output_type": "execute_result"
    }
   ],
   "source": [
    "#оценим разброс поездок по дистанции\n",
    "rides['distance'].describe()"
   ]
  },
  {
   "cell_type": "code",
   "execution_count": 91,
   "id": "ef6f5977-212f-4e62-9132-fa2fda9547a1",
   "metadata": {},
   "outputs": [
    {
     "data": {
      "image/png": "[encoded data removed]",
      "text/plain": [
       "<Figure size 640x480 with 1 Axes>"
      ]
     },
     "metadata": {},
     "output_type": "display_data"
    }
   ],
   "source": [
    "#визуализируем расстояние поездок на графике\n",
    "rides.hist(column='distance', bins=30, range=(0, 7300), grid=False);\n",
    "\n",
    "plt.title('Расcтояние поездок')\n",
    "plt.ylabel('Число поездок')\n",
    "plt.xlabel('Расстояние в метрах')\n",
    "\n",
    "plt.show()"
   ]
  },
  {
   "cell_type": "code",
   "execution_count": 92,
   "id": "fa4c7d50-eeb0-4347-a086-973d66ad99bb",
   "metadata": {},
   "outputs": [
    {
     "data": {
      "image/png": "[encoded data removed]",
      "text/plain": [
       "<Figure size 640x480 with 1 Axes>"
      ]
     },
     "metadata": {},
     "output_type": "display_data"
    }
   ],
   "source": [
    "#построим поближе на аномаллии\n",
    "rides.boxplot(column='distance', flierprops=dict(marker='o', markersize=4, alpha=0.1));\n",
    "\n",
    "plt.title('Расстояние поездок: аномалии')\n",
    "plt.ylabel('Расстояние в метрах')\n",
    "plt.xticks([])\n",
    "plt.xlabel('Поездки')\n",
    "\n",
    "plt.show()"
   ]
  },
  {
   "cell_type": "markdown",
   "id": "237f040e-331b-499d-b510-9157f8e763df",
   "metadata": {},
   "source": [
    "- В среднем пользователи проезжают 3070 метров за поездку, медиана - 3133.\n",
    "- 50% поездок - в диапазоне от 2500 до 3800 метров.\n",
    "- Микропик из нетипично коротких поездок диапазоне 400-1000 метров - это, вероятно, в большинстве своем граждане, которые решили открыть для себя езду на самокате, но через квартал поняли, что расшибут себе голову.\n",
    "- Поездки на расстояние больше 5500 метров скорее аномальны, но в небольшом объеме вполне похожи на правду."
   ]
  },
  {
   "cell_type": "markdown",
   "id": "a92b3a7d-0bc5-48a1-a45b-699c1db09be2",
   "metadata": {},
   "source": [
    "### Длительность поездок "
   ]
  },
  {
   "cell_type": "code",
   "execution_count": 93,
   "id": "918dbdeb-806a-4a43-8c0f-5156b5fbe50a",
   "metadata": {},
   "outputs": [
    {
     "data": {
      "text/plain": [
       "count    18068.000000\n",
       "mean        18.303520\n",
       "std          6.094928\n",
       "min          1.000000\n",
       "25%         14.000000\n",
       "50%         18.000000\n",
       "75%         22.000000\n",
       "max         41.000000\n",
       "Name: duration, dtype: float64"
      ]
     },
     "execution_count": 93,
     "metadata": {},
     "output_type": "execute_result"
    }
   ],
   "source": [
    "#оценим разброс поездок по длительности\n",
    "rides['duration'].describe()"
   ]
  },
  {
   "cell_type": "code",
   "execution_count": 94,
   "id": "f8a560ee-6735-42ad-8871-ff190cfaf25f",
   "metadata": {},
   "outputs": [
    {
     "data": {
      "image/png": "[encoded data removed]",
      "text/plain": [
       "<Figure size 640x480 with 1 Axes>"
      ]
     },
     "metadata": {},
     "output_type": "display_data"
    }
   ],
   "source": [
    "#визуализируем длительность поездок на графике\n",
    "rides.hist(column='duration', bins=20, range=(0, 41), grid=False);\n",
    "\n",
    "plt.title('Длительность поездок')\n",
    "plt.ylabel('Число поездок')\n",
    "plt.xlabel('Длительность в минутах')\n",
    "\n",
    "plt.show()"
   ]
  },
  {
   "cell_type": "code",
   "execution_count": 95,
   "id": "db6e8b2b-4b81-4472-b8a5-f20ec07f5f2e",
   "metadata": {},
   "outputs": [
    {
     "data": {
      "image/png": "[encoded data removed]",
      "text/plain": [
       "<Figure size 640x480 with 1 Axes>"
      ]
     },
     "metadata": {},
     "output_type": "display_data"
    }
   ],
   "source": [
    "#построим поближе на аномаллии\n",
    "rides.boxplot(column='duration', flierprops=dict(marker='o', markersize=4, alpha=0.1));\n",
    "\n",
    "plt.title('Длительность поездок: аномалии')\n",
    "plt.ylabel('Длительность в минутах')\n",
    "plt.xticks([])\n",
    "plt.xlabel('Поездки')\n",
    "\n",
    "plt.show()"
   ]
  },
  {
   "cell_type": "code",
   "execution_count": 96,
   "id": "2dc63cca-b971-4e98-92aa-6f635ec833a1",
   "metadata": {},
   "outputs": [
    {
     "data": {
      "text/html": [
       "<div>\n",
       "<style scoped>\n",
       "    .dataframe tbody tr th:only-of-type {\n",
       "        vertical-align: middle;\n",
       "    }\n",
       "\n",
       "    .dataframe tbody tr th {\n",
       "        vertical-align: top;\n",
       "    }\n",
       "\n",
       "    .dataframe thead th {\n",
       "        text-align: right;\n",
       "    }\n",
       "</style>\n",
       "<table border=\"1\" class=\"dataframe\">\n",
       "  <thead>\n",
       "    <tr style=\"text-align: right;\">\n",
       "      <th></th>\n",
       "      <th>user_id</th>\n",
       "      <th>distance</th>\n",
       "      <th>duration</th>\n",
       "      <th>date</th>\n",
       "      <th>month</th>\n",
       "    </tr>\n",
       "  </thead>\n",
       "  <tbody>\n",
       "    <tr>\n",
       "      <th>6531</th>\n",
       "      <td>701</td>\n",
       "      <td>4196.445201</td>\n",
       "      <td>1.0</td>\n",
       "      <td>2021-08-31</td>\n",
       "      <td>8</td>\n",
       "    </tr>\n",
       "    <tr>\n",
       "      <th>6570</th>\n",
       "      <td>704</td>\n",
       "      <td>4830.824371</td>\n",
       "      <td>1.0</td>\n",
       "      <td>2021-10-14</td>\n",
       "      <td>10</td>\n",
       "    </tr>\n",
       "    <tr>\n",
       "      <th>6680</th>\n",
       "      <td>712</td>\n",
       "      <td>4684.004397</td>\n",
       "      <td>1.0</td>\n",
       "      <td>2021-03-04</td>\n",
       "      <td>3</td>\n",
       "    </tr>\n",
       "    <tr>\n",
       "      <th>6695</th>\n",
       "      <td>713</td>\n",
       "      <td>5215.642710</td>\n",
       "      <td>1.0</td>\n",
       "      <td>2021-02-25</td>\n",
       "      <td>2</td>\n",
       "    </tr>\n",
       "    <tr>\n",
       "      <th>6768</th>\n",
       "      <td>718</td>\n",
       "      <td>5197.436649</td>\n",
       "      <td>1.0</td>\n",
       "      <td>2021-02-11</td>\n",
       "      <td>2</td>\n",
       "    </tr>\n",
       "    <tr>\n",
       "      <th>...</th>\n",
       "      <td>...</td>\n",
       "      <td>...</td>\n",
       "      <td>...</td>\n",
       "      <td>...</td>\n",
       "      <td>...</td>\n",
       "    </tr>\n",
       "    <tr>\n",
       "      <th>17004</th>\n",
       "      <td>1460</td>\n",
       "      <td>5531.335845</td>\n",
       "      <td>1.0</td>\n",
       "      <td>2021-01-19</td>\n",
       "      <td>1</td>\n",
       "    </tr>\n",
       "    <tr>\n",
       "      <th>17242</th>\n",
       "      <td>1477</td>\n",
       "      <td>6724.932981</td>\n",
       "      <td>1.0</td>\n",
       "      <td>2021-01-12</td>\n",
       "      <td>1</td>\n",
       "    </tr>\n",
       "    <tr>\n",
       "      <th>17314</th>\n",
       "      <td>1483</td>\n",
       "      <td>4445.481070</td>\n",
       "      <td>1.0</td>\n",
       "      <td>2021-03-06</td>\n",
       "      <td>3</td>\n",
       "    </tr>\n",
       "    <tr>\n",
       "      <th>17505</th>\n",
       "      <td>1496</td>\n",
       "      <td>5722.551787</td>\n",
       "      <td>1.0</td>\n",
       "      <td>2021-02-14</td>\n",
       "      <td>2</td>\n",
       "    </tr>\n",
       "    <tr>\n",
       "      <th>17909</th>\n",
       "      <td>1524</td>\n",
       "      <td>4103.998874</td>\n",
       "      <td>1.0</td>\n",
       "      <td>2021-06-18</td>\n",
       "      <td>6</td>\n",
       "    </tr>\n",
       "  </tbody>\n",
       "</table>\n",
       "<p>95 rows × 5 columns</p>\n",
       "</div>"
      ],
      "text/plain": [
       "       user_id     distance  duration       date  month\n",
       "6531       701  4196.445201       1.0 2021-08-31      8\n",
       "6570       704  4830.824371       1.0 2021-10-14     10\n",
       "6680       712  4684.004397       1.0 2021-03-04      3\n",
       "6695       713  5215.642710       1.0 2021-02-25      2\n",
       "6768       718  5197.436649       1.0 2021-02-11      2\n",
       "...        ...          ...       ...        ...    ...\n",
       "17004     1460  5531.335845       1.0 2021-01-19      1\n",
       "17242     1477  6724.932981       1.0 2021-01-12      1\n",
       "17314     1483  4445.481070       1.0 2021-03-06      3\n",
       "17505     1496  5722.551787       1.0 2021-02-14      2\n",
       "17909     1524  4103.998874       1.0 2021-06-18      6\n",
       "\n",
       "[95 rows x 5 columns]"
      ]
     },
     "execution_count": 96,
     "metadata": {},
     "output_type": "execute_result"
    }
   ],
   "source": [
    "rides.query('duration <= 1')"
   ]
  },
  {
   "cell_type": "markdown",
   "id": "8e29c4b3-a1c6-43b3-9496-754c73891327",
   "metadata": {},
   "source": [
    "- В среднем пользователи проводят в поездке 18.3 минуты, медиана - 18 минут.\n",
    "- 50% поездок - в диапазоне от 14 до 22 минут.\n",
    "- В целом картина (ожидаемо) похожая на график расстояний: и микропик на времени для проехать квартал и одуматься, и небольшой хвост для больших поездок - по времени и расстоянию.\n",
    "- Примечательно, что у нас есть очень большое количество выбросов конкретно на минуте (что не совсем укладывается в идею \"попробовал самокат - не сложилось - оставил\"). Когда мы смотрим на сами \"поездки-минутки\", мы видим, что их 95 штук и расстояния в них весьма большие, порой огромные (больше 6 км) что за минуту никак не преодолеть. Такая ситуация говорит скорее о дефекте счетчика времени (с соответствующими последствиями для доходности бизнеса поминутной аренды самокатов)."
   ]
  },
  {
   "cell_type": "markdown",
   "id": "523ccdbe-15b3-4618-a6bf-2cb1fd923f2f",
   "metadata": {},
   "source": [
    "### Выводы из исследовательского анализа"
   ]
  },
  {
   "cell_type": "markdown",
   "id": "2ba45972-7ebf-44b8-bafb-84cfa9e5fa2e",
   "metadata": {},
   "source": [
    "- Сервис в целом одинаково популярен во всех городах из базы данных. Популярнее всего - в Пятигорске. Наименее популярен - в Москве.\n",
    "- Езда без подписки - явление несколько более распространенное, чем по подписке: 54% против 46% соответственно.\n",
    "- Большая часть пользователей проживают свой третий десяток: медиана 25 лет, 50% всех пользователей - в возрасте от 22 до 28.\n",
    "- В среднем пользователи проезжают 3070 метров за поездку, медиана - 3133, 50% поездок - в диапазоне от 2500 до 3800 метров.\n",
    "- В среднем пользователи проводят в поездке 18.3 минуты, медиана 18 минут, 50% поездок - в диапазоне от 14 до 22 минут.\n",
    "- Необъяснимых и опасных аномалий для рассчетов не выявлено.\n",
    "- Выявлена опасная аномалия для статистики ДТП - сотня самокатчиков-подростков.\n",
    "- Выявлена аномалия с поездками длительностью до минуты: таких 95 штук, но расстояния в них большие, что говорит о проблемах со счетчиком времени."
   ]
  },
  {
   "cell_type": "markdown",
   "id": "85f6d6c2-3bda-40bf-9e44-c2660b9568d0",
   "metadata": {},
   "source": [
    "## Группировка данных по типу пользователей"
   ]
  },
  {
   "cell_type": "code",
   "execution_count": 97,
   "id": "61968b97-053e-42df-af36-d477e6fddbb0",
   "metadata": {},
   "outputs": [
    {
     "data": {
      "text/html": [
       "<div>\n",
       "<style scoped>\n",
       "    .dataframe tbody tr th:only-of-type {\n",
       "        vertical-align: middle;\n",
       "    }\n",
       "\n",
       "    .dataframe tbody tr th {\n",
       "        vertical-align: top;\n",
       "    }\n",
       "\n",
       "    .dataframe thead th {\n",
       "        text-align: right;\n",
       "    }\n",
       "</style>\n",
       "<table border=\"1\" class=\"dataframe\">\n",
       "  <thead>\n",
       "    <tr style=\"text-align: right;\">\n",
       "      <th></th>\n",
       "      <th>user_id</th>\n",
       "      <th>distance</th>\n",
       "      <th>duration</th>\n",
       "      <th>date</th>\n",
       "      <th>month</th>\n",
       "      <th>name</th>\n",
       "      <th>age</th>\n",
       "      <th>city</th>\n",
       "      <th>subscription_type</th>\n",
       "    </tr>\n",
       "  </thead>\n",
       "  <tbody>\n",
       "    <tr>\n",
       "      <th>0</th>\n",
       "      <td>1</td>\n",
       "      <td>4409.919140</td>\n",
       "      <td>26.0</td>\n",
       "      <td>2021-01-01</td>\n",
       "      <td>1</td>\n",
       "      <td>Кира</td>\n",
       "      <td>22</td>\n",
       "      <td>Тюмень</td>\n",
       "      <td>ultra</td>\n",
       "    </tr>\n",
       "    <tr>\n",
       "      <th>1</th>\n",
       "      <td>1</td>\n",
       "      <td>2617.592153</td>\n",
       "      <td>16.0</td>\n",
       "      <td>2021-01-18</td>\n",
       "      <td>1</td>\n",
       "      <td>Кира</td>\n",
       "      <td>22</td>\n",
       "      <td>Тюмень</td>\n",
       "      <td>ultra</td>\n",
       "    </tr>\n",
       "    <tr>\n",
       "      <th>2</th>\n",
       "      <td>1</td>\n",
       "      <td>754.159807</td>\n",
       "      <td>7.0</td>\n",
       "      <td>2021-04-20</td>\n",
       "      <td>4</td>\n",
       "      <td>Кира</td>\n",
       "      <td>22</td>\n",
       "      <td>Тюмень</td>\n",
       "      <td>ultra</td>\n",
       "    </tr>\n",
       "    <tr>\n",
       "      <th>3</th>\n",
       "      <td>1</td>\n",
       "      <td>2694.783254</td>\n",
       "      <td>19.0</td>\n",
       "      <td>2021-08-11</td>\n",
       "      <td>8</td>\n",
       "      <td>Кира</td>\n",
       "      <td>22</td>\n",
       "      <td>Тюмень</td>\n",
       "      <td>ultra</td>\n",
       "    </tr>\n",
       "    <tr>\n",
       "      <th>4</th>\n",
       "      <td>1</td>\n",
       "      <td>4028.687306</td>\n",
       "      <td>27.0</td>\n",
       "      <td>2021-08-28</td>\n",
       "      <td>8</td>\n",
       "      <td>Кира</td>\n",
       "      <td>22</td>\n",
       "      <td>Тюмень</td>\n",
       "      <td>ultra</td>\n",
       "    </tr>\n",
       "    <tr>\n",
       "      <th>5</th>\n",
       "      <td>1</td>\n",
       "      <td>2770.890808</td>\n",
       "      <td>17.0</td>\n",
       "      <td>2021-10-09</td>\n",
       "      <td>10</td>\n",
       "      <td>Кира</td>\n",
       "      <td>22</td>\n",
       "      <td>Тюмень</td>\n",
       "      <td>ultra</td>\n",
       "    </tr>\n",
       "    <tr>\n",
       "      <th>6</th>\n",
       "      <td>1</td>\n",
       "      <td>3039.020292</td>\n",
       "      <td>15.0</td>\n",
       "      <td>2021-10-19</td>\n",
       "      <td>10</td>\n",
       "      <td>Кира</td>\n",
       "      <td>22</td>\n",
       "      <td>Тюмень</td>\n",
       "      <td>ultra</td>\n",
       "    </tr>\n",
       "    <tr>\n",
       "      <th>7</th>\n",
       "      <td>1</td>\n",
       "      <td>2842.118050</td>\n",
       "      <td>24.0</td>\n",
       "      <td>2021-11-06</td>\n",
       "      <td>11</td>\n",
       "      <td>Кира</td>\n",
       "      <td>22</td>\n",
       "      <td>Тюмень</td>\n",
       "      <td>ultra</td>\n",
       "    </tr>\n",
       "    <tr>\n",
       "      <th>8</th>\n",
       "      <td>1</td>\n",
       "      <td>3412.690668</td>\n",
       "      <td>16.0</td>\n",
       "      <td>2021-11-14</td>\n",
       "      <td>11</td>\n",
       "      <td>Кира</td>\n",
       "      <td>22</td>\n",
       "      <td>Тюмень</td>\n",
       "      <td>ultra</td>\n",
       "    </tr>\n",
       "    <tr>\n",
       "      <th>9</th>\n",
       "      <td>1</td>\n",
       "      <td>748.690645</td>\n",
       "      <td>16.0</td>\n",
       "      <td>2021-11-22</td>\n",
       "      <td>11</td>\n",
       "      <td>Кира</td>\n",
       "      <td>22</td>\n",
       "      <td>Тюмень</td>\n",
       "      <td>ultra</td>\n",
       "    </tr>\n",
       "  </tbody>\n",
       "</table>\n",
       "</div>"
      ],
      "text/plain": [
       "   user_id     distance  duration       date  month  name  age    city  \\\n",
       "0        1  4409.919140      26.0 2021-01-01      1  Кира   22  Тюмень   \n",
       "1        1  2617.592153      16.0 2021-01-18      1  Кира   22  Тюмень   \n",
       "2        1   754.159807       7.0 2021-04-20      4  Кира   22  Тюмень   \n",
       "3        1  2694.783254      19.0 2021-08-11      8  Кира   22  Тюмень   \n",
       "4        1  4028.687306      27.0 2021-08-28      8  Кира   22  Тюмень   \n",
       "5        1  2770.890808      17.0 2021-10-09     10  Кира   22  Тюмень   \n",
       "6        1  3039.020292      15.0 2021-10-19     10  Кира   22  Тюмень   \n",
       "7        1  2842.118050      24.0 2021-11-06     11  Кира   22  Тюмень   \n",
       "8        1  3412.690668      16.0 2021-11-14     11  Кира   22  Тюмень   \n",
       "9        1   748.690645      16.0 2021-11-22     11  Кира   22  Тюмень   \n",
       "\n",
       "  subscription_type  \n",
       "0             ultra  \n",
       "1             ultra  \n",
       "2             ultra  \n",
       "3             ultra  \n",
       "4             ultra  \n",
       "5             ultra  \n",
       "6             ultra  \n",
       "7             ultra  \n",
       "8             ultra  \n",
       "9             ultra  "
      ]
     },
     "execution_count": 97,
     "metadata": {},
     "output_type": "execute_result"
    }
   ],
   "source": [
    "#объединим данные о пользователях, поездках и подписках в один датафрейм с помощью merge()\n",
    "users_full = rides.merge(users, how='outer', on='user_id')\n",
    "\n",
    "#посмотрим на получившуюся таблицу\n",
    "users_full.head(10)"
   ]
  },
  {
   "cell_type": "code",
   "execution_count": 98,
   "id": "05fc76c2-88a4-4299-a961-4fb2539b96fb",
   "metadata": {},
   "outputs": [
    {
     "name": "stdout",
     "output_type": "stream",
     "text": [
      "<class 'pandas.core.frame.DataFrame'>\n",
      "Int64Index: 18068 entries, 0 to 18067\n",
      "Data columns (total 9 columns):\n",
      " #   Column             Non-Null Count  Dtype         \n",
      "---  ------             --------------  -----         \n",
      " 0   user_id            18068 non-null  int64         \n",
      " 1   distance           18068 non-null  float64       \n",
      " 2   duration           18068 non-null  float64       \n",
      " 3   date               18068 non-null  datetime64[ns]\n",
      " 4   month              18068 non-null  int64         \n",
      " 5   name               18068 non-null  object        \n",
      " 6   age                18068 non-null  int64         \n",
      " 7   city               18068 non-null  object        \n",
      " 8   subscription_type  18068 non-null  object        \n",
      "dtypes: datetime64[ns](1), float64(2), int64(3), object(3)\n",
      "memory usage: 1.4+ MB\n"
     ]
    }
   ],
   "source": [
    "#проверим данные в сводной таблице\n",
    "users_full.info()"
   ]
  },
  {
   "cell_type": "code",
   "execution_count": 99,
   "id": "adbcf3ce-1663-4e30-a2ac-ac2d9b923724",
   "metadata": {},
   "outputs": [
    {
     "data": {
      "text/plain": [
       "user_id              0\n",
       "distance             0\n",
       "duration             0\n",
       "date                 0\n",
       "month                0\n",
       "name                 0\n",
       "age                  0\n",
       "city                 0\n",
       "subscription_type    0\n",
       "dtype: int64"
      ]
     },
     "execution_count": 99,
     "metadata": {},
     "output_type": "execute_result"
    }
   ],
   "source": [
    "#проверим сводную таблицу на пропуски\n",
    "users_full.isna().sum()"
   ]
  },
  {
   "cell_type": "code",
   "execution_count": 100,
   "id": "25814406-80cb-4c2a-a51f-d96d6673454b",
   "metadata": {},
   "outputs": [
    {
     "data": {
      "text/plain": [
       "0"
      ]
     },
     "execution_count": 100,
     "metadata": {},
     "output_type": "execute_result"
    }
   ],
   "source": [
    "#ну и на дублткаты проверим, потому что можем\n",
    "users_full.duplicated().sum()"
   ]
  },
  {
   "cell_type": "markdown",
   "id": "26e2e545-fa59-414e-a801-60ce3614484b",
   "metadata": {},
   "source": [
    "### Пользователи без подписки"
   ]
  },
  {
   "cell_type": "code",
   "execution_count": 101,
   "id": "37e25cb1-c7a1-4c31-bf1d-0cd4f79e1878",
   "metadata": {},
   "outputs": [
    {
     "data": {
      "text/html": [
       "<div>\n",
       "<style scoped>\n",
       "    .dataframe tbody tr th:only-of-type {\n",
       "        vertical-align: middle;\n",
       "    }\n",
       "\n",
       "    .dataframe tbody tr th {\n",
       "        vertical-align: top;\n",
       "    }\n",
       "\n",
       "    .dataframe thead th {\n",
       "        text-align: right;\n",
       "    }\n",
       "</style>\n",
       "<table border=\"1\" class=\"dataframe\">\n",
       "  <thead>\n",
       "    <tr style=\"text-align: right;\">\n",
       "      <th></th>\n",
       "      <th>user_id</th>\n",
       "      <th>distance</th>\n",
       "      <th>duration</th>\n",
       "      <th>date</th>\n",
       "      <th>month</th>\n",
       "      <th>name</th>\n",
       "      <th>age</th>\n",
       "      <th>city</th>\n",
       "      <th>subscription_type</th>\n",
       "    </tr>\n",
       "  </thead>\n",
       "  <tbody>\n",
       "    <tr>\n",
       "      <th>6500</th>\n",
       "      <td>700</td>\n",
       "      <td>2515.690719</td>\n",
       "      <td>15.0</td>\n",
       "      <td>2021-01-02</td>\n",
       "      <td>1</td>\n",
       "      <td>Айдар</td>\n",
       "      <td>22</td>\n",
       "      <td>Омск</td>\n",
       "      <td>free</td>\n",
       "    </tr>\n",
       "    <tr>\n",
       "      <th>6501</th>\n",
       "      <td>700</td>\n",
       "      <td>846.932642</td>\n",
       "      <td>17.0</td>\n",
       "      <td>2021-02-01</td>\n",
       "      <td>2</td>\n",
       "      <td>Айдар</td>\n",
       "      <td>22</td>\n",
       "      <td>Омск</td>\n",
       "      <td>free</td>\n",
       "    </tr>\n",
       "    <tr>\n",
       "      <th>6502</th>\n",
       "      <td>700</td>\n",
       "      <td>4004.434142</td>\n",
       "      <td>21.0</td>\n",
       "      <td>2021-02-04</td>\n",
       "      <td>2</td>\n",
       "      <td>Айдар</td>\n",
       "      <td>22</td>\n",
       "      <td>Омск</td>\n",
       "      <td>free</td>\n",
       "    </tr>\n",
       "    <tr>\n",
       "      <th>6503</th>\n",
       "      <td>700</td>\n",
       "      <td>1205.911290</td>\n",
       "      <td>10.0</td>\n",
       "      <td>2021-02-10</td>\n",
       "      <td>2</td>\n",
       "      <td>Айдар</td>\n",
       "      <td>22</td>\n",
       "      <td>Омск</td>\n",
       "      <td>free</td>\n",
       "    </tr>\n",
       "    <tr>\n",
       "      <th>6504</th>\n",
       "      <td>700</td>\n",
       "      <td>3047.379435</td>\n",
       "      <td>18.0</td>\n",
       "      <td>2021-02-14</td>\n",
       "      <td>2</td>\n",
       "      <td>Айдар</td>\n",
       "      <td>22</td>\n",
       "      <td>Омск</td>\n",
       "      <td>free</td>\n",
       "    </tr>\n",
       "    <tr>\n",
       "      <th>6505</th>\n",
       "      <td>700</td>\n",
       "      <td>4342.002254</td>\n",
       "      <td>23.0</td>\n",
       "      <td>2021-02-23</td>\n",
       "      <td>2</td>\n",
       "      <td>Айдар</td>\n",
       "      <td>22</td>\n",
       "      <td>Омск</td>\n",
       "      <td>free</td>\n",
       "    </tr>\n",
       "    <tr>\n",
       "      <th>6506</th>\n",
       "      <td>700</td>\n",
       "      <td>3798.334905</td>\n",
       "      <td>19.0</td>\n",
       "      <td>2021-03-03</td>\n",
       "      <td>3</td>\n",
       "      <td>Айдар</td>\n",
       "      <td>22</td>\n",
       "      <td>Омск</td>\n",
       "      <td>free</td>\n",
       "    </tr>\n",
       "    <tr>\n",
       "      <th>6507</th>\n",
       "      <td>700</td>\n",
       "      <td>2984.551206</td>\n",
       "      <td>16.0</td>\n",
       "      <td>2021-04-09</td>\n",
       "      <td>4</td>\n",
       "      <td>Айдар</td>\n",
       "      <td>22</td>\n",
       "      <td>Омск</td>\n",
       "      <td>free</td>\n",
       "    </tr>\n",
       "    <tr>\n",
       "      <th>6508</th>\n",
       "      <td>700</td>\n",
       "      <td>3360.107141</td>\n",
       "      <td>17.0</td>\n",
       "      <td>2021-06-12</td>\n",
       "      <td>6</td>\n",
       "      <td>Айдар</td>\n",
       "      <td>22</td>\n",
       "      <td>Омск</td>\n",
       "      <td>free</td>\n",
       "    </tr>\n",
       "    <tr>\n",
       "      <th>6509</th>\n",
       "      <td>700</td>\n",
       "      <td>2567.543847</td>\n",
       "      <td>12.0</td>\n",
       "      <td>2021-06-23</td>\n",
       "      <td>6</td>\n",
       "      <td>Айдар</td>\n",
       "      <td>22</td>\n",
       "      <td>Омск</td>\n",
       "      <td>free</td>\n",
       "    </tr>\n",
       "  </tbody>\n",
       "</table>\n",
       "</div>"
      ],
      "text/plain": [
       "      user_id     distance  duration       date  month   name  age  city  \\\n",
       "6500      700  2515.690719      15.0 2021-01-02      1  Айдар   22  Омск   \n",
       "6501      700   846.932642      17.0 2021-02-01      2  Айдар   22  Омск   \n",
       "6502      700  4004.434142      21.0 2021-02-04      2  Айдар   22  Омск   \n",
       "6503      700  1205.911290      10.0 2021-02-10      2  Айдар   22  Омск   \n",
       "6504      700  3047.379435      18.0 2021-02-14      2  Айдар   22  Омск   \n",
       "6505      700  4342.002254      23.0 2021-02-23      2  Айдар   22  Омск   \n",
       "6506      700  3798.334905      19.0 2021-03-03      3  Айдар   22  Омск   \n",
       "6507      700  2984.551206      16.0 2021-04-09      4  Айдар   22  Омск   \n",
       "6508      700  3360.107141      17.0 2021-06-12      6  Айдар   22  Омск   \n",
       "6509      700  2567.543847      12.0 2021-06-23      6  Айдар   22  Омск   \n",
       "\n",
       "     subscription_type  \n",
       "6500              free  \n",
       "6501              free  \n",
       "6502              free  \n",
       "6503              free  \n",
       "6504              free  \n",
       "6505              free  \n",
       "6506              free  \n",
       "6507              free  \n",
       "6508              free  \n",
       "6509              free  "
      ]
     },
     "execution_count": 101,
     "metadata": {},
     "output_type": "execute_result"
    }
   ],
   "source": [
    "#аккумулируем пользователей без подписки в отдельную таблицу\n",
    "users_non_subscribers = users_full.query('subscription_type == \"free\"')\n",
    "\n",
    "#интересно, что вышло\n",
    "users_non_subscribers.head(10)"
   ]
  },
  {
   "cell_type": "code",
   "execution_count": 102,
   "id": "dde59cd5-f4ca-4bfc-9b7a-e98157405084",
   "metadata": {},
   "outputs": [
    {
     "name": "stdout",
     "output_type": "stream",
     "text": [
      "<class 'pandas.core.frame.DataFrame'>\n",
      "Int64Index: 11568 entries, 6500 to 18067\n",
      "Data columns (total 9 columns):\n",
      " #   Column             Non-Null Count  Dtype         \n",
      "---  ------             --------------  -----         \n",
      " 0   user_id            11568 non-null  int64         \n",
      " 1   distance           11568 non-null  float64       \n",
      " 2   duration           11568 non-null  float64       \n",
      " 3   date               11568 non-null  datetime64[ns]\n",
      " 4   month              11568 non-null  int64         \n",
      " 5   name               11568 non-null  object        \n",
      " 6   age                11568 non-null  int64         \n",
      " 7   city               11568 non-null  object        \n",
      " 8   subscription_type  11568 non-null  object        \n",
      "dtypes: datetime64[ns](1), float64(2), int64(3), object(3)\n",
      "memory usage: 903.8+ KB\n"
     ]
    }
   ],
   "source": [
    "#проверим данные в таблице\n",
    "users_non_subscribers.info()"
   ]
  },
  {
   "cell_type": "code",
   "execution_count": 103,
   "id": "da4e0f82-f58c-4bdd-b980-a6e48c3479e0",
   "metadata": {},
   "outputs": [
    {
     "data": {
      "text/plain": [
       "user_id              0\n",
       "distance             0\n",
       "duration             0\n",
       "date                 0\n",
       "month                0\n",
       "name                 0\n",
       "age                  0\n",
       "city                 0\n",
       "subscription_type    0\n",
       "dtype: int64"
      ]
     },
     "execution_count": 103,
     "metadata": {},
     "output_type": "execute_result"
    }
   ],
   "source": [
    "#проверим пропуски\n",
    "users_non_subscribers.isna().sum()\n"
   ]
  },
  {
   "cell_type": "code",
   "execution_count": 104,
   "id": "be773cf5-1b38-4f84-9e16-1239c65ffa50",
   "metadata": {},
   "outputs": [
    {
     "data": {
      "text/plain": [
       "0"
      ]
     },
     "execution_count": 104,
     "metadata": {},
     "output_type": "execute_result"
    }
   ],
   "source": [
    "#проверим дубликаты\n",
    "users_non_subscribers.duplicated().sum()"
   ]
  },
  {
   "cell_type": "code",
   "execution_count": 105,
   "id": "b49a3e7b-1325-47f5-a586-3e6d0a55e156",
   "metadata": {},
   "outputs": [
    {
     "data": {
      "text/html": [
       "<div>\n",
       "<style scoped>\n",
       "    .dataframe tbody tr th:only-of-type {\n",
       "        vertical-align: middle;\n",
       "    }\n",
       "\n",
       "    .dataframe tbody tr th {\n",
       "        vertical-align: top;\n",
       "    }\n",
       "\n",
       "    .dataframe thead th {\n",
       "        text-align: right;\n",
       "    }\n",
       "</style>\n",
       "<table border=\"1\" class=\"dataframe\">\n",
       "  <thead>\n",
       "    <tr style=\"text-align: right;\">\n",
       "      <th></th>\n",
       "      <th>user_id</th>\n",
       "      <th>distance</th>\n",
       "      <th>duration</th>\n",
       "      <th>month</th>\n",
       "      <th>age</th>\n",
       "    </tr>\n",
       "  </thead>\n",
       "  <tbody>\n",
       "    <tr>\n",
       "      <th>count</th>\n",
       "      <td>11568.000000</td>\n",
       "      <td>11568.000000</td>\n",
       "      <td>11568.000000</td>\n",
       "      <td>11568.000000</td>\n",
       "      <td>11568.000000</td>\n",
       "    </tr>\n",
       "    <tr>\n",
       "      <th>mean</th>\n",
       "      <td>1120.527230</td>\n",
       "      <td>3045.495282</td>\n",
       "      <td>17.890992</td>\n",
       "      <td>6.522994</td>\n",
       "      <td>24.893326</td>\n",
       "    </tr>\n",
       "    <tr>\n",
       "      <th>std</th>\n",
       "      <td>241.165628</td>\n",
       "      <td>1246.173806</td>\n",
       "      <td>6.330250</td>\n",
       "      <td>3.449770</td>\n",
       "      <td>4.481100</td>\n",
       "    </tr>\n",
       "    <tr>\n",
       "      <th>min</th>\n",
       "      <td>700.000000</td>\n",
       "      <td>0.855683</td>\n",
       "      <td>1.000000</td>\n",
       "      <td>1.000000</td>\n",
       "      <td>12.000000</td>\n",
       "    </tr>\n",
       "    <tr>\n",
       "      <th>25%</th>\n",
       "      <td>915.000000</td>\n",
       "      <td>2366.562689</td>\n",
       "      <td>13.000000</td>\n",
       "      <td>4.000000</td>\n",
       "      <td>22.000000</td>\n",
       "    </tr>\n",
       "    <tr>\n",
       "      <th>50%</th>\n",
       "      <td>1123.000000</td>\n",
       "      <td>3114.648465</td>\n",
       "      <td>18.000000</td>\n",
       "      <td>7.000000</td>\n",
       "      <td>25.000000</td>\n",
       "    </tr>\n",
       "    <tr>\n",
       "      <th>75%</th>\n",
       "      <td>1328.000000</td>\n",
       "      <td>3905.697894</td>\n",
       "      <td>22.000000</td>\n",
       "      <td>9.000000</td>\n",
       "      <td>28.000000</td>\n",
       "    </tr>\n",
       "    <tr>\n",
       "      <th>max</th>\n",
       "      <td>1534.000000</td>\n",
       "      <td>7211.007745</td>\n",
       "      <td>35.000000</td>\n",
       "      <td>12.000000</td>\n",
       "      <td>43.000000</td>\n",
       "    </tr>\n",
       "  </tbody>\n",
       "</table>\n",
       "</div>"
      ],
      "text/plain": [
       "            user_id      distance      duration         month           age\n",
       "count  11568.000000  11568.000000  11568.000000  11568.000000  11568.000000\n",
       "mean    1120.527230   3045.495282     17.890992      6.522994     24.893326\n",
       "std      241.165628   1246.173806      6.330250      3.449770      4.481100\n",
       "min      700.000000      0.855683      1.000000      1.000000     12.000000\n",
       "25%      915.000000   2366.562689     13.000000      4.000000     22.000000\n",
       "50%     1123.000000   3114.648465     18.000000      7.000000     25.000000\n",
       "75%     1328.000000   3905.697894     22.000000      9.000000     28.000000\n",
       "max     1534.000000   7211.007745     35.000000     12.000000     43.000000"
      ]
     },
     "execution_count": 105,
     "metadata": {},
     "output_type": "execute_result"
    }
   ],
   "source": [
    "#оценим статистические данные о пользователях без подписки\n",
    "users_non_subscribers.describe()"
   ]
  },
  {
   "cell_type": "markdown",
   "id": "406357bd-bf55-419e-9526-cd0493268519",
   "metadata": {},
   "source": [
    "- В сводном датасете было 18068 поездок, и, как мы видим, почти 2/3 из них приходится на пользователей без подписки, хотя само число пользователей с подпиской и без отличается меньше, чем на 10%."
   ]
  },
  {
   "cell_type": "markdown",
   "id": "91bb7708-ec45-4376-b31c-bd937732435a",
   "metadata": {},
   "source": [
    "#### Расстояние поездок"
   ]
  },
  {
   "cell_type": "code",
   "execution_count": 106,
   "id": "55445486-2f26-43b1-b3f5-b40e6d9dcc2a",
   "metadata": {},
   "outputs": [
    {
     "data": {
      "image/png": "[encoded data removed]",
      "text/plain": [
       "<Figure size 640x480 with 1 Axes>"
      ]
     },
     "metadata": {},
     "output_type": "display_data"
    }
   ],
   "source": [
    "#визуализируем данные по расстоянию, которое проезжают за одну поездку пользователи без подписки\n",
    "users_non_subscribers.hist(column='distance', bins=30, range=(0, 7300), grid=False);\n",
    "\n",
    "plt.title('Расcтояние поездок')\n",
    "plt.ylabel('Число поездок')\n",
    "plt.xlabel('Расстояние в метрах')\n",
    "\n",
    "plt.show()"
   ]
  },
  {
   "cell_type": "markdown",
   "id": "30c60eee-2b00-43f7-a225-e59145f2efc1",
   "metadata": {},
   "source": [
    "- По графику заметно, что большая часть экстремальных-аномальных поездок (на 2 квартала и на 7 км) - дело пользователей без подписки: и пик на короткие дистанции здесь ярче выражен, и хвост супердлинных поездок на месте. \n",
    "- В целом же картина осталась та же, просто с небольшой поправкой на число экстремальных значений: медиана 3114 м, 50% значений - в диапазоне от 2300 до 3900 (для сравнения, в общем датасете - от 2500 до 3800)."
   ]
  },
  {
   "cell_type": "markdown",
   "id": "996a701b-9bea-433c-9321-0202599a72ac",
   "metadata": {},
   "source": [
    "#### Длительность поездок"
   ]
  },
  {
   "cell_type": "code",
   "execution_count": 107,
   "id": "b61d01bd-ab07-43da-82e8-97b0910b2e3a",
   "metadata": {},
   "outputs": [
    {
     "data": {
      "image/png": "[encoded data removed]",
      "text/plain": [
       "<Figure size 640x480 with 1 Axes>"
      ]
     },
     "metadata": {},
     "output_type": "display_data"
    }
   ],
   "source": [
    "#визуализируем данные по длительности поездок пользователей без подписки\n",
    "users_non_subscribers.hist(column='duration', bins=20, range=(0, 40), grid=False);\n",
    "\n",
    "plt.title('Длительность поездок')\n",
    "plt.ylabel('Число поездок')\n",
    "plt.xlabel('Длительность в минутах')\n",
    "\n",
    "plt.show()"
   ]
  },
  {
   "cell_type": "markdown",
   "id": "a5b8d8a0-4b25-4cf2-8b19-7c57510783cd",
   "metadata": {},
   "source": [
    "- График предсказуемо схож с графиком расстояний, особенно тот же пик на суперкороткие поездки.\n",
    "- В остальном среднее время поездки примерно то же, что и в целом, как и диапазон времени основного числа поездок (с поправкой на любовь к суперкоротким тестовым заездам): медиана 18, и 50% значений - в диапазоне от 13 до 22 минут."
   ]
  },
  {
   "cell_type": "markdown",
   "id": "d89cfd44-ca0a-45e6-a828-7fb89b1d7706",
   "metadata": {},
   "source": [
    "### Пользователи с подпиской"
   ]
  },
  {
   "cell_type": "code",
   "execution_count": 108,
   "id": "6d888c6c-2923-40a5-8606-3b38f0ad3d32",
   "metadata": {},
   "outputs": [
    {
     "data": {
      "text/html": [
       "<div>\n",
       "<style scoped>\n",
       "    .dataframe tbody tr th:only-of-type {\n",
       "        vertical-align: middle;\n",
       "    }\n",
       "\n",
       "    .dataframe tbody tr th {\n",
       "        vertical-align: top;\n",
       "    }\n",
       "\n",
       "    .dataframe thead th {\n",
       "        text-align: right;\n",
       "    }\n",
       "</style>\n",
       "<table border=\"1\" class=\"dataframe\">\n",
       "  <thead>\n",
       "    <tr style=\"text-align: right;\">\n",
       "      <th></th>\n",
       "      <th>user_id</th>\n",
       "      <th>distance</th>\n",
       "      <th>duration</th>\n",
       "      <th>date</th>\n",
       "      <th>month</th>\n",
       "      <th>name</th>\n",
       "      <th>age</th>\n",
       "      <th>city</th>\n",
       "      <th>subscription_type</th>\n",
       "    </tr>\n",
       "  </thead>\n",
       "  <tbody>\n",
       "    <tr>\n",
       "      <th>0</th>\n",
       "      <td>1</td>\n",
       "      <td>4409.919140</td>\n",
       "      <td>26.0</td>\n",
       "      <td>2021-01-01</td>\n",
       "      <td>1</td>\n",
       "      <td>Кира</td>\n",
       "      <td>22</td>\n",
       "      <td>Тюмень</td>\n",
       "      <td>ultra</td>\n",
       "    </tr>\n",
       "    <tr>\n",
       "      <th>1</th>\n",
       "      <td>1</td>\n",
       "      <td>2617.592153</td>\n",
       "      <td>16.0</td>\n",
       "      <td>2021-01-18</td>\n",
       "      <td>1</td>\n",
       "      <td>Кира</td>\n",
       "      <td>22</td>\n",
       "      <td>Тюмень</td>\n",
       "      <td>ultra</td>\n",
       "    </tr>\n",
       "    <tr>\n",
       "      <th>2</th>\n",
       "      <td>1</td>\n",
       "      <td>754.159807</td>\n",
       "      <td>7.0</td>\n",
       "      <td>2021-04-20</td>\n",
       "      <td>4</td>\n",
       "      <td>Кира</td>\n",
       "      <td>22</td>\n",
       "      <td>Тюмень</td>\n",
       "      <td>ultra</td>\n",
       "    </tr>\n",
       "    <tr>\n",
       "      <th>3</th>\n",
       "      <td>1</td>\n",
       "      <td>2694.783254</td>\n",
       "      <td>19.0</td>\n",
       "      <td>2021-08-11</td>\n",
       "      <td>8</td>\n",
       "      <td>Кира</td>\n",
       "      <td>22</td>\n",
       "      <td>Тюмень</td>\n",
       "      <td>ultra</td>\n",
       "    </tr>\n",
       "    <tr>\n",
       "      <th>4</th>\n",
       "      <td>1</td>\n",
       "      <td>4028.687306</td>\n",
       "      <td>27.0</td>\n",
       "      <td>2021-08-28</td>\n",
       "      <td>8</td>\n",
       "      <td>Кира</td>\n",
       "      <td>22</td>\n",
       "      <td>Тюмень</td>\n",
       "      <td>ultra</td>\n",
       "    </tr>\n",
       "    <tr>\n",
       "      <th>5</th>\n",
       "      <td>1</td>\n",
       "      <td>2770.890808</td>\n",
       "      <td>17.0</td>\n",
       "      <td>2021-10-09</td>\n",
       "      <td>10</td>\n",
       "      <td>Кира</td>\n",
       "      <td>22</td>\n",
       "      <td>Тюмень</td>\n",
       "      <td>ultra</td>\n",
       "    </tr>\n",
       "    <tr>\n",
       "      <th>6</th>\n",
       "      <td>1</td>\n",
       "      <td>3039.020292</td>\n",
       "      <td>15.0</td>\n",
       "      <td>2021-10-19</td>\n",
       "      <td>10</td>\n",
       "      <td>Кира</td>\n",
       "      <td>22</td>\n",
       "      <td>Тюмень</td>\n",
       "      <td>ultra</td>\n",
       "    </tr>\n",
       "    <tr>\n",
       "      <th>7</th>\n",
       "      <td>1</td>\n",
       "      <td>2842.118050</td>\n",
       "      <td>24.0</td>\n",
       "      <td>2021-11-06</td>\n",
       "      <td>11</td>\n",
       "      <td>Кира</td>\n",
       "      <td>22</td>\n",
       "      <td>Тюмень</td>\n",
       "      <td>ultra</td>\n",
       "    </tr>\n",
       "    <tr>\n",
       "      <th>8</th>\n",
       "      <td>1</td>\n",
       "      <td>3412.690668</td>\n",
       "      <td>16.0</td>\n",
       "      <td>2021-11-14</td>\n",
       "      <td>11</td>\n",
       "      <td>Кира</td>\n",
       "      <td>22</td>\n",
       "      <td>Тюмень</td>\n",
       "      <td>ultra</td>\n",
       "    </tr>\n",
       "    <tr>\n",
       "      <th>9</th>\n",
       "      <td>1</td>\n",
       "      <td>748.690645</td>\n",
       "      <td>16.0</td>\n",
       "      <td>2021-11-22</td>\n",
       "      <td>11</td>\n",
       "      <td>Кира</td>\n",
       "      <td>22</td>\n",
       "      <td>Тюмень</td>\n",
       "      <td>ultra</td>\n",
       "    </tr>\n",
       "  </tbody>\n",
       "</table>\n",
       "</div>"
      ],
      "text/plain": [
       "   user_id     distance  duration       date  month  name  age    city  \\\n",
       "0        1  4409.919140      26.0 2021-01-01      1  Кира   22  Тюмень   \n",
       "1        1  2617.592153      16.0 2021-01-18      1  Кира   22  Тюмень   \n",
       "2        1   754.159807       7.0 2021-04-20      4  Кира   22  Тюмень   \n",
       "3        1  2694.783254      19.0 2021-08-11      8  Кира   22  Тюмень   \n",
       "4        1  4028.687306      27.0 2021-08-28      8  Кира   22  Тюмень   \n",
       "5        1  2770.890808      17.0 2021-10-09     10  Кира   22  Тюмень   \n",
       "6        1  3039.020292      15.0 2021-10-19     10  Кира   22  Тюмень   \n",
       "7        1  2842.118050      24.0 2021-11-06     11  Кира   22  Тюмень   \n",
       "8        1  3412.690668      16.0 2021-11-14     11  Кира   22  Тюмень   \n",
       "9        1   748.690645      16.0 2021-11-22     11  Кира   22  Тюмень   \n",
       "\n",
       "  subscription_type  \n",
       "0             ultra  \n",
       "1             ultra  \n",
       "2             ultra  \n",
       "3             ultra  \n",
       "4             ultra  \n",
       "5             ultra  \n",
       "6             ultra  \n",
       "7             ultra  \n",
       "8             ultra  \n",
       "9             ultra  "
      ]
     },
     "execution_count": 108,
     "metadata": {},
     "output_type": "execute_result"
    }
   ],
   "source": [
    "#аккумулируем пользователей с подпиской в отдельную таблицу\n",
    "users_subscribers = users_full.query('subscription_type == \"ultra\"')\n",
    "\n",
    "#интересно, что вышло\n",
    "users_subscribers.head(10)"
   ]
  },
  {
   "cell_type": "code",
   "execution_count": 109,
   "id": "9f58bd3e-2c07-4ff0-8e21-04f518e220c3",
   "metadata": {},
   "outputs": [
    {
     "name": "stdout",
     "output_type": "stream",
     "text": [
      "<class 'pandas.core.frame.DataFrame'>\n",
      "Int64Index: 6500 entries, 0 to 6499\n",
      "Data columns (total 9 columns):\n",
      " #   Column             Non-Null Count  Dtype         \n",
      "---  ------             --------------  -----         \n",
      " 0   user_id            6500 non-null   int64         \n",
      " 1   distance           6500 non-null   float64       \n",
      " 2   duration           6500 non-null   float64       \n",
      " 3   date               6500 non-null   datetime64[ns]\n",
      " 4   month              6500 non-null   int64         \n",
      " 5   name               6500 non-null   object        \n",
      " 6   age                6500 non-null   int64         \n",
      " 7   city               6500 non-null   object        \n",
      " 8   subscription_type  6500 non-null   object        \n",
      "dtypes: datetime64[ns](1), float64(2), int64(3), object(3)\n",
      "memory usage: 507.8+ KB\n"
     ]
    }
   ],
   "source": [
    "#проверим данные\n",
    "users_subscribers.info()"
   ]
  },
  {
   "cell_type": "code",
   "execution_count": 110,
   "id": "b04945a0-e2a9-436c-86e5-4834c8f1788a",
   "metadata": {},
   "outputs": [
    {
     "data": {
      "text/plain": [
       "user_id              0\n",
       "distance             0\n",
       "duration             0\n",
       "date                 0\n",
       "month                0\n",
       "name                 0\n",
       "age                  0\n",
       "city                 0\n",
       "subscription_type    0\n",
       "dtype: int64"
      ]
     },
     "execution_count": 110,
     "metadata": {},
     "output_type": "execute_result"
    }
   ],
   "source": [
    "#проверим пропуски\n",
    "users_subscribers.isna().sum()"
   ]
  },
  {
   "cell_type": "code",
   "execution_count": 111,
   "id": "2d4a7b1e-90af-4d9d-980c-2a8f861eb15f",
   "metadata": {},
   "outputs": [
    {
     "data": {
      "text/plain": [
       "0"
      ]
     },
     "execution_count": 111,
     "metadata": {},
     "output_type": "execute_result"
    }
   ],
   "source": [
    "#проверим дубликаты\n",
    "users_subscribers.duplicated().sum()"
   ]
  },
  {
   "cell_type": "code",
   "execution_count": 112,
   "id": "46ba5b00-48e5-4e6e-b7d2-101f878687b9",
   "metadata": {},
   "outputs": [
    {
     "data": {
      "text/html": [
       "<div>\n",
       "<style scoped>\n",
       "    .dataframe tbody tr th:only-of-type {\n",
       "        vertical-align: middle;\n",
       "    }\n",
       "\n",
       "    .dataframe tbody tr th {\n",
       "        vertical-align: top;\n",
       "    }\n",
       "\n",
       "    .dataframe thead th {\n",
       "        text-align: right;\n",
       "    }\n",
       "</style>\n",
       "<table border=\"1\" class=\"dataframe\">\n",
       "  <thead>\n",
       "    <tr style=\"text-align: right;\">\n",
       "      <th></th>\n",
       "      <th>user_id</th>\n",
       "      <th>distance</th>\n",
       "      <th>duration</th>\n",
       "      <th>month</th>\n",
       "      <th>age</th>\n",
       "    </tr>\n",
       "  </thead>\n",
       "  <tbody>\n",
       "    <tr>\n",
       "      <th>count</th>\n",
       "      <td>6500.000000</td>\n",
       "      <td>6500.000000</td>\n",
       "      <td>6500.000000</td>\n",
       "      <td>6500.000000</td>\n",
       "      <td>6500.000000</td>\n",
       "    </tr>\n",
       "    <tr>\n",
       "      <th>mean</th>\n",
       "      <td>348.725385</td>\n",
       "      <td>3115.445388</td>\n",
       "      <td>19.037692</td>\n",
       "      <td>6.422308</td>\n",
       "      <td>24.892615</td>\n",
       "    </tr>\n",
       "    <tr>\n",
       "      <th>std</th>\n",
       "      <td>201.099339</td>\n",
       "      <td>836.895330</td>\n",
       "      <td>5.577439</td>\n",
       "      <td>3.414616</td>\n",
       "      <td>4.757208</td>\n",
       "    </tr>\n",
       "    <tr>\n",
       "      <th>min</th>\n",
       "      <td>1.000000</td>\n",
       "      <td>244.210438</td>\n",
       "      <td>4.000000</td>\n",
       "      <td>1.000000</td>\n",
       "      <td>12.000000</td>\n",
       "    </tr>\n",
       "    <tr>\n",
       "      <th>25%</th>\n",
       "      <td>175.000000</td>\n",
       "      <td>2785.444017</td>\n",
       "      <td>15.000000</td>\n",
       "      <td>4.000000</td>\n",
       "      <td>22.000000</td>\n",
       "    </tr>\n",
       "    <tr>\n",
       "      <th>50%</th>\n",
       "      <td>351.000000</td>\n",
       "      <td>3148.637229</td>\n",
       "      <td>19.000000</td>\n",
       "      <td>6.000000</td>\n",
       "      <td>25.000000</td>\n",
       "    </tr>\n",
       "    <tr>\n",
       "      <th>75%</th>\n",
       "      <td>525.000000</td>\n",
       "      <td>3560.574425</td>\n",
       "      <td>22.000000</td>\n",
       "      <td>9.000000</td>\n",
       "      <td>28.000000</td>\n",
       "    </tr>\n",
       "    <tr>\n",
       "      <th>max</th>\n",
       "      <td>699.000000</td>\n",
       "      <td>5699.769662</td>\n",
       "      <td>41.000000</td>\n",
       "      <td>12.000000</td>\n",
       "      <td>38.000000</td>\n",
       "    </tr>\n",
       "  </tbody>\n",
       "</table>\n",
       "</div>"
      ],
      "text/plain": [
       "           user_id     distance     duration        month          age\n",
       "count  6500.000000  6500.000000  6500.000000  6500.000000  6500.000000\n",
       "mean    348.725385  3115.445388    19.037692     6.422308    24.892615\n",
       "std     201.099339   836.895330     5.577439     3.414616     4.757208\n",
       "min       1.000000   244.210438     4.000000     1.000000    12.000000\n",
       "25%     175.000000  2785.444017    15.000000     4.000000    22.000000\n",
       "50%     351.000000  3148.637229    19.000000     6.000000    25.000000\n",
       "75%     525.000000  3560.574425    22.000000     9.000000    28.000000\n",
       "max     699.000000  5699.769662    41.000000    12.000000    38.000000"
      ]
     },
     "execution_count": 112,
     "metadata": {},
     "output_type": "execute_result"
    }
   ],
   "source": [
    "#оценим статистические данные о пользователях без подписки\n",
    "users_subscribers.describe()"
   ]
  },
  {
   "cell_type": "markdown",
   "id": "dd2d24e6-7fd6-4a22-bc5e-1c17ec66a597",
   "metadata": {},
   "source": [
    "#### Расстояние поездок"
   ]
  },
  {
   "cell_type": "code",
   "execution_count": 113,
   "id": "b3f39703-e676-4051-8470-0e393ecf34af",
   "metadata": {},
   "outputs": [
    {
     "data": {
      "image/png": "[encoded data removed]",
      "text/plain": [
       "<Figure size 640x480 with 1 Axes>"
      ]
     },
     "metadata": {},
     "output_type": "display_data"
    }
   ],
   "source": [
    "#визуализируем данные по расстоянию, которое проезжают за одну поездку пользователи с подпиской\n",
    "users_subscribers.hist(column='distance', bins=30, range=(0, 5700), grid=False);\n",
    "\n",
    "plt.title('Расcтояние поездок')\n",
    "plt.ylabel('Число поездок')\n",
    "plt.xlabel('Расстояние в метрах')\n",
    "\n",
    "plt.show()"
   ]
  },
  {
   "cell_type": "markdown",
   "id": "2fecadfe-8ba9-4b1b-83dc-2acceac42f9c",
   "metadata": {},
   "source": [
    "- Подписчики сервиса заметно реже совершают путешествия на 500 метров и вообще никогда - аномально далекие заезды.\n",
    "- Медиана поездок - 3148, при этом 50% поездок находятся в диапазоне от 2750 до 3550, что чуть компактнее, относительно общей картины."
   ]
  },
  {
   "cell_type": "markdown",
   "id": "31eee59c-7ddf-44a5-990c-23dacd0a7b42",
   "metadata": {},
   "source": [
    "#### Длительность поездок"
   ]
  },
  {
   "cell_type": "code",
   "execution_count": 114,
   "id": "d44e77e1-9c97-473e-b796-123b9abfb8cf",
   "metadata": {},
   "outputs": [
    {
     "data": {
      "image/png": "[encoded data removed]",
      "text/plain": [
       "<Figure size 640x480 with 1 Axes>"
      ]
     },
     "metadata": {},
     "output_type": "display_data"
    }
   ],
   "source": [
    "#визуализируем данные по длительности поездок пользователей с подпиской\n",
    "users_non_subscribers.hist(column='distance', bins=30, range=(0, 7300), grid=False)\n",
    "\n",
    "plt.title('Длительность поездок')\n",
    "plt.ylabel('Число поездок')\n",
    "plt.xlabel('Длительность в минутах')\n",
    "\n",
    "plt.show()"
   ]
  },
  {
   "cell_type": "markdown",
   "id": "f279125d-1c2c-42ba-b69e-768320d88cea",
   "metadata": {},
   "source": [
    "- В целом график повторяет ситуацию с расстоянием, да и в целом почти не отличается от общей картины - буквально на минуту: медиана уже 19 минут, а 50% значений лежат между 15 и 22 минутами.\n",
    "- Примечательно и то, что единичные рекорды длительности принадлежат пользователям с подпиской."
   ]
  },
  {
   "cell_type": "markdown",
   "id": "aa897c4a-cd5e-4b6f-ba04-1a51b34066d8",
   "metadata": {},
   "source": [
    "### Сравнительные графики"
   ]
  },
  {
   "cell_type": "code",
   "execution_count": 115,
   "id": "753c5ca1-ef99-48a2-b650-9a142b6d25d7",
   "metadata": {},
   "outputs": [
    {
     "data": {
      "image/png": "[encoded data removed]",
      "text/plain": [
       "<Figure size 640x480 with 1 Axes>"
      ]
     },
     "metadata": {},
     "output_type": "display_data"
    }
   ],
   "source": [
    "#строим гистограмму для пользователей без подписки\n",
    "users_subscribers['distance'].hist(bins=30, range=(0, 10000), alpha=0.5, label='Подписчики', color='blue', grid=False)\n",
    "\n",
    "#строим гистограмму для пользователей с подпиской\n",
    "users_non_subscribers['distance'].hist(bins=30, range=(0, 10000), alpha=0.5, label='Неподписчики', color='red', grid=False)\n",
    "\n",
    "#отметим медианы для обоих значений\n",
    "median_subscribers = users_subscribers['distance'].median()\n",
    "median_non_subscribers = users_non_subscribers['distance'].median()\n",
    "plt.axvline(median_subscribers, color='blue', linestyle='dashed', linewidth=2, label=f'Медиана подписчиков: {median_subscribers:.2f}')\n",
    "plt.axvline(median_non_subscribers, color='orange', linestyle='dashed', linewidth=2, label=f'Медиана неподписчиков: {median_non_subscribers:.2f}')\n",
    "\n",
    "plt.title('Расстояние поездок')\n",
    "plt.ylabel('Число поездок')\n",
    "plt.xlabel('Расстояние в метрах')\n",
    "\n",
    "plt.legend()\n",
    "\n",
    "plt.show()"
   ]
  },
  {
   "cell_type": "code",
   "execution_count": 116,
   "id": "6427d4dd-485d-4020-a189-74d76d9cdfa9",
   "metadata": {},
   "outputs": [
    {
     "data": {
      "image/png": "[encoded data removed]",
      "text/plain": [
       "<Figure size 640x480 with 1 Axes>"
      ]
     },
     "metadata": {},
     "output_type": "display_data"
    }
   ],
   "source": [
    "#строим гистограмму для пользователей без подписки\n",
    "users_subscribers['duration'].hist(bins=20, range=(0, 60), alpha=0.5, label='Подписчики', color='blue', grid=False)\n",
    "\n",
    "#строим гистограмму для пользователей с подпиской\n",
    "users_non_subscribers['duration'].hist(bins=20, range=(0, 60), alpha=0.5, label='Неподписчики', color='red', grid=False)\n",
    "\n",
    "#отметим медианы для обоих значений\n",
    "median_subscribers = users_subscribers['duration'].median()\n",
    "median_non_subscribers = users_non_subscribers['duration'].median()\n",
    "plt.axvline(median_subscribers, color='blue', linestyle='dashed', linewidth=2, label=f'Медиана подписчиков: {median_subscribers:.2f}')\n",
    "plt.axvline(median_non_subscribers, color='orange', linestyle='dashed', linewidth=2, label=f'Медиана неподписчиков: {median_non_subscribers:.2f}')\n",
    "\n",
    "plt.title('Длительность поездок')\n",
    "plt.ylabel('Число поездок')\n",
    "plt.xlabel('Длительность в минутах')\n",
    "\n",
    "plt.legend()\n",
    "\n",
    "plt.show()"
   ]
  },
  {
   "cell_type": "markdown",
   "id": "e419c5e1-face-4d31-930c-846da0bc5e18",
   "metadata": {},
   "source": [
    "- На сравнительных графиках заметна разница в объеме поездок в целом.\n",
    "- На сравнительных графиках также заметнее, что значения пользователей с подпиской в принципе в более компактных диапазонах лежат. Особенно это заметно на поездках на суперкороткие дистанции.\n",
    "- На сравнительных графиках заметно, что медианы и паттерны в целом схожи."
   ]
  },
  {
   "cell_type": "markdown",
   "id": "b9a11dc8-2b37-4b1e-bea0-3703f85e7fab",
   "metadata": {},
   "source": [
    "### Выводы о паттернах поведения по типу подписки"
   ]
  },
  {
   "cell_type": "markdown",
   "id": "c82a6266-a83c-4dda-a07a-a401eaa8d188",
   "metadata": {},
   "source": [
    "- Сейчас пользователи без подписки совершают почти вдвое больше поездок, чем пользователи с подпиской.\n",
    "- Большинство аномальных поездок - и очень коротких, и очень больших, - совершают пользователи без подписки.\n",
    "- В остальном паттерны по времени и длительности у двух групп довольно схожи."
   ]
  },
  {
   "cell_type": "markdown",
   "id": "e5027694-0d05-4030-8b78-2e3d86763489",
   "metadata": {},
   "source": [
    "## Доходность разных типов пользователей"
   ]
  },
  {
   "cell_type": "markdown",
   "id": "13d7e103-5196-406b-b8bd-b7a8b19dcc41",
   "metadata": {},
   "source": [
    "Для дальнейшей проверки гипотез о доходах создадим таблицу о доходах."
   ]
  },
  {
   "cell_type": "code",
   "execution_count": 117,
   "id": "5d787013-1f84-4454-ad7e-6aa053762b97",
   "metadata": {},
   "outputs": [
    {
     "data": {
      "text/html": [
       "<div>\n",
       "<style scoped>\n",
       "    .dataframe tbody tr th:only-of-type {\n",
       "        vertical-align: middle;\n",
       "    }\n",
       "\n",
       "    .dataframe tbody tr th {\n",
       "        vertical-align: top;\n",
       "    }\n",
       "\n",
       "    .dataframe thead th {\n",
       "        text-align: right;\n",
       "    }\n",
       "</style>\n",
       "<table border=\"1\" class=\"dataframe\">\n",
       "  <thead>\n",
       "    <tr style=\"text-align: right;\">\n",
       "      <th></th>\n",
       "      <th>month</th>\n",
       "      <th>user_id</th>\n",
       "      <th>subscription_type</th>\n",
       "      <th>trips_per_month</th>\n",
       "      <th>distance_per_month</th>\n",
       "      <th>duration_per_month</th>\n",
       "      <th>minute_price</th>\n",
       "      <th>start_ride_price</th>\n",
       "      <th>subscription_fee</th>\n",
       "    </tr>\n",
       "  </thead>\n",
       "  <tbody>\n",
       "    <tr>\n",
       "      <th>0</th>\n",
       "      <td>1</td>\n",
       "      <td>1</td>\n",
       "      <td>ultra</td>\n",
       "      <td>2</td>\n",
       "      <td>7027.511294</td>\n",
       "      <td>42.0</td>\n",
       "      <td>6</td>\n",
       "      <td>0</td>\n",
       "      <td>199</td>\n",
       "    </tr>\n",
       "    <tr>\n",
       "      <th>1</th>\n",
       "      <td>1</td>\n",
       "      <td>3</td>\n",
       "      <td>ultra</td>\n",
       "      <td>1</td>\n",
       "      <td>3061.777147</td>\n",
       "      <td>13.0</td>\n",
       "      <td>6</td>\n",
       "      <td>0</td>\n",
       "      <td>199</td>\n",
       "    </tr>\n",
       "    <tr>\n",
       "      <th>2</th>\n",
       "      <td>1</td>\n",
       "      <td>5</td>\n",
       "      <td>ultra</td>\n",
       "      <td>1</td>\n",
       "      <td>3914.646990</td>\n",
       "      <td>13.0</td>\n",
       "      <td>6</td>\n",
       "      <td>0</td>\n",
       "      <td>199</td>\n",
       "    </tr>\n",
       "    <tr>\n",
       "      <th>3</th>\n",
       "      <td>1</td>\n",
       "      <td>7</td>\n",
       "      <td>ultra</td>\n",
       "      <td>2</td>\n",
       "      <td>6478.080979</td>\n",
       "      <td>28.0</td>\n",
       "      <td>6</td>\n",
       "      <td>0</td>\n",
       "      <td>199</td>\n",
       "    </tr>\n",
       "    <tr>\n",
       "      <th>4</th>\n",
       "      <td>1</td>\n",
       "      <td>12</td>\n",
       "      <td>ultra</td>\n",
       "      <td>1</td>\n",
       "      <td>3577.151148</td>\n",
       "      <td>33.0</td>\n",
       "      <td>6</td>\n",
       "      <td>0</td>\n",
       "      <td>199</td>\n",
       "    </tr>\n",
       "  </tbody>\n",
       "</table>\n",
       "</div>"
      ],
      "text/plain": [
       "   month  user_id subscription_type  trips_per_month  distance_per_month  \\\n",
       "0      1        1             ultra                2         7027.511294   \n",
       "1      1        3             ultra                1         3061.777147   \n",
       "2      1        5             ultra                1         3914.646990   \n",
       "3      1        7             ultra                2         6478.080979   \n",
       "4      1       12             ultra                1         3577.151148   \n",
       "\n",
       "   duration_per_month  minute_price  start_ride_price  subscription_fee  \n",
       "0                42.0             6                 0               199  \n",
       "1                13.0             6                 0               199  \n",
       "2                13.0             6                 0               199  \n",
       "3                28.0             6                 0               199  \n",
       "4                33.0             6                 0               199  "
      ]
     },
     "execution_count": 117,
     "metadata": {},
     "output_type": "execute_result"
    }
   ],
   "source": [
    "#создадим таблицу, в которой посчитаем помесячные показатели для каждого пользователя: число поездок, дистанцию, время в поездке.\n",
    "users_revenue = users_full.groupby(['month', 'user_id', 'subscription_type']).agg({'distance': ['count', 'sum'], 'duration': 'sum'}).reset_index()\n",
    "users_revenue.columns = ['month', 'user_id', 'subscription_type', 'trips_per_month', 'distance_per_month', 'duration_per_month']\n",
    "\n",
    "#добавим данные по условиям подписки, потому что они нам еще пригодятся\n",
    "users_revenue = users_revenue.merge(subscriptions, how='outer', on='subscription_type')\n",
    "\n",
    "users_revenue.head(5)"
   ]
  },
  {
   "cell_type": "code",
   "execution_count": 118,
   "id": "dae9f60a-5c08-4ca9-b92a-ff87429b06f6",
   "metadata": {},
   "outputs": [
    {
     "name": "stdout",
     "output_type": "stream",
     "text": [
      "<class 'pandas.core.frame.DataFrame'>\n",
      "Int64Index: 11331 entries, 0 to 11330\n",
      "Data columns (total 9 columns):\n",
      " #   Column              Non-Null Count  Dtype  \n",
      "---  ------              --------------  -----  \n",
      " 0   month               11331 non-null  int64  \n",
      " 1   user_id             11331 non-null  int64  \n",
      " 2   subscription_type   11331 non-null  object \n",
      " 3   trips_per_month     11331 non-null  int64  \n",
      " 4   distance_per_month  11331 non-null  float64\n",
      " 5   duration_per_month  11331 non-null  float64\n",
      " 6   minute_price        11331 non-null  int64  \n",
      " 7   start_ride_price    11331 non-null  int64  \n",
      " 8   subscription_fee    11331 non-null  int64  \n",
      "dtypes: float64(2), int64(6), object(1)\n",
      "memory usage: 885.2+ KB\n"
     ]
    }
   ],
   "source": [
    "#проверим данные в таблице\n",
    "users_revenue.info()"
   ]
  },
  {
   "cell_type": "code",
   "execution_count": 119,
   "id": "b5e8d2fe-2bf9-441a-a5f7-fe2d2d009c09",
   "metadata": {},
   "outputs": [
    {
     "data": {
      "text/plain": [
       "month                 0\n",
       "user_id               0\n",
       "subscription_type     0\n",
       "trips_per_month       0\n",
       "distance_per_month    0\n",
       "duration_per_month    0\n",
       "minute_price          0\n",
       "start_ride_price      0\n",
       "subscription_fee      0\n",
       "dtype: int64"
      ]
     },
     "execution_count": 119,
     "metadata": {},
     "output_type": "execute_result"
    }
   ],
   "source": [
    "#проверим пропуски в таблице\n",
    "users_revenue.isna().sum()"
   ]
  },
  {
   "cell_type": "code",
   "execution_count": 120,
   "id": "a6477765-9203-4513-a64f-cc77fe9be8b9",
   "metadata": {},
   "outputs": [
    {
     "data": {
      "text/plain": [
       "0"
      ]
     },
     "execution_count": 120,
     "metadata": {},
     "output_type": "execute_result"
    }
   ],
   "source": [
    "#проверим дубликаты в таблице\n",
    "users_revenue.duplicated().sum()"
   ]
  },
  {
   "cell_type": "code",
   "execution_count": 121,
   "id": "af3f995c-0332-40a6-a5cc-d0ee9fc2d13a",
   "metadata": {},
   "outputs": [
    {
     "data": {
      "text/html": [
       "<div>\n",
       "<style scoped>\n",
       "    .dataframe tbody tr th:only-of-type {\n",
       "        vertical-align: middle;\n",
       "    }\n",
       "\n",
       "    .dataframe tbody tr th {\n",
       "        vertical-align: top;\n",
       "    }\n",
       "\n",
       "    .dataframe thead th {\n",
       "        text-align: right;\n",
       "    }\n",
       "</style>\n",
       "<table border=\"1\" class=\"dataframe\">\n",
       "  <thead>\n",
       "    <tr style=\"text-align: right;\">\n",
       "      <th></th>\n",
       "      <th>month</th>\n",
       "      <th>user_id</th>\n",
       "      <th>subscription_type</th>\n",
       "      <th>trips_per_month</th>\n",
       "      <th>distance_per_month</th>\n",
       "      <th>duration_per_month</th>\n",
       "      <th>minute_price</th>\n",
       "      <th>start_ride_price</th>\n",
       "      <th>subscription_fee</th>\n",
       "      <th>revenue_per_month</th>\n",
       "    </tr>\n",
       "  </thead>\n",
       "  <tbody>\n",
       "    <tr>\n",
       "      <th>0</th>\n",
       "      <td>1</td>\n",
       "      <td>1</td>\n",
       "      <td>ultra</td>\n",
       "      <td>2</td>\n",
       "      <td>7027.511294</td>\n",
       "      <td>42.0</td>\n",
       "      <td>6</td>\n",
       "      <td>0</td>\n",
       "      <td>199</td>\n",
       "      <td>451.0</td>\n",
       "    </tr>\n",
       "    <tr>\n",
       "      <th>1</th>\n",
       "      <td>1</td>\n",
       "      <td>3</td>\n",
       "      <td>ultra</td>\n",
       "      <td>1</td>\n",
       "      <td>3061.777147</td>\n",
       "      <td>13.0</td>\n",
       "      <td>6</td>\n",
       "      <td>0</td>\n",
       "      <td>199</td>\n",
       "      <td>277.0</td>\n",
       "    </tr>\n",
       "    <tr>\n",
       "      <th>2</th>\n",
       "      <td>1</td>\n",
       "      <td>5</td>\n",
       "      <td>ultra</td>\n",
       "      <td>1</td>\n",
       "      <td>3914.646990</td>\n",
       "      <td>13.0</td>\n",
       "      <td>6</td>\n",
       "      <td>0</td>\n",
       "      <td>199</td>\n",
       "      <td>277.0</td>\n",
       "    </tr>\n",
       "    <tr>\n",
       "      <th>3</th>\n",
       "      <td>1</td>\n",
       "      <td>7</td>\n",
       "      <td>ultra</td>\n",
       "      <td>2</td>\n",
       "      <td>6478.080979</td>\n",
       "      <td>28.0</td>\n",
       "      <td>6</td>\n",
       "      <td>0</td>\n",
       "      <td>199</td>\n",
       "      <td>367.0</td>\n",
       "    </tr>\n",
       "    <tr>\n",
       "      <th>4</th>\n",
       "      <td>1</td>\n",
       "      <td>12</td>\n",
       "      <td>ultra</td>\n",
       "      <td>1</td>\n",
       "      <td>3577.151148</td>\n",
       "      <td>33.0</td>\n",
       "      <td>6</td>\n",
       "      <td>0</td>\n",
       "      <td>199</td>\n",
       "      <td>397.0</td>\n",
       "    </tr>\n",
       "  </tbody>\n",
       "</table>\n",
       "</div>"
      ],
      "text/plain": [
       "   month  user_id subscription_type  trips_per_month  distance_per_month  \\\n",
       "0      1        1             ultra                2         7027.511294   \n",
       "1      1        3             ultra                1         3061.777147   \n",
       "2      1        5             ultra                1         3914.646990   \n",
       "3      1        7             ultra                2         6478.080979   \n",
       "4      1       12             ultra                1         3577.151148   \n",
       "\n",
       "   duration_per_month  minute_price  start_ride_price  subscription_fee  \\\n",
       "0                42.0             6                 0               199   \n",
       "1                13.0             6                 0               199   \n",
       "2                13.0             6                 0               199   \n",
       "3                28.0             6                 0               199   \n",
       "4                33.0             6                 0               199   \n",
       "\n",
       "   revenue_per_month  \n",
       "0              451.0  \n",
       "1              277.0  \n",
       "2              277.0  \n",
       "3              367.0  \n",
       "4              397.0  "
      ]
     },
     "execution_count": 121,
     "metadata": {},
     "output_type": "execute_result"
    }
   ],
   "source": [
    "#добавим столбец с ежемесячной выручкой\n",
    "users_revenue['revenue_per_month'] = users_revenue['duration_per_month'] * users_revenue['minute_price'] + users_revenue['start_ride_price'] * users_revenue['trips_per_month'] + users_revenue['subscription_fee']\n",
    "\n",
    "users_revenue.head(5)"
   ]
  },
  {
   "cell_type": "markdown",
   "id": "5f2a701e-3c77-4c3e-9dc6-8b0e6991bf5b",
   "metadata": {},
   "source": [
    "Рекомендуется отдельное исследование по вопросу зачем нам в этой таблице суммарный метраж поездок за каждый месяц."
   ]
  },
  {
   "cell_type": "code",
   "execution_count": 122,
   "id": "1284620d",
   "metadata": {},
   "outputs": [
    {
     "name": "stdout",
     "output_type": "stream",
     "text": [
      "Правильное значение суммы выручки 3878641, сумма выручки расчитанная в таблице: 3878641.0\n"
     ]
    }
   ],
   "source": [
    "# Комментарий ревьюера\n",
    "# Контроль суммы выручки\n",
    "tmp, col_rev = users_revenue.copy(), 'revenue_per_month'\n",
    "print(\"Правильное значение суммы выручки 3878641, сумма выручки расчитанная в таблице:\", tmp[col_rev].sum())"
   ]
  },
  {
   "cell_type": "markdown",
   "id": "3f6e40a6-9a38-4ee1-b2ec-52cbef7256b7",
   "metadata": {},
   "source": [
    "## Проверка гипотез"
   ]
  },
  {
   "cell_type": "markdown",
   "id": "d486a4fe-2499-4a99-b4e1-76c5bd589149",
   "metadata": {},
   "source": [
    "### Гипотеза №1: пользователи с подпиской тратят больше времени на поездки"
   ]
  },
  {
   "cell_type": "markdown",
   "id": "658adb46-d8df-4cb3-814a-7afbca4efef7",
   "metadata": {},
   "source": [
    "Проверим, тратят ли пользователи с подпиской больше времени на поездки и, следовательно, являются ли они более выгодными для бизнеса.\n",
    "\n",
    "**Нулевая гипотеза:**\n",
    "Среднее время поездки пользователей с подпиской равно среднему времени поездки пользователей без подписки.\n",
    "\n",
    "**Альтернативная гипотеза:**\n",
    "Среднее время поездки пользователей с подпиской больше среднего времени поездки пользователей без подписки.\n",
    "\n",
    "**Проведем двухвыборочный t-test для независимых выборок.**"
   ]
  },
  {
   "cell_type": "code",
   "execution_count": 123,
   "id": "4d159c11-a6f5-458d-a306-4637d28f6c0e",
   "metadata": {},
   "outputs": [
    {
     "name": "stdout",
     "output_type": "stream",
     "text": [
      "Среднее значение среди пользователей с подпиской 19.037692307692307\n",
      "Среднее значение среди пользователей без подписки 17.890992392807746\n",
      "p-значение: 2.495945372073663e-34\n",
      "Отвергаем нулевую гипотезу\n"
     ]
    }
   ],
   "source": [
    "#уровень статистической значимости\n",
    "alpha = 0.05\n",
    "\n",
    "#проведем двухвыборочный t-test для независимых выборок\n",
    "results = st.ttest_ind(users_subscribers['duration'], users_non_subscribers['duration'], alternative='greater')\n",
    "\n",
    "print('Среднее значение среди пользователей с подпиской', users_subscribers['duration'].mean())\n",
    "print('Среднее значение среди пользователей без подписки', users_non_subscribers['duration'].mean())\n",
    "print('p-значение:', results.pvalue)\n",
    "\n",
    "if results.pvalue < alpha:\n",
    "    print('Отвергаем нулевую гипотезу')\n",
    "else:\n",
    "    print('Не отвергаем нулевую гипотезу')\n"
   ]
  },
  {
   "cell_type": "markdown",
   "id": "38617b16-9f10-4a24-9a55-3ee463497966",
   "metadata": {},
   "source": [
    "**Вывод:** \n",
    "Нулевая гипотеза отвергнута, а значит, есть основания полагать, что пользователи с подпиской действительно больше времени проводят за использованием сервиса, при установленном уровне значимости в 5 %."
   ]
  },
  {
   "cell_type": "markdown",
   "id": "26fab123-89b9-4d2c-8ef9-6c3d3c801b95",
   "metadata": {},
   "source": [
    "### Гипотеза №2: средняя дальность поездки пользователя с подпиской равна 3130 метров"
   ]
  },
  {
   "cell_type": "markdown",
   "id": "117c088b-73fa-489d-a585-30f51e476954",
   "metadata": {},
   "source": [
    "Проверим, насколько средняя дальность поездки пользователя с подпиской соответствует дистанции, которая оптимальна с точки зрения износа самоката.\n",
    "\n",
    "**Нулевая гипотеза:** \n",
    "Средняя дальность поездки для пользователей с подпиской равно оптимальному для износа самоката расстоянию в 3130 метров.\n",
    "\n",
    "**Альтернативная гипотеза:** \n",
    "Средняя дальность поездки для пользователей с подпиской больше оптимального для износа самоката расстояния в 3130 метров.\n",
    "\n",
    "**Проведем одновыборочный t-test.**"
   ]
  },
  {
   "cell_type": "code",
   "execution_count": 124,
   "id": "bdb3c29d-2125-431b-a3a5-2d985fd68f2e",
   "metadata": {},
   "outputs": [
    {
     "name": "stdout",
     "output_type": "stream",
     "text": [
      "0.9195368847849785\n",
      "Не отвергаем нулевую гипотезу\n"
     ]
    }
   ],
   "source": [
    "#уровень статистической значимости\n",
    "alpha = 0.05\n",
    "\n",
    "#значение, которому в идеале должна соответствовать средняя дальность поездки пользователей с подпиской\n",
    "perfect_distance = 3130\n",
    "\n",
    "#проведем двухвыборочный t-test для независимых выборок\n",
    "results = st.ttest_1samp(users_subscribers['distance'], perfect_distance, alternative='greater')\n",
    "\n",
    "print(results.pvalue)\n",
    "\n",
    "if results.pvalue < alpha:\n",
    "    print('Отвергаем нулевую гипотезу')\n",
    "else:\n",
    "    print('Не отвергаем нулевую гипотезу')"
   ]
  },
  {
   "cell_type": "markdown",
   "id": "ebda12ea-925f-4389-9d81-981db34db523",
   "metadata": {},
   "source": [
    "**Вывод:**\n",
    "Нулевая гипотеза не отвергнута, а значит, есть основания полагать, что дальность поездки среди пользователей с подпиской соответствует оптимальному значению с точки зрения износа самоката, при установленном уровне значимости в 5%."
   ]
  },
  {
   "cell_type": "markdown",
   "id": "0d4d71f9-a673-468f-b9f5-6b91240309d6",
   "metadata": {},
   "source": [
    "### Гипотеза №3: помесячная выручка от пользователей с подпиской выше, чем от пользователей без подписки"
   ]
  },
  {
   "cell_type": "markdown",
   "id": "cc1e5e2f-10e5-4d9c-8b86-ddb2c48f3ed6",
   "metadata": {},
   "source": [
    "Проверим, насколько помесячная выручка от пользователей с подпиской выше, чем помесячная выручка от пользователей без подписки.\n",
    "\n",
    "**Нулевая гипотеза:**\n",
    "Средняя ежемесячная выручка от пользователей с подпиской равна средней ежемесячной выручке от пользователей без подписки.\n",
    "\n",
    "**Альтернативная гипотеза:**\n",
    "Средняя ежемесячная выручка от пользователей с подпиской больше средней ежемесячной выручки от пользователей без подписки.\n",
    "\n",
    "**Проведем двухвыборочный t-test для независимых выборок.**"
   ]
  },
  {
   "cell_type": "code",
   "execution_count": 125,
   "id": "06d0eefb-1199-4644-9fcb-ff4ab2bd6681",
   "metadata": {},
   "outputs": [
    {
     "name": "stdout",
     "output_type": "stream",
     "text": [
      "Среднее значение среди пользователей с подпиской 362.7921906022502\n",
      "Среднее значение среди пользователей без подписки 328.6413651073845\n",
      "p-значение: 1.8850394384715216e-31\n",
      "Отвергаем нулевую гипотезу\n"
     ]
    }
   ],
   "source": [
    "#уровень статистической значимости\n",
    "alpha = 0.05\n",
    "\n",
    "#определим два массива для исследования: с выручкой от пользователей с подпиской и без\n",
    "users_revenue_subscribers = users_revenue.loc[users_revenue['subscription_type'] == 'ultra']['revenue_per_month']\n",
    "users_revenue_non_subscribers = users_revenue.loc[users_revenue['subscription_type'] == 'free']['revenue_per_month']\n",
    "\n",
    "#проведем двухвыборочный t-test для независимых выборок\n",
    "results = st.ttest_ind(users_revenue_subscribers, users_revenue_non_subscribers, alternative='greater')\n",
    "\n",
    "print('Среднее значение среди пользователей с подпиской', users_revenue_subscribers.mean())\n",
    "print('Среднее значение среди пользователей без подписки', users_revenue_non_subscribers.mean())\n",
    "print('p-значение:', results.pvalue)\n",
    "\n",
    "if results.pvalue < alpha:\n",
    "    print('Отвергаем нулевую гипотезу')\n",
    "else:\n",
    "    print('Не отвергаем нулевую гипотезу')\n"
   ]
  },
  {
   "cell_type": "markdown",
   "id": "7dc29579-603c-43ef-b286-8d5b812e6163",
   "metadata": {},
   "source": [
    "**Вывод:** \n",
    "Нулевая гипотеза отвергнута, а значит, есть основания полагать, что пользователи с подпиской действительно приносят больше выручки, при установленном уровне значимости в 5 %."
   ]
  },
  {
   "cell_type": "markdown",
   "id": "7bae530f-e827-4587-8d23-fd9c11067639",
   "metadata": {},
   "source": [
    "### Гипотеза №4: обновление серверов уменьшает количество обращений в техподдержку"
   ]
  },
  {
   "cell_type": "markdown",
   "id": "60e94288-212c-4425-8ea8-2c4d10a8efaa",
   "metadata": {},
   "source": [
    "Продумаем план оценки эффективности обновления серверов в целях уменьшения количества обращений в техподдержку.\n",
    "\n",
    "**Нулевая гипотеза:** Среднее число обращений пользователей в техподдержку после обновления серверов равно среднему числу обращений пользователей в техподдержку до обновления.\n",
    "\n",
    "**Альтернативная гипотеза:** Среднее число обращений пользователей в техподдержку после обновления серверов меньше среднего числа обращений пользователей в техподдержку до обновления.\n",
    "\n",
    "**Для проверки можно использовать двухвыборочный t-test для зависимых выборок, если у нас есть два парных набора данных** - согласованные и идентичные в объеме замеры показателя (число обращений) для одних и тех же пользователей до и после обновления. Такой тест реализуется с помощью метода scipy.stats.ttest_rel(), в параметре alternative указываем 'less' (при условии, что первой будет указана выборка с данными после обновления).\n",
    "\n",
    "**Для проверки можно использовать двухвыборочный t-test для независимых выборок, если наборы данных до и после не соответствуют критериям парной выборки**, и мы просто сопоставляем два средних значения по двум выборкам. Такой тест реализуется с помощью метода scipy.stats.ttest_ind(), в параметре alternative указываем 'less' (при условии, что первой будет указана выборка с данными после обновления).\n",
    "\n",
    "При проверке гипотезы о том, что обновление серверов снизило количество обращений в техподдержку, используется левосторонний тест (в обеих опциях выше), т.к. мы хотим определить, есть ли статистически значимое снижение."
   ]
  },
  {
   "cell_type": "markdown",
   "id": "d4682245-5dca-41e8-ac88-3f3e6955f5b4",
   "metadata": {},
   "source": [
    "### Выводы по гипотезам"
   ]
  },
  {
   "cell_type": "markdown",
   "id": "ac122d85-4e1d-4805-ad93-b38af014ad82",
   "metadata": {},
   "source": [
    "- Гипотеза №1: пользователи с подпиской тратят больше времени на поездки.\n",
    "  Есть основания полагать, что пользователи с подпиской действительно больше времени проводят за использованием сервиса, при установленном уровне значимости в 5%.\n",
    "- Гипотеза №2: средняя дальность поездки пользователя с подпиской равна 3130 метров.\n",
    "  Есть основания полагать, что дальность поездки среди пользователей с подпиской соответствует оптимальному значению с точки зрения износа самоката, при установленном уровне значимости в 5%.\n",
    "- Гипотеза №3: помесячная выручка от пользователей с подпиской выше, чем от пользователей без подписки.\n",
    "  Есть основания полагать, что пользователи с подпиской действительно приносят больше выручки, при установленном уровне значимости в 5%.\n",
    "- Гипотеза №4: обновление серверов уменьшает количество обращений в техподдержку.\n",
    "  Для проверки этой гипотезы нужен двухвыборочный левосторонний t-test для зависимых выборок, если у нас есть два парных набора данных с идентичными в объеме замерами обращений для одних и тех же пользователей.\n",
    "  Если такой парной выборки нет, то для проверки приемлем двухвыборочный левосторонний t-test для зависимых выборок ."
   ]
  },
  {
   "cell_type": "markdown",
   "id": "c9e3b7c9-20d1-4552-98f8-f4dc12ad7ae4",
   "metadata": {},
   "source": [
    "## Рассчеты для промо"
   ]
  },
  {
   "cell_type": "markdown",
   "id": "65843569-be82-4284-9af6-eb3e6ec8a318",
   "metadata": {},
   "source": [
    "### Раздача промокодов"
   ]
  },
  {
   "cell_type": "markdown",
   "id": "e2fa43bd-494e-40f8-97a7-04de606b2632",
   "metadata": {},
   "source": [
    "Отдел маркетинга планирует акцию по рассылке промокодов на пробный бесплатный месяц использования сервиса с целью стимуляции подписки на сервис.\n",
    "Вероятность успеха - пользователь оформит подписку после бесплатного периода, - 10%.\n",
    "Чтобы определить число промокодов для акции, при котором вероятность не достичь kpi в 100 новых подписчиков составляет 5%, мы можем воспользоваться кумулятивной функцией распределения для биноминальных распределений и немного нудным перебором. Начнем с 1000 промокодов."
   ]
  },
  {
   "cell_type": "code",
   "execution_count": 126,
   "id": "a0b35c57-44ee-491c-983e-679291ac6ee4",
   "metadata": {},
   "outputs": [
    {
     "name": "stdout",
     "output_type": "stream",
     "text": [
      "Необходимо разослать минимум 1161 промокодов.\n"
     ]
    }
   ],
   "source": [
    "#зададим вероятность активации промокода, цель и необходимую вероятность успеха - 95%\n",
    "p = 0.1\n",
    "kpi = 100\n",
    "target_prob = 0.95\n",
    "n = 1000\n",
    "\n",
    "while True:\n",
    "    prob = st.binom.cdf(kpi - 1, n, p)\n",
    "    if prob <= (1 - target_prob):\n",
    "        break\n",
    "    n += 1\n",
    "\n",
    "print(f'Необходимо разослать минимум {n} промокодов.')"
   ]
  },
  {
   "cell_type": "markdown",
   "id": "f7908620-7ffa-4e51-9db5-1fe68e1187de",
   "metadata": {},
   "source": [
    "При рассылке промокодов в количестве от 1161 штуки мы имеем 95% вероятность достичь kpi. "
   ]
  },
  {
   "cell_type": "markdown",
   "id": "a59ddfbb-6f95-4e09-98ed-d9c566d0e701",
   "metadata": {},
   "source": [
    "### Push-уведомления"
   ]
  },
  {
   "cell_type": "markdown",
   "id": "f73a1c73-313a-4654-881a-22af97723457",
   "metadata": {},
   "source": [
    "Отдел маркетинга планирует разослать 1 млн уведомлений.\n",
    "Вероятность успеха - пользователь откроет уведомление, - около 40%.\n",
    "Чтобы выяснить, какова вероятность не достичь kpi в 399.5 тысяч успехов мы можем воспользоваться нормальной апроксимацией биноминального распределения - в данном случае и число попыток велико, и вероятность довольно близка к 0.5."
   ]
  },
  {
   "cell_type": "code",
   "execution_count": 127,
   "id": "d5d02977-fb0c-4050-8de2-cfb45fa38a2d",
   "metadata": {},
   "outputs": [
    {
     "name": "stdout",
     "output_type": "stream",
     "text": [
      "Вероятность открытия сообщений: 0.15371708296369768\n"
     ]
    }
   ],
   "source": [
    "#укажем kpi\n",
    "kpi = 399500\n",
    "\n",
    "# параметры биномиального распределения\n",
    "n = 1000000\n",
    "p = 0.4\n",
    "\n",
    "#вычислим параметры для нормального распределения по правилам апроксимации \n",
    "mu = n * p\n",
    "sigma = (n * p * (1 - p))**0.5\n",
    "\n",
    "#задаём нормальное распределение\n",
    "distr = st.norm(mu, sigma) \n",
    "\n",
    "#считаем вероятность хвоста слева от 399.5 тысяч\n",
    "result = distr.cdf(kpi)\n",
    "print('Вероятность открытия сообщений:', result)"
   ]
  },
  {
   "cell_type": "markdown",
   "id": "36fce8ab-663d-4815-85e1-dfba9b282c61",
   "metadata": {},
   "source": [
    "При рассылке 1 млн уведомлений вероятность не достичь kpi в 399.5 тысяч оценивается приблизительно в 15%. "
   ]
  },
  {
   "cell_type": "markdown",
   "id": "1e27edae-0d4c-4ed9-a57e-95646908c277",
   "metadata": {},
   "source": [
    "## Общие выводы"
   ]
  },
  {
   "cell_type": "markdown",
   "id": "0e0745e6-0fff-4852-af87-5ec1b3ad11b2",
   "metadata": {},
   "source": [
    "**Основные моменты исследования**\n",
    "\n",
    "1. Обзор и предобработка данных.\n",
    "   Пробелов в данных не выявлено, обработка потребовалась минимальная.\n",
    "2. Исследование основных значений для всех пользователей.\n",
    "   - Сейчас сервис в целом одинаково популярен в разных городах. Популярнее всего - в Пятигорске (219 человек, 14.3% от всех пользователей). Наименее популярен - в Москве (168 человек, 11% от всех пользователей)\n",
    "   - Пользователей без подписки 54%, при этом на них приходится почти 2/3 всех поездок. Пользователей с подпиской - 46%.\n",
    "   - Большая часть пользователей проживают свой третий десяток: медиана 25 лет, 50% всех пользователей - в возрасте от 22 до 28. Небольшая группа пользователей - меньше 100 человек, - подростки, включая подростка 12 лет.\n",
    "   - В среднем пользователи проезжают 3100 метров за поездку, 50% поездок - в диапазоне от 2500 до 3800 метров.\n",
    "   - В среднем пользователи проводят в поездке 18 минут, 50% поездок - в диапазоне от 14 до 22 минут.\n",
    "   - 95 поездок имеют значение до 1 минуты, но при этом большие расстояния, даже больше 6 км.\n",
    "3. Исследование основных значений по типам пользователей\n",
    "   Сейчас пользователей без подписки большинство и в общем числе пользователей, и в данных по поездкам. Плюс, эта группа оказалась более склонной к \"экстремальным поездкам\" (например, очень коротким или очень длинным), поэтому их след заметнее в общей картине.\n",
    "   Паттерны пользователей с подпиской несколько приятнее для бизнеса: более компактный диапазон расстояний для поездок и несколько большее время использования сервиса.\n",
    "4. Проверка гипотез для планирования развития сервиса:\n",
    "   - **Есть основания полагать, что пользователи с подпиской действительно больше времени проводят за использованием сервиса**, при установленном уровне значимости в 5%.\n",
    "   - **Есть основания полагать, что дальность поездки среди пользователей с подпиской соответствует оптимальному значению с точки зрения износа самоката**, при установленном уровне значимости в 5%.\n",
    "   - **Есть основания полагать, что пользователи с подпиской действительно приносят больше выручки**, при установленном уровне значимости в 5%.\n",
    "   - Для (планирования) проверки влияния обновления серверов на уменьшение числа обращений рекомендуется создание парных выборок - проведение замеров частоты обращений среди одной и той же группы пользователей до и после обновления, - чтобы провести двухвыборочный t-test для зависимых выборок. При отсутствии таких парных данных приемлем двухвыборочный t-test для зависимых выборок \n",
    "5. Рассчеты для планирования промо:\n",
    "   - **Рекомендуется раздача промокодов в количестве от 1161 штук, чтобы с вероятностью в 95% достичь kpi в 100 новых подписчиков** в промоакции с раздачей промокодов на бесплатный период использования сервиса и вероятностью успеха (оформление подписки) в 10%.\n",
    "   - **Есть около 15% вероятности не достичь kpi в 399.5 тысяч открытых push-уведомлений при рассылке 1 млн уведомлений** с вероятностью успеха (открытие уведомления) в 40%. \n",
    "\n",
    "\n",
    "**Рекомендуется уделить внимание контролю расстояния поездок для оптимизации расходов на износ и, следовательно, увеличению прибыли.** \n",
    "Сейчас значения по средней и медианной дальности поездки в целом укладываются в оптимальный для износа паттерн. Однако, если смотреть на медианные значения, значимая часть пользователей часто превышает оптимальный порог дальности в 3130 метров (сама медиана среди пользователей с подпиской равна 3148). Плюс, в свете привлечения дополнительного внимания к сервису, растет и вероятность экстремально долгих поездок. Тарификация, информирование о рисках супердолгих поездок и другие инструменты помогли бы скорректировать паттерны поведения пользователей.\n",
    "\n",
    "\n",
    "**Рекомендуется обратить внимание на экстремальные значения возраста пользователей.**\n",
    "Сейчас в базе есть даже подростки 12 лет, что выглядит рискованно с точки зрения репутации бренда в вопросах безопасности сервиса.\n",
    "\n",
    "**Рекомендуется обратить внимание на исправность счетчиков времени самокатов.**\n",
    "Сейчас в базе есть 95 поездок, у которых продолжительность до минуты, но расстояния большие, порой - больше 6 км. Такая ситуация говорит скорее о дефектах счетчика времени, и плохо влияет на доходность бизнеса поминутной аренды самокатов.\n",
    "\n",
    "**Стимуляция подписки на сервис выглядит выгодным решением для бизнеса.**\n",
    "В целом паттерны использования сервиса среди подписчиков выглядят более здоровыми, компактными и выгодными для бизнеса - как с точки зрения доходов от самих поездок, так и с точки зрения поддержания рабочего состояния парка устройств.\n"
   ]
  }
 ],
 "metadata": {
  "ExecuteTimeLog": [
   {
    "duration": 1154,
    "start_time": "2025-03-18T13:39:19.051Z"
   },
   {
    "duration": 346,
    "start_time": "2025-03-18T13:39:20.209Z"
   },
   {
    "duration": 15,
    "start_time": "2025-03-18T13:39:20.556Z"
   },
   {
    "duration": 11,
    "start_time": "2025-03-18T13:39:20.572Z"
   },
   {
    "duration": 7,
    "start_time": "2025-03-18T13:39:20.586Z"
   },
   {
    "duration": 6,
    "start_time": "2025-03-18T13:39:20.594Z"
   },
   {
    "duration": 11,
    "start_time": "2025-03-18T13:39:20.602Z"
   },
   {
    "duration": 8,
    "start_time": "2025-03-18T13:39:20.614Z"
   },
   {
    "duration": 43,
    "start_time": "2025-03-18T13:39:20.624Z"
   },
   {
    "duration": 7,
    "start_time": "2025-03-18T13:39:20.669Z"
   },
   {
    "duration": 8,
    "start_time": "2025-03-18T13:39:20.677Z"
   },
   {
    "duration": 17,
    "start_time": "2025-03-18T13:39:20.687Z"
   },
   {
    "duration": 19,
    "start_time": "2025-03-18T13:39:20.706Z"
   },
   {
    "duration": 35,
    "start_time": "2025-03-18T13:39:20.728Z"
   },
   {
    "duration": 17,
    "start_time": "2025-03-18T13:39:20.766Z"
   },
   {
    "duration": 167,
    "start_time": "2025-03-18T13:39:20.785Z"
   },
   {
    "duration": 5,
    "start_time": "2025-03-18T13:39:20.957Z"
   },
   {
    "duration": 146,
    "start_time": "2025-03-18T13:39:20.964Z"
   },
   {
    "duration": 7,
    "start_time": "2025-03-18T13:39:21.112Z"
   },
   {
    "duration": 150,
    "start_time": "2025-03-18T13:39:21.121Z"
   },
   {
    "duration": 8,
    "start_time": "2025-03-18T13:39:21.273Z"
   },
   {
    "duration": 207,
    "start_time": "2025-03-18T13:39:21.282Z"
   },
   {
    "duration": 132,
    "start_time": "2025-03-18T13:39:21.490Z"
   },
   {
    "duration": 8,
    "start_time": "2025-03-18T13:39:21.623Z"
   },
   {
    "duration": 149,
    "start_time": "2025-03-18T13:39:21.633Z"
   },
   {
    "duration": 124,
    "start_time": "2025-03-18T13:39:21.783Z"
   },
   {
    "duration": 19,
    "start_time": "2025-03-18T13:39:21.908Z"
   },
   {
    "duration": 12,
    "start_time": "2025-03-18T13:39:21.929Z"
   },
   {
    "duration": 9,
    "start_time": "2025-03-18T13:39:21.958Z"
   },
   {
    "duration": 12,
    "start_time": "2025-03-18T13:39:21.968Z"
   },
   {
    "duration": 16,
    "start_time": "2025-03-18T13:39:21.981Z"
   },
   {
    "duration": 23,
    "start_time": "2025-03-18T13:39:21.998Z"
   },
   {
    "duration": 189,
    "start_time": "2025-03-18T13:39:22.022Z"
   },
   {
    "duration": 167,
    "start_time": "2025-03-18T13:39:22.212Z"
   },
   {
    "duration": 16,
    "start_time": "2025-03-18T13:39:22.380Z"
   },
   {
    "duration": 39,
    "start_time": "2025-03-18T13:39:22.397Z"
   },
   {
    "duration": 228,
    "start_time": "2025-03-18T13:39:22.438Z"
   },
   {
    "duration": 144,
    "start_time": "2025-03-18T13:39:22.668Z"
   },
   {
    "duration": 31,
    "start_time": "2025-03-18T13:39:22.814Z"
   },
   {
    "duration": 22,
    "start_time": "2025-03-18T13:39:22.847Z"
   },
   {
    "duration": 5,
    "start_time": "2025-03-18T13:39:22.872Z"
   },
   {
    "duration": 4,
    "start_time": "2025-03-18T13:39:22.878Z"
   },
   {
    "duration": 10,
    "start_time": "2025-03-18T13:39:22.884Z"
   },
   {
    "duration": 14,
    "start_time": "2025-03-18T13:39:22.896Z"
   },
   {
    "duration": 5,
    "start_time": "2025-03-18T13:39:22.912Z"
   },
   {
    "duration": 177,
    "start_time": "2025-03-18T14:59:01.721Z"
   },
   {
    "duration": 81,
    "start_time": "2025-03-18T14:59:47.493Z"
   },
   {
    "duration": 5,
    "start_time": "2025-03-18T15:24:27.636Z"
   },
   {
    "duration": 7,
    "start_time": "2025-03-18T15:45:29.038Z"
   }
  ],
  "kernelspec": {
   "display_name": "Python 3 (ipykernel)",
   "language": "python",
   "name": "python3"
  },
  "language_info": {
   "codemirror_mode": {
    "name": "ipython",
    "version": 3
   },
   "file_extension": ".py",
   "mimetype": "text/x-python",
   "name": "python",
   "nbconvert_exporter": "python",
   "pygments_lexer": "ipython3",
   "version": "3.9.21"
  },
  "toc": {
   "base_numbering": 1,
   "nav_menu": {},
   "number_sections": true,
   "sideBar": true,
   "skip_h1_title": true,
   "title_cell": "Table of Contents",
   "title_sidebar": "Contents",
   "toc_cell": false,
   "toc_position": {
    "height": "calc(100% - 180px)",
    "left": "10px",
    "top": "150px",
    "width": "182.943px"
   },
   "toc_section_display": true,
   "toc_window_display": true
  }
 },
 "nbformat": 4,
 "nbformat_minor": 5
}
