{
 "cells": [
  {
   "cell_type": "markdown",
   "id": "090d2e8b-a9aa-4c48-87d3-e988aca65993",
   "metadata": {},
   "source": [
    "# Анализ месторождений нефти"
   ]
  },
  {
   "cell_type": "markdown",
   "id": "c6d8ab6a-63dd-4e46-8d0f-4aa40f9a0a74",
   "metadata": {},
   "source": [
    "## Введение"
   ]
  },
  {
   "cell_type": "markdown",
   "id": "7947df3c-8253-405e-887b-6be2cec1352c",
   "metadata": {},
   "source": [
    "**Цель проекта**\n",
    "\n",
    "Разработать решение, которое позволит выбрать регион для разработки с минимальными рисками и максимальной прибылью. \n",
    "\n",
    "**Задачи проекта**\n",
    "1. Разработка модели для прогноза объемов нефти в регионе.\n",
    "2. Анализ доходности разработки в регионе на основе данных модели.\n",
    "____\n",
    "\n",
    "**О данных**\n",
    "\n",
    "**Датасет geo_data_0** содержит данные геологоразведки для Первого региона. \n",
    "\n",
    "**Датасет geo_data_1** содержит данные геологоразведки для Второго региона. \n",
    "\n",
    "**Датасет geo_data_2** содержит данные геологоразведки для Третьего региона. \n",
    "\n",
    "Все три датасета содержат следующий набор информации:\n",
    "- id — уникальный идентификатор скважины;\n",
    "- f0, f1, f2 — признаки скважин;\n",
    "- product — объём запасов в скважине;\n",
    "_____\n",
    "\n",
    "**План проекта**\n",
    "\n",
    "Для разработки моделей и анализа перспективности разработки будут реализованы следующие шаги.\n",
    "1. Обзор и предобработка данных\n",
    "2. Исследовательский анализ данных\n",
    "3. Корреляционный анализ\n",
    "4. Обучение моделей прогноза запасов нефти для каждого региона\n",
    "5. Анализ рисков и прибыли при разработке на основе прогнозов моделей\n",
    "\n",
    "Далее будет описан общий вывод."
   ]
  },
  {
   "cell_type": "markdown",
   "id": "867fac46-1ae0-4875-8a20-01aca390ca5c",
   "metadata": {},
   "source": [
    "## Импорт библиотек"
   ]
  },
  {
   "cell_type": "code",
   "execution_count": 1,
   "id": "a7ec45a3-4105-440d-994e-314e1eb6f8bb",
   "metadata": {},
   "outputs": [],
   "source": [
    "#импортируем библиотеки для работы\n",
    "\n",
    "import pandas as pd\n",
    "import numpy as np\n",
    "from numpy.random import RandomState\n",
    "\n",
    "import matplotlib.pyplot as plt\n",
    "import seaborn as sns\n",
    "\n",
    "import sys\n",
    "!{sys.executable} -m pip install phik -q\n",
    "from phik import phik_matrix\n",
    "\n",
    "!pip install -U scikit-learn -q\n",
    "\n",
    "from sklearn.preprocessing import StandardScaler\n",
    "\n",
    "#from sklearn.compose import ColumnTransformer\n",
    "\n",
    "from sklearn.metrics import root_mean_squared_error\n",
    "from sklearn.linear_model import LinearRegression\n",
    "from sklearn.model_selection import train_test_split\n",
    "\n",
    "RANDOM_STATE = 30"
   ]
  },
  {
   "cell_type": "markdown",
   "id": "3ae5f5d8-e815-4b33-b3ab-364a0d227e82",
   "metadata": {},
   "source": [
    "## Функции для работы"
   ]
  },
  {
   "cell_type": "code",
   "execution_count": 2,
   "id": "8241704b-ef21-498d-b01f-efc17dab9333",
   "metadata": {},
   "outputs": [],
   "source": [
    "#функция для обзора данных\n",
    "def data_overview(data):\n",
    "    display(data.head(10))\n",
    "    print('')\n",
    "    display(data.sample(10))\n",
    "    print('')\n",
    "    display(data.info())\n",
    "    print('')\n",
    "    display(data.describe().T)\n",
    "    print('')\n",
    "    print('')\n",
    "    print('Кол-во явных дубликатов:', data.duplicated().sum())\n",
    "    print('')\n",
    "    print('Кол-во пропусков:')\n",
    "    display(data.isna().sum())\n",
    "    print('')"
   ]
  },
  {
   "cell_type": "code",
   "execution_count": 3,
   "id": "cc8eb780-4231-4fe7-acfa-5dfbd7275c6d",
   "metadata": {},
   "outputs": [],
   "source": [
    "#функция для обзора неприрывных количественных признаков\n",
    "def hist_and_box_chart(data, column, title, y_label, x_label, bins):\n",
    "    fig, axes = plt.subplots(1, 2, figsize=(15, 5))\n",
    "    fig.suptitle(f\"{title}\", fontsize=16)\n",
    "    palette = ['#87CEEB', '#4682B4', '#1E90FF', \n",
    "               '#00BFFF', '#00CED1', '#40E0D0', \n",
    "               '#468499', '#B0E0E6', '#66CDAA', '#6495ED']\n",
    "    \n",
    "    # Гистограмма\n",
    "    data[column].plot(\n",
    "        kind='hist',\n",
    "        alpha=0.7,\n",
    "        ax=axes[0],\n",
    "        color=palette[:len(column)],\n",
    "        bins=bins\n",
    "    )\n",
    "    axes[0].set_xlabel(x_label)\n",
    "    axes[0].set_ylabel(y_label)\n",
    "    axes[0].set_title(\"Гистограмма\")\n",
    "\n",
    "    median = data[column].median()\n",
    "    mean = data[column].mean()\n",
    "    axes[0].axvline(median, color='blue', linestyle='dashed', linewidth=2, label=f'Медиана: {median:.2f}')\n",
    "    axes[0].axvline(mean, color='orange', linestyle='dashed', linewidth=2, label=f'Среднее: {mean:.2f}')\n",
    "    axes[0].legend()\n",
    "\n",
    "\n",
    "    # Боксплот\n",
    "    data[column].plot(\n",
    "        kind='box',\n",
    "        ax=axes[1],\n",
    "        vert=False,\n",
    "        color={'boxes': 'DarkBlue', 'whiskers': 'gray', 'medians': 'red', 'caps': 'black'}\n",
    "    )\n",
    "    axes[1].set_xlabel(x_label)\n",
    "    axes[1].set_yticklabels([])\n",
    "    axes[1].set_ylabel('')\n",
    "    axes[1].set_title(\"Диаграмма размаха\")\n",
    "\n",
    "    plt.tight_layout()\n",
    "    plt.show()\n"
   ]
  },
  {
   "cell_type": "code",
   "execution_count": 4,
   "id": "40a1a743-1314-4aeb-85a9-f35b6a510003",
   "metadata": {},
   "outputs": [],
   "source": [
    "#функция для создания выборок для обучения и проверки модели\n",
    "def train_val_selector(data):\n",
    "    X = data.drop(['id', 'product'], axis=1)\n",
    "    y = data['product']\n",
    "    X_train, X_val, y_train, y_val = train_test_split(X, y, random_state=RANDOM_STATE)\n",
    "    print('Размеренность тренеровочного и валидационного датасетов с входными признаками:{} и {}'.format(X_train.shape, X_val.shape))\n",
    "    print('Длина соответствующих столбцов с целевым значением: {} и {}'.format(len(y_train), len(y_val)))\n",
    "    return X_train, X_val, y_train, y_val"
   ]
  },
  {
   "cell_type": "code",
   "execution_count": 5,
   "id": "416ec9f2-1a42-424a-8dae-62e0bc72a656",
   "metadata": {},
   "outputs": [],
   "source": [
    "#функиция для обучения моделей линейной регрессии для регионов\n",
    "def linear_model_prediction(X_train, X_val, y_train, y_val):\n",
    "    numeric_names = ['f0', 'f1', 'f2']\n",
    "    scaler = StandardScaler()\n",
    "    X_train_scaled = scaler.fit_transform(X_train[numeric_names])\n",
    "    X_val_scaled = scaler.transform(X_val[numeric_names])\n",
    "    X_train_scaled_pd = pd.DataFrame(X_train_scaled, columns=numeric_names)\n",
    "    X_val_scaled_pd = pd.DataFrame(X_val_scaled, columns=numeric_names)\n",
    "    \n",
    "    model = LinearRegression()\n",
    "    model.fit(X_train_scaled_pd, y_train)\n",
    "    prediction = model.predict(X_val_scaled_pd)\n",
    "    \n",
    "    rmse = root_mean_squared_error(y_val, prediction)\n",
    "    \n",
    "    print('Корень из средней квадратичной ошибки для модели', round(rmse, 2))\n",
    "    print('')\n",
    "    print('Среднее значение предсказанного объема запаса нефти в регионе:', round(prediction.mean(), 2))\n",
    "\n",
    "    return prediction"
   ]
  },
  {
   "cell_type": "code",
   "execution_count": 6,
   "id": "d43686b7-a668-45ef-8664-0c392e42bdbd",
   "metadata": {},
   "outputs": [],
   "source": [
    "def profit_calculator(data):\n",
    "    data = data.sort_values(by='product_prediction', ascending = False)\n",
    "    data_top_200 = data.head(POINTS_TO_CHOOSE)\n",
    "    product_sum = data_top_200['product'].sum()\n",
    "    profit = (product_sum * PRICE_PER_1K) - BUDGET\n",
    "    return profit"
   ]
  },
  {
   "cell_type": "code",
   "execution_count": 7,
   "id": "cf326825-2abf-4204-a9e5-38ae0f9a913e",
   "metadata": {},
   "outputs": [],
   "source": [
    "def profit_variations(data):\n",
    "    profit_variations = []\n",
    "    for i in range(1000):\n",
    "        sample = data.sample(n=POINTS_TO_RESEARCH, replace=True, random_state=i)\n",
    "        profit = profit_calculator(sample)\n",
    "        profit_variations.append(profit)\n",
    "\n",
    "    profit_variations = pd.Series(profit_variations)\n",
    "    profit_mean = profit_variations.mean()\n",
    "\n",
    "    print('Среднее значение доходности при разработке топ-200 из 500 скважин в регионе:', round(profit_mean, 2))\n",
    "\n",
    "    profit_lower = profit_variations.quantile(0.025)\n",
    "    profit_upper = profit_variations.quantile(0.975)\n",
    "    print('95% доверительный интервал: ({:.2f}, {:.2f})'.format(round(profit_lower, 2), round(profit_upper, 2)))\n",
    "\n",
    "    loss_probability = (profit_variations < 0).mean()\n",
    "                           \n",
    "    if loss_probability < MAX_LOSS:\n",
    "        print('Вероятность убытков равна {}, что меньше чем максимальная допустимая вероятность {}'.format(loss_probability, MAX_LOSS))\n",
    "    else:\n",
    "        print('Вероятность убытков равна {}, что больше чем максимальная допустимая вероятность {}'.format(loss_probability, MAX_LOSS))\n",
    "\n",
    "    return profit_mean, profit_lower, profit_upper, loss_probability\n"
   ]
  },
  {
   "cell_type": "markdown",
   "id": "ca99fab5-a04c-4eaf-b80d-a39a171d15ab",
   "metadata": {},
   "source": [
    "## Предобработка данных"
   ]
  },
  {
   "cell_type": "markdown",
   "id": "14a29e06-3930-41a0-9b23-11ef866d35b3",
   "metadata": {},
   "source": [
    "### Импорт и обзор данных"
   ]
  },
  {
   "cell_type": "code",
   "execution_count": 8,
   "id": "e4471f7f-6f9e-4c98-b464-ab8305f15aec",
   "metadata": {},
   "outputs": [],
   "source": [
    "#импортируем данные по первому региону\n",
    "try:\n",
    "    reg_1 = pd.read_csv('Desktop/practicum cases/geo_data_0.csv')\n",
    "except:\n",
    "    reg_1 = pd.read_csv('https://code.s3.yandex.net/datasets/geo_data_0.csv')\n",
    "\n",
    "#импортируем данные по второму региону\n",
    "try:\n",
    "    reg_2 = pd.read_csv('Desktop/practicum cases/geo_data_1.csv')\n",
    "except:\n",
    "    reg_2 = pd.read_csv('https://code.s3.yandex.net/datasets/geo_data_1.csv')\n",
    "\n",
    "#импортируем данные по третьему региону\n",
    "try:\n",
    "    reg_3 = pd.read_csv('Desktop/practicum cases/geo_data_2.csv')\n",
    "except:\n",
    "    reg_3 = pd.read_csv('https://code.s3.yandex.net/datasets/geo_data_2.csv')"
   ]
  },
  {
   "cell_type": "code",
   "execution_count": 9,
   "id": "c100136d-0b61-4965-bc46-59296cac4414",
   "metadata": {},
   "outputs": [
    {
     "data": {
      "text/html": [
       "<div>\n",
       "<style scoped>\n",
       "    .dataframe tbody tr th:only-of-type {\n",
       "        vertical-align: middle;\n",
       "    }\n",
       "\n",
       "    .dataframe tbody tr th {\n",
       "        vertical-align: top;\n",
       "    }\n",
       "\n",
       "    .dataframe thead th {\n",
       "        text-align: right;\n",
       "    }\n",
       "</style>\n",
       "<table border=\"1\" class=\"dataframe\">\n",
       "  <thead>\n",
       "    <tr style=\"text-align: right;\">\n",
       "      <th></th>\n",
       "      <th>id</th>\n",
       "      <th>f0</th>\n",
       "      <th>f1</th>\n",
       "      <th>f2</th>\n",
       "      <th>product</th>\n",
       "    </tr>\n",
       "  </thead>\n",
       "  <tbody>\n",
       "    <tr>\n",
       "      <th>0</th>\n",
       "      <td>txEyH</td>\n",
       "      <td>0.705745</td>\n",
       "      <td>-0.497823</td>\n",
       "      <td>1.221170</td>\n",
       "      <td>105.280062</td>\n",
       "    </tr>\n",
       "    <tr>\n",
       "      <th>1</th>\n",
       "      <td>2acmU</td>\n",
       "      <td>1.334711</td>\n",
       "      <td>-0.340164</td>\n",
       "      <td>4.365080</td>\n",
       "      <td>73.037750</td>\n",
       "    </tr>\n",
       "    <tr>\n",
       "      <th>2</th>\n",
       "      <td>409Wp</td>\n",
       "      <td>1.022732</td>\n",
       "      <td>0.151990</td>\n",
       "      <td>1.419926</td>\n",
       "      <td>85.265647</td>\n",
       "    </tr>\n",
       "    <tr>\n",
       "      <th>3</th>\n",
       "      <td>iJLyR</td>\n",
       "      <td>-0.032172</td>\n",
       "      <td>0.139033</td>\n",
       "      <td>2.978566</td>\n",
       "      <td>168.620776</td>\n",
       "    </tr>\n",
       "    <tr>\n",
       "      <th>4</th>\n",
       "      <td>Xdl7t</td>\n",
       "      <td>1.988431</td>\n",
       "      <td>0.155413</td>\n",
       "      <td>4.751769</td>\n",
       "      <td>154.036647</td>\n",
       "    </tr>\n",
       "    <tr>\n",
       "      <th>5</th>\n",
       "      <td>wX4Hy</td>\n",
       "      <td>0.969570</td>\n",
       "      <td>0.489775</td>\n",
       "      <td>-0.735383</td>\n",
       "      <td>64.741541</td>\n",
       "    </tr>\n",
       "    <tr>\n",
       "      <th>6</th>\n",
       "      <td>tL6pL</td>\n",
       "      <td>0.645075</td>\n",
       "      <td>0.530656</td>\n",
       "      <td>1.780266</td>\n",
       "      <td>49.055285</td>\n",
       "    </tr>\n",
       "    <tr>\n",
       "      <th>7</th>\n",
       "      <td>BYPU6</td>\n",
       "      <td>-0.400648</td>\n",
       "      <td>0.808337</td>\n",
       "      <td>-5.624670</td>\n",
       "      <td>72.943292</td>\n",
       "    </tr>\n",
       "    <tr>\n",
       "      <th>8</th>\n",
       "      <td>j9Oui</td>\n",
       "      <td>0.643105</td>\n",
       "      <td>-0.551583</td>\n",
       "      <td>2.372141</td>\n",
       "      <td>113.356160</td>\n",
       "    </tr>\n",
       "    <tr>\n",
       "      <th>9</th>\n",
       "      <td>OLuZU</td>\n",
       "      <td>2.173381</td>\n",
       "      <td>0.563698</td>\n",
       "      <td>9.441852</td>\n",
       "      <td>127.910945</td>\n",
       "    </tr>\n",
       "  </tbody>\n",
       "</table>\n",
       "</div>"
      ],
      "text/plain": [
       "      id        f0        f1        f2     product\n",
       "0  txEyH  0.705745 -0.497823  1.221170  105.280062\n",
       "1  2acmU  1.334711 -0.340164  4.365080   73.037750\n",
       "2  409Wp  1.022732  0.151990  1.419926   85.265647\n",
       "3  iJLyR -0.032172  0.139033  2.978566  168.620776\n",
       "4  Xdl7t  1.988431  0.155413  4.751769  154.036647\n",
       "5  wX4Hy  0.969570  0.489775 -0.735383   64.741541\n",
       "6  tL6pL  0.645075  0.530656  1.780266   49.055285\n",
       "7  BYPU6 -0.400648  0.808337 -5.624670   72.943292\n",
       "8  j9Oui  0.643105 -0.551583  2.372141  113.356160\n",
       "9  OLuZU  2.173381  0.563698  9.441852  127.910945"
      ]
     },
     "metadata": {},
     "output_type": "display_data"
    },
    {
     "name": "stdout",
     "output_type": "stream",
     "text": [
      "\n"
     ]
    },
    {
     "data": {
      "text/html": [
       "<div>\n",
       "<style scoped>\n",
       "    .dataframe tbody tr th:only-of-type {\n",
       "        vertical-align: middle;\n",
       "    }\n",
       "\n",
       "    .dataframe tbody tr th {\n",
       "        vertical-align: top;\n",
       "    }\n",
       "\n",
       "    .dataframe thead th {\n",
       "        text-align: right;\n",
       "    }\n",
       "</style>\n",
       "<table border=\"1\" class=\"dataframe\">\n",
       "  <thead>\n",
       "    <tr style=\"text-align: right;\">\n",
       "      <th></th>\n",
       "      <th>id</th>\n",
       "      <th>f0</th>\n",
       "      <th>f1</th>\n",
       "      <th>f2</th>\n",
       "      <th>product</th>\n",
       "    </tr>\n",
       "  </thead>\n",
       "  <tbody>\n",
       "    <tr>\n",
       "      <th>62482</th>\n",
       "      <td>FKso2</td>\n",
       "      <td>0.847091</td>\n",
       "      <td>0.708580</td>\n",
       "      <td>0.372060</td>\n",
       "      <td>30.686677</td>\n",
       "    </tr>\n",
       "    <tr>\n",
       "      <th>43325</th>\n",
       "      <td>QKPLK</td>\n",
       "      <td>0.526580</td>\n",
       "      <td>-0.568332</td>\n",
       "      <td>-5.230191</td>\n",
       "      <td>45.085859</td>\n",
       "    </tr>\n",
       "    <tr>\n",
       "      <th>28399</th>\n",
       "      <td>JTyws</td>\n",
       "      <td>0.955793</td>\n",
       "      <td>0.498162</td>\n",
       "      <td>4.070473</td>\n",
       "      <td>30.041356</td>\n",
       "    </tr>\n",
       "    <tr>\n",
       "      <th>23709</th>\n",
       "      <td>0Q83e</td>\n",
       "      <td>0.899217</td>\n",
       "      <td>0.376549</td>\n",
       "      <td>2.716309</td>\n",
       "      <td>14.902660</td>\n",
       "    </tr>\n",
       "    <tr>\n",
       "      <th>73034</th>\n",
       "      <td>lV8zd</td>\n",
       "      <td>0.015602</td>\n",
       "      <td>0.850411</td>\n",
       "      <td>2.687335</td>\n",
       "      <td>51.775106</td>\n",
       "    </tr>\n",
       "    <tr>\n",
       "      <th>36280</th>\n",
       "      <td>KQdVq</td>\n",
       "      <td>-0.329055</td>\n",
       "      <td>0.970886</td>\n",
       "      <td>-3.212581</td>\n",
       "      <td>16.164591</td>\n",
       "    </tr>\n",
       "    <tr>\n",
       "      <th>23044</th>\n",
       "      <td>vyFcT</td>\n",
       "      <td>1.778686</td>\n",
       "      <td>-0.294826</td>\n",
       "      <td>3.519821</td>\n",
       "      <td>30.109400</td>\n",
       "    </tr>\n",
       "    <tr>\n",
       "      <th>52209</th>\n",
       "      <td>pToeR</td>\n",
       "      <td>0.584523</td>\n",
       "      <td>0.773873</td>\n",
       "      <td>-2.630740</td>\n",
       "      <td>118.504278</td>\n",
       "    </tr>\n",
       "    <tr>\n",
       "      <th>13541</th>\n",
       "      <td>J3wIW</td>\n",
       "      <td>0.208568</td>\n",
       "      <td>0.236023</td>\n",
       "      <td>-0.126302</td>\n",
       "      <td>38.946973</td>\n",
       "    </tr>\n",
       "    <tr>\n",
       "      <th>70043</th>\n",
       "      <td>JWBhl</td>\n",
       "      <td>0.885154</td>\n",
       "      <td>0.105498</td>\n",
       "      <td>-0.921341</td>\n",
       "      <td>63.022351</td>\n",
       "    </tr>\n",
       "  </tbody>\n",
       "</table>\n",
       "</div>"
      ],
      "text/plain": [
       "          id        f0        f1        f2     product\n",
       "62482  FKso2  0.847091  0.708580  0.372060   30.686677\n",
       "43325  QKPLK  0.526580 -0.568332 -5.230191   45.085859\n",
       "28399  JTyws  0.955793  0.498162  4.070473   30.041356\n",
       "23709  0Q83e  0.899217  0.376549  2.716309   14.902660\n",
       "73034  lV8zd  0.015602  0.850411  2.687335   51.775106\n",
       "36280  KQdVq -0.329055  0.970886 -3.212581   16.164591\n",
       "23044  vyFcT  1.778686 -0.294826  3.519821   30.109400\n",
       "52209  pToeR  0.584523  0.773873 -2.630740  118.504278\n",
       "13541  J3wIW  0.208568  0.236023 -0.126302   38.946973\n",
       "70043  JWBhl  0.885154  0.105498 -0.921341   63.022351"
      ]
     },
     "metadata": {},
     "output_type": "display_data"
    },
    {
     "name": "stdout",
     "output_type": "stream",
     "text": [
      "\n",
      "<class 'pandas.core.frame.DataFrame'>\n",
      "RangeIndex: 100000 entries, 0 to 99999\n",
      "Data columns (total 5 columns):\n",
      " #   Column   Non-Null Count   Dtype  \n",
      "---  ------   --------------   -----  \n",
      " 0   id       100000 non-null  object \n",
      " 1   f0       100000 non-null  float64\n",
      " 2   f1       100000 non-null  float64\n",
      " 3   f2       100000 non-null  float64\n",
      " 4   product  100000 non-null  float64\n",
      "dtypes: float64(4), object(1)\n",
      "memory usage: 3.8+ MB\n"
     ]
    },
    {
     "data": {
      "text/plain": [
       "None"
      ]
     },
     "metadata": {},
     "output_type": "display_data"
    },
    {
     "name": "stdout",
     "output_type": "stream",
     "text": [
      "\n"
     ]
    },
    {
     "data": {
      "text/html": [
       "<div>\n",
       "<style scoped>\n",
       "    .dataframe tbody tr th:only-of-type {\n",
       "        vertical-align: middle;\n",
       "    }\n",
       "\n",
       "    .dataframe tbody tr th {\n",
       "        vertical-align: top;\n",
       "    }\n",
       "\n",
       "    .dataframe thead th {\n",
       "        text-align: right;\n",
       "    }\n",
       "</style>\n",
       "<table border=\"1\" class=\"dataframe\">\n",
       "  <thead>\n",
       "    <tr style=\"text-align: right;\">\n",
       "      <th></th>\n",
       "      <th>count</th>\n",
       "      <th>mean</th>\n",
       "      <th>std</th>\n",
       "      <th>min</th>\n",
       "      <th>25%</th>\n",
       "      <th>50%</th>\n",
       "      <th>75%</th>\n",
       "      <th>max</th>\n",
       "    </tr>\n",
       "  </thead>\n",
       "  <tbody>\n",
       "    <tr>\n",
       "      <th>f0</th>\n",
       "      <td>100000.0</td>\n",
       "      <td>0.500419</td>\n",
       "      <td>0.871832</td>\n",
       "      <td>-1.408605</td>\n",
       "      <td>-0.072580</td>\n",
       "      <td>0.502360</td>\n",
       "      <td>1.073581</td>\n",
       "      <td>2.362331</td>\n",
       "    </tr>\n",
       "    <tr>\n",
       "      <th>f1</th>\n",
       "      <td>100000.0</td>\n",
       "      <td>0.250143</td>\n",
       "      <td>0.504433</td>\n",
       "      <td>-0.848218</td>\n",
       "      <td>-0.200881</td>\n",
       "      <td>0.250252</td>\n",
       "      <td>0.700646</td>\n",
       "      <td>1.343769</td>\n",
       "    </tr>\n",
       "    <tr>\n",
       "      <th>f2</th>\n",
       "      <td>100000.0</td>\n",
       "      <td>2.502647</td>\n",
       "      <td>3.248248</td>\n",
       "      <td>-12.088328</td>\n",
       "      <td>0.287748</td>\n",
       "      <td>2.515969</td>\n",
       "      <td>4.715088</td>\n",
       "      <td>16.003790</td>\n",
       "    </tr>\n",
       "    <tr>\n",
       "      <th>product</th>\n",
       "      <td>100000.0</td>\n",
       "      <td>92.500000</td>\n",
       "      <td>44.288691</td>\n",
       "      <td>0.000000</td>\n",
       "      <td>56.497507</td>\n",
       "      <td>91.849972</td>\n",
       "      <td>128.564089</td>\n",
       "      <td>185.364347</td>\n",
       "    </tr>\n",
       "  </tbody>\n",
       "</table>\n",
       "</div>"
      ],
      "text/plain": [
       "            count       mean        std        min        25%        50%  \\\n",
       "f0       100000.0   0.500419   0.871832  -1.408605  -0.072580   0.502360   \n",
       "f1       100000.0   0.250143   0.504433  -0.848218  -0.200881   0.250252   \n",
       "f2       100000.0   2.502647   3.248248 -12.088328   0.287748   2.515969   \n",
       "product  100000.0  92.500000  44.288691   0.000000  56.497507  91.849972   \n",
       "\n",
       "                75%         max  \n",
       "f0         1.073581    2.362331  \n",
       "f1         0.700646    1.343769  \n",
       "f2         4.715088   16.003790  \n",
       "product  128.564089  185.364347  "
      ]
     },
     "metadata": {},
     "output_type": "display_data"
    },
    {
     "name": "stdout",
     "output_type": "stream",
     "text": [
      "\n",
      "\n",
      "Кол-во явных дубликатов: 0\n",
      "\n",
      "Кол-во пропусков:\n"
     ]
    },
    {
     "data": {
      "text/plain": [
       "id         0\n",
       "f0         0\n",
       "f1         0\n",
       "f2         0\n",
       "product    0\n",
       "dtype: int64"
      ]
     },
     "metadata": {},
     "output_type": "display_data"
    },
    {
     "name": "stdout",
     "output_type": "stream",
     "text": [
      "\n"
     ]
    }
   ],
   "source": [
    "#проверим первый датасет\n",
    "data_overview(reg_1)"
   ]
  },
  {
   "cell_type": "code",
   "execution_count": 10,
   "id": "e6a64ade-5093-4296-b1ad-119234a51a33",
   "metadata": {},
   "outputs": [
    {
     "data": {
      "text/html": [
       "<div>\n",
       "<style scoped>\n",
       "    .dataframe tbody tr th:only-of-type {\n",
       "        vertical-align: middle;\n",
       "    }\n",
       "\n",
       "    .dataframe tbody tr th {\n",
       "        vertical-align: top;\n",
       "    }\n",
       "\n",
       "    .dataframe thead th {\n",
       "        text-align: right;\n",
       "    }\n",
       "</style>\n",
       "<table border=\"1\" class=\"dataframe\">\n",
       "  <thead>\n",
       "    <tr style=\"text-align: right;\">\n",
       "      <th></th>\n",
       "      <th>id</th>\n",
       "      <th>f0</th>\n",
       "      <th>f1</th>\n",
       "      <th>f2</th>\n",
       "      <th>product</th>\n",
       "    </tr>\n",
       "  </thead>\n",
       "  <tbody>\n",
       "    <tr>\n",
       "      <th>0</th>\n",
       "      <td>kBEdx</td>\n",
       "      <td>-15.001348</td>\n",
       "      <td>-8.276000</td>\n",
       "      <td>-0.005876</td>\n",
       "      <td>3.179103</td>\n",
       "    </tr>\n",
       "    <tr>\n",
       "      <th>1</th>\n",
       "      <td>62mP7</td>\n",
       "      <td>14.272088</td>\n",
       "      <td>-3.475083</td>\n",
       "      <td>0.999183</td>\n",
       "      <td>26.953261</td>\n",
       "    </tr>\n",
       "    <tr>\n",
       "      <th>2</th>\n",
       "      <td>vyE1P</td>\n",
       "      <td>6.263187</td>\n",
       "      <td>-5.948386</td>\n",
       "      <td>5.001160</td>\n",
       "      <td>134.766305</td>\n",
       "    </tr>\n",
       "    <tr>\n",
       "      <th>3</th>\n",
       "      <td>KcrkZ</td>\n",
       "      <td>-13.081196</td>\n",
       "      <td>-11.506057</td>\n",
       "      <td>4.999415</td>\n",
       "      <td>137.945408</td>\n",
       "    </tr>\n",
       "    <tr>\n",
       "      <th>4</th>\n",
       "      <td>AHL4O</td>\n",
       "      <td>12.702195</td>\n",
       "      <td>-8.147433</td>\n",
       "      <td>5.004363</td>\n",
       "      <td>134.766305</td>\n",
       "    </tr>\n",
       "    <tr>\n",
       "      <th>5</th>\n",
       "      <td>HHckp</td>\n",
       "      <td>-3.327590</td>\n",
       "      <td>-2.205276</td>\n",
       "      <td>3.003647</td>\n",
       "      <td>84.038886</td>\n",
       "    </tr>\n",
       "    <tr>\n",
       "      <th>6</th>\n",
       "      <td>h5Ujo</td>\n",
       "      <td>-11.142655</td>\n",
       "      <td>-10.133399</td>\n",
       "      <td>4.002382</td>\n",
       "      <td>110.992147</td>\n",
       "    </tr>\n",
       "    <tr>\n",
       "      <th>7</th>\n",
       "      <td>muH9x</td>\n",
       "      <td>4.234715</td>\n",
       "      <td>-0.001354</td>\n",
       "      <td>2.004588</td>\n",
       "      <td>53.906522</td>\n",
       "    </tr>\n",
       "    <tr>\n",
       "      <th>8</th>\n",
       "      <td>YiRkx</td>\n",
       "      <td>13.355129</td>\n",
       "      <td>-0.332068</td>\n",
       "      <td>4.998647</td>\n",
       "      <td>134.766305</td>\n",
       "    </tr>\n",
       "    <tr>\n",
       "      <th>9</th>\n",
       "      <td>jG6Gi</td>\n",
       "      <td>1.069227</td>\n",
       "      <td>-11.025667</td>\n",
       "      <td>4.997844</td>\n",
       "      <td>137.945408</td>\n",
       "    </tr>\n",
       "  </tbody>\n",
       "</table>\n",
       "</div>"
      ],
      "text/plain": [
       "      id         f0         f1        f2     product\n",
       "0  kBEdx -15.001348  -8.276000 -0.005876    3.179103\n",
       "1  62mP7  14.272088  -3.475083  0.999183   26.953261\n",
       "2  vyE1P   6.263187  -5.948386  5.001160  134.766305\n",
       "3  KcrkZ -13.081196 -11.506057  4.999415  137.945408\n",
       "4  AHL4O  12.702195  -8.147433  5.004363  134.766305\n",
       "5  HHckp  -3.327590  -2.205276  3.003647   84.038886\n",
       "6  h5Ujo -11.142655 -10.133399  4.002382  110.992147\n",
       "7  muH9x   4.234715  -0.001354  2.004588   53.906522\n",
       "8  YiRkx  13.355129  -0.332068  4.998647  134.766305\n",
       "9  jG6Gi   1.069227 -11.025667  4.997844  137.945408"
      ]
     },
     "metadata": {},
     "output_type": "display_data"
    },
    {
     "name": "stdout",
     "output_type": "stream",
     "text": [
      "\n"
     ]
    },
    {
     "data": {
      "text/html": [
       "<div>\n",
       "<style scoped>\n",
       "    .dataframe tbody tr th:only-of-type {\n",
       "        vertical-align: middle;\n",
       "    }\n",
       "\n",
       "    .dataframe tbody tr th {\n",
       "        vertical-align: top;\n",
       "    }\n",
       "\n",
       "    .dataframe thead th {\n",
       "        text-align: right;\n",
       "    }\n",
       "</style>\n",
       "<table border=\"1\" class=\"dataframe\">\n",
       "  <thead>\n",
       "    <tr style=\"text-align: right;\">\n",
       "      <th></th>\n",
       "      <th>id</th>\n",
       "      <th>f0</th>\n",
       "      <th>f1</th>\n",
       "      <th>f2</th>\n",
       "      <th>product</th>\n",
       "    </tr>\n",
       "  </thead>\n",
       "  <tbody>\n",
       "    <tr>\n",
       "      <th>53094</th>\n",
       "      <td>XRKWp</td>\n",
       "      <td>18.182165</td>\n",
       "      <td>-11.061580</td>\n",
       "      <td>2.994630</td>\n",
       "      <td>80.859783</td>\n",
       "    </tr>\n",
       "    <tr>\n",
       "      <th>5735</th>\n",
       "      <td>rLkyE</td>\n",
       "      <td>-1.836065</td>\n",
       "      <td>-12.107046</td>\n",
       "      <td>3.000098</td>\n",
       "      <td>84.038886</td>\n",
       "    </tr>\n",
       "    <tr>\n",
       "      <th>11220</th>\n",
       "      <td>053BL</td>\n",
       "      <td>-1.618825</td>\n",
       "      <td>-2.067075</td>\n",
       "      <td>2.989964</td>\n",
       "      <td>84.038886</td>\n",
       "    </tr>\n",
       "    <tr>\n",
       "      <th>65222</th>\n",
       "      <td>9V0cl</td>\n",
       "      <td>3.838010</td>\n",
       "      <td>-7.747641</td>\n",
       "      <td>1.001634</td>\n",
       "      <td>26.953261</td>\n",
       "    </tr>\n",
       "    <tr>\n",
       "      <th>34722</th>\n",
       "      <td>oqNSm</td>\n",
       "      <td>11.917605</td>\n",
       "      <td>-13.305740</td>\n",
       "      <td>-0.010807</td>\n",
       "      <td>0.000000</td>\n",
       "    </tr>\n",
       "    <tr>\n",
       "      <th>18025</th>\n",
       "      <td>yPKHL</td>\n",
       "      <td>-3.945142</td>\n",
       "      <td>-10.489382</td>\n",
       "      <td>5.001145</td>\n",
       "      <td>137.945408</td>\n",
       "    </tr>\n",
       "    <tr>\n",
       "      <th>52423</th>\n",
       "      <td>pLv1u</td>\n",
       "      <td>10.593312</td>\n",
       "      <td>-6.768400</td>\n",
       "      <td>4.002644</td>\n",
       "      <td>107.813044</td>\n",
       "    </tr>\n",
       "    <tr>\n",
       "      <th>28857</th>\n",
       "      <td>jgmdO</td>\n",
       "      <td>-8.046026</td>\n",
       "      <td>-2.422625</td>\n",
       "      <td>5.003153</td>\n",
       "      <td>137.945408</td>\n",
       "    </tr>\n",
       "    <tr>\n",
       "      <th>50811</th>\n",
       "      <td>RfuLd</td>\n",
       "      <td>16.579319</td>\n",
       "      <td>-5.983083</td>\n",
       "      <td>1.004756</td>\n",
       "      <td>26.953261</td>\n",
       "    </tr>\n",
       "    <tr>\n",
       "      <th>24879</th>\n",
       "      <td>PRrtm</td>\n",
       "      <td>-1.987143</td>\n",
       "      <td>-3.261973</td>\n",
       "      <td>4.003177</td>\n",
       "      <td>110.992147</td>\n",
       "    </tr>\n",
       "  </tbody>\n",
       "</table>\n",
       "</div>"
      ],
      "text/plain": [
       "          id         f0         f1        f2     product\n",
       "53094  XRKWp  18.182165 -11.061580  2.994630   80.859783\n",
       "5735   rLkyE  -1.836065 -12.107046  3.000098   84.038886\n",
       "11220  053BL  -1.618825  -2.067075  2.989964   84.038886\n",
       "65222  9V0cl   3.838010  -7.747641  1.001634   26.953261\n",
       "34722  oqNSm  11.917605 -13.305740 -0.010807    0.000000\n",
       "18025  yPKHL  -3.945142 -10.489382  5.001145  137.945408\n",
       "52423  pLv1u  10.593312  -6.768400  4.002644  107.813044\n",
       "28857  jgmdO  -8.046026  -2.422625  5.003153  137.945408\n",
       "50811  RfuLd  16.579319  -5.983083  1.004756   26.953261\n",
       "24879  PRrtm  -1.987143  -3.261973  4.003177  110.992147"
      ]
     },
     "metadata": {},
     "output_type": "display_data"
    },
    {
     "name": "stdout",
     "output_type": "stream",
     "text": [
      "\n",
      "<class 'pandas.core.frame.DataFrame'>\n",
      "RangeIndex: 100000 entries, 0 to 99999\n",
      "Data columns (total 5 columns):\n",
      " #   Column   Non-Null Count   Dtype  \n",
      "---  ------   --------------   -----  \n",
      " 0   id       100000 non-null  object \n",
      " 1   f0       100000 non-null  float64\n",
      " 2   f1       100000 non-null  float64\n",
      " 3   f2       100000 non-null  float64\n",
      " 4   product  100000 non-null  float64\n",
      "dtypes: float64(4), object(1)\n",
      "memory usage: 3.8+ MB\n"
     ]
    },
    {
     "data": {
      "text/plain": [
       "None"
      ]
     },
     "metadata": {},
     "output_type": "display_data"
    },
    {
     "name": "stdout",
     "output_type": "stream",
     "text": [
      "\n"
     ]
    },
    {
     "data": {
      "text/html": [
       "<div>\n",
       "<style scoped>\n",
       "    .dataframe tbody tr th:only-of-type {\n",
       "        vertical-align: middle;\n",
       "    }\n",
       "\n",
       "    .dataframe tbody tr th {\n",
       "        vertical-align: top;\n",
       "    }\n",
       "\n",
       "    .dataframe thead th {\n",
       "        text-align: right;\n",
       "    }\n",
       "</style>\n",
       "<table border=\"1\" class=\"dataframe\">\n",
       "  <thead>\n",
       "    <tr style=\"text-align: right;\">\n",
       "      <th></th>\n",
       "      <th>count</th>\n",
       "      <th>mean</th>\n",
       "      <th>std</th>\n",
       "      <th>min</th>\n",
       "      <th>25%</th>\n",
       "      <th>50%</th>\n",
       "      <th>75%</th>\n",
       "      <th>max</th>\n",
       "    </tr>\n",
       "  </thead>\n",
       "  <tbody>\n",
       "    <tr>\n",
       "      <th>f0</th>\n",
       "      <td>100000.0</td>\n",
       "      <td>1.141296</td>\n",
       "      <td>8.965932</td>\n",
       "      <td>-31.609576</td>\n",
       "      <td>-6.298551</td>\n",
       "      <td>1.153055</td>\n",
       "      <td>8.621015</td>\n",
       "      <td>29.421755</td>\n",
       "    </tr>\n",
       "    <tr>\n",
       "      <th>f1</th>\n",
       "      <td>100000.0</td>\n",
       "      <td>-4.796579</td>\n",
       "      <td>5.119872</td>\n",
       "      <td>-26.358598</td>\n",
       "      <td>-8.267985</td>\n",
       "      <td>-4.813172</td>\n",
       "      <td>-1.332816</td>\n",
       "      <td>18.734063</td>\n",
       "    </tr>\n",
       "    <tr>\n",
       "      <th>f2</th>\n",
       "      <td>100000.0</td>\n",
       "      <td>2.494541</td>\n",
       "      <td>1.703572</td>\n",
       "      <td>-0.018144</td>\n",
       "      <td>1.000021</td>\n",
       "      <td>2.011479</td>\n",
       "      <td>3.999904</td>\n",
       "      <td>5.019721</td>\n",
       "    </tr>\n",
       "    <tr>\n",
       "      <th>product</th>\n",
       "      <td>100000.0</td>\n",
       "      <td>68.825000</td>\n",
       "      <td>45.944423</td>\n",
       "      <td>0.000000</td>\n",
       "      <td>26.953261</td>\n",
       "      <td>57.085625</td>\n",
       "      <td>107.813044</td>\n",
       "      <td>137.945408</td>\n",
       "    </tr>\n",
       "  </tbody>\n",
       "</table>\n",
       "</div>"
      ],
      "text/plain": [
       "            count       mean        std        min        25%        50%  \\\n",
       "f0       100000.0   1.141296   8.965932 -31.609576  -6.298551   1.153055   \n",
       "f1       100000.0  -4.796579   5.119872 -26.358598  -8.267985  -4.813172   \n",
       "f2       100000.0   2.494541   1.703572  -0.018144   1.000021   2.011479   \n",
       "product  100000.0  68.825000  45.944423   0.000000  26.953261  57.085625   \n",
       "\n",
       "                75%         max  \n",
       "f0         8.621015   29.421755  \n",
       "f1        -1.332816   18.734063  \n",
       "f2         3.999904    5.019721  \n",
       "product  107.813044  137.945408  "
      ]
     },
     "metadata": {},
     "output_type": "display_data"
    },
    {
     "name": "stdout",
     "output_type": "stream",
     "text": [
      "\n",
      "\n",
      "Кол-во явных дубликатов: 0\n",
      "\n",
      "Кол-во пропусков:\n"
     ]
    },
    {
     "data": {
      "text/plain": [
       "id         0\n",
       "f0         0\n",
       "f1         0\n",
       "f2         0\n",
       "product    0\n",
       "dtype: int64"
      ]
     },
     "metadata": {},
     "output_type": "display_data"
    },
    {
     "name": "stdout",
     "output_type": "stream",
     "text": [
      "\n"
     ]
    }
   ],
   "source": [
    "#проверим первый датасет\n",
    "data_overview(reg_2)"
   ]
  },
  {
   "cell_type": "code",
   "execution_count": 11,
   "id": "edc97c13-8f23-4d47-b197-07d566780d22",
   "metadata": {},
   "outputs": [
    {
     "data": {
      "text/html": [
       "<div>\n",
       "<style scoped>\n",
       "    .dataframe tbody tr th:only-of-type {\n",
       "        vertical-align: middle;\n",
       "    }\n",
       "\n",
       "    .dataframe tbody tr th {\n",
       "        vertical-align: top;\n",
       "    }\n",
       "\n",
       "    .dataframe thead th {\n",
       "        text-align: right;\n",
       "    }\n",
       "</style>\n",
       "<table border=\"1\" class=\"dataframe\">\n",
       "  <thead>\n",
       "    <tr style=\"text-align: right;\">\n",
       "      <th></th>\n",
       "      <th>id</th>\n",
       "      <th>f0</th>\n",
       "      <th>f1</th>\n",
       "      <th>f2</th>\n",
       "      <th>product</th>\n",
       "    </tr>\n",
       "  </thead>\n",
       "  <tbody>\n",
       "    <tr>\n",
       "      <th>0</th>\n",
       "      <td>fwXo0</td>\n",
       "      <td>-1.146987</td>\n",
       "      <td>0.963328</td>\n",
       "      <td>-0.828965</td>\n",
       "      <td>27.758673</td>\n",
       "    </tr>\n",
       "    <tr>\n",
       "      <th>1</th>\n",
       "      <td>WJtFt</td>\n",
       "      <td>0.262778</td>\n",
       "      <td>0.269839</td>\n",
       "      <td>-2.530187</td>\n",
       "      <td>56.069697</td>\n",
       "    </tr>\n",
       "    <tr>\n",
       "      <th>2</th>\n",
       "      <td>ovLUW</td>\n",
       "      <td>0.194587</td>\n",
       "      <td>0.289035</td>\n",
       "      <td>-5.586433</td>\n",
       "      <td>62.871910</td>\n",
       "    </tr>\n",
       "    <tr>\n",
       "      <th>3</th>\n",
       "      <td>q6cA6</td>\n",
       "      <td>2.236060</td>\n",
       "      <td>-0.553760</td>\n",
       "      <td>0.930038</td>\n",
       "      <td>114.572842</td>\n",
       "    </tr>\n",
       "    <tr>\n",
       "      <th>4</th>\n",
       "      <td>WPMUX</td>\n",
       "      <td>-0.515993</td>\n",
       "      <td>1.716266</td>\n",
       "      <td>5.899011</td>\n",
       "      <td>149.600746</td>\n",
       "    </tr>\n",
       "    <tr>\n",
       "      <th>5</th>\n",
       "      <td>LzZXx</td>\n",
       "      <td>-0.758092</td>\n",
       "      <td>0.710691</td>\n",
       "      <td>2.585887</td>\n",
       "      <td>90.222465</td>\n",
       "    </tr>\n",
       "    <tr>\n",
       "      <th>6</th>\n",
       "      <td>WBHRv</td>\n",
       "      <td>-0.574891</td>\n",
       "      <td>0.317727</td>\n",
       "      <td>1.773745</td>\n",
       "      <td>45.641478</td>\n",
       "    </tr>\n",
       "    <tr>\n",
       "      <th>7</th>\n",
       "      <td>XO8fn</td>\n",
       "      <td>-1.906649</td>\n",
       "      <td>-2.458350</td>\n",
       "      <td>-0.177097</td>\n",
       "      <td>72.480640</td>\n",
       "    </tr>\n",
       "    <tr>\n",
       "      <th>8</th>\n",
       "      <td>ybmQ5</td>\n",
       "      <td>1.776292</td>\n",
       "      <td>-0.279356</td>\n",
       "      <td>3.004156</td>\n",
       "      <td>106.616832</td>\n",
       "    </tr>\n",
       "    <tr>\n",
       "      <th>9</th>\n",
       "      <td>OilcN</td>\n",
       "      <td>-1.214452</td>\n",
       "      <td>-0.439314</td>\n",
       "      <td>5.922514</td>\n",
       "      <td>52.954532</td>\n",
       "    </tr>\n",
       "  </tbody>\n",
       "</table>\n",
       "</div>"
      ],
      "text/plain": [
       "      id        f0        f1        f2     product\n",
       "0  fwXo0 -1.146987  0.963328 -0.828965   27.758673\n",
       "1  WJtFt  0.262778  0.269839 -2.530187   56.069697\n",
       "2  ovLUW  0.194587  0.289035 -5.586433   62.871910\n",
       "3  q6cA6  2.236060 -0.553760  0.930038  114.572842\n",
       "4  WPMUX -0.515993  1.716266  5.899011  149.600746\n",
       "5  LzZXx -0.758092  0.710691  2.585887   90.222465\n",
       "6  WBHRv -0.574891  0.317727  1.773745   45.641478\n",
       "7  XO8fn -1.906649 -2.458350 -0.177097   72.480640\n",
       "8  ybmQ5  1.776292 -0.279356  3.004156  106.616832\n",
       "9  OilcN -1.214452 -0.439314  5.922514   52.954532"
      ]
     },
     "metadata": {},
     "output_type": "display_data"
    },
    {
     "name": "stdout",
     "output_type": "stream",
     "text": [
      "\n"
     ]
    },
    {
     "data": {
      "text/html": [
       "<div>\n",
       "<style scoped>\n",
       "    .dataframe tbody tr th:only-of-type {\n",
       "        vertical-align: middle;\n",
       "    }\n",
       "\n",
       "    .dataframe tbody tr th {\n",
       "        vertical-align: top;\n",
       "    }\n",
       "\n",
       "    .dataframe thead th {\n",
       "        text-align: right;\n",
       "    }\n",
       "</style>\n",
       "<table border=\"1\" class=\"dataframe\">\n",
       "  <thead>\n",
       "    <tr style=\"text-align: right;\">\n",
       "      <th></th>\n",
       "      <th>id</th>\n",
       "      <th>f0</th>\n",
       "      <th>f1</th>\n",
       "      <th>f2</th>\n",
       "      <th>product</th>\n",
       "    </tr>\n",
       "  </thead>\n",
       "  <tbody>\n",
       "    <tr>\n",
       "      <th>81071</th>\n",
       "      <td>Nt1qN</td>\n",
       "      <td>0.534742</td>\n",
       "      <td>-0.383737</td>\n",
       "      <td>-1.878697</td>\n",
       "      <td>88.824358</td>\n",
       "    </tr>\n",
       "    <tr>\n",
       "      <th>43757</th>\n",
       "      <td>hIetO</td>\n",
       "      <td>1.542797</td>\n",
       "      <td>1.814092</td>\n",
       "      <td>1.794594</td>\n",
       "      <td>104.504448</td>\n",
       "    </tr>\n",
       "    <tr>\n",
       "      <th>50700</th>\n",
       "      <td>EPAgt</td>\n",
       "      <td>-0.323589</td>\n",
       "      <td>-2.750097</td>\n",
       "      <td>2.585085</td>\n",
       "      <td>140.580555</td>\n",
       "    </tr>\n",
       "    <tr>\n",
       "      <th>98642</th>\n",
       "      <td>1yIHX</td>\n",
       "      <td>0.047146</td>\n",
       "      <td>-2.848877</td>\n",
       "      <td>4.139105</td>\n",
       "      <td>57.754496</td>\n",
       "    </tr>\n",
       "    <tr>\n",
       "      <th>26826</th>\n",
       "      <td>J3kTS</td>\n",
       "      <td>1.864559</td>\n",
       "      <td>0.913133</td>\n",
       "      <td>3.553896</td>\n",
       "      <td>46.415265</td>\n",
       "    </tr>\n",
       "    <tr>\n",
       "      <th>54106</th>\n",
       "      <td>nz225</td>\n",
       "      <td>2.263245</td>\n",
       "      <td>-1.115323</td>\n",
       "      <td>4.746011</td>\n",
       "      <td>134.169293</td>\n",
       "    </tr>\n",
       "    <tr>\n",
       "      <th>68091</th>\n",
       "      <td>Dhw8M</td>\n",
       "      <td>1.728038</td>\n",
       "      <td>3.070094</td>\n",
       "      <td>3.410508</td>\n",
       "      <td>159.306380</td>\n",
       "    </tr>\n",
       "    <tr>\n",
       "      <th>19975</th>\n",
       "      <td>mgkQE</td>\n",
       "      <td>0.533485</td>\n",
       "      <td>-0.022556</td>\n",
       "      <td>-1.204492</td>\n",
       "      <td>67.374865</td>\n",
       "    </tr>\n",
       "    <tr>\n",
       "      <th>42976</th>\n",
       "      <td>0VAGH</td>\n",
       "      <td>-1.235894</td>\n",
       "      <td>-1.439600</td>\n",
       "      <td>1.918512</td>\n",
       "      <td>159.311325</td>\n",
       "    </tr>\n",
       "    <tr>\n",
       "      <th>2518</th>\n",
       "      <td>FT6bV</td>\n",
       "      <td>-1.837419</td>\n",
       "      <td>1.509121</td>\n",
       "      <td>0.450605</td>\n",
       "      <td>144.207981</td>\n",
       "    </tr>\n",
       "  </tbody>\n",
       "</table>\n",
       "</div>"
      ],
      "text/plain": [
       "          id        f0        f1        f2     product\n",
       "81071  Nt1qN  0.534742 -0.383737 -1.878697   88.824358\n",
       "43757  hIetO  1.542797  1.814092  1.794594  104.504448\n",
       "50700  EPAgt -0.323589 -2.750097  2.585085  140.580555\n",
       "98642  1yIHX  0.047146 -2.848877  4.139105   57.754496\n",
       "26826  J3kTS  1.864559  0.913133  3.553896   46.415265\n",
       "54106  nz225  2.263245 -1.115323  4.746011  134.169293\n",
       "68091  Dhw8M  1.728038  3.070094  3.410508  159.306380\n",
       "19975  mgkQE  0.533485 -0.022556 -1.204492   67.374865\n",
       "42976  0VAGH -1.235894 -1.439600  1.918512  159.311325\n",
       "2518   FT6bV -1.837419  1.509121  0.450605  144.207981"
      ]
     },
     "metadata": {},
     "output_type": "display_data"
    },
    {
     "name": "stdout",
     "output_type": "stream",
     "text": [
      "\n",
      "<class 'pandas.core.frame.DataFrame'>\n",
      "RangeIndex: 100000 entries, 0 to 99999\n",
      "Data columns (total 5 columns):\n",
      " #   Column   Non-Null Count   Dtype  \n",
      "---  ------   --------------   -----  \n",
      " 0   id       100000 non-null  object \n",
      " 1   f0       100000 non-null  float64\n",
      " 2   f1       100000 non-null  float64\n",
      " 3   f2       100000 non-null  float64\n",
      " 4   product  100000 non-null  float64\n",
      "dtypes: float64(4), object(1)\n",
      "memory usage: 3.8+ MB\n"
     ]
    },
    {
     "data": {
      "text/plain": [
       "None"
      ]
     },
     "metadata": {},
     "output_type": "display_data"
    },
    {
     "name": "stdout",
     "output_type": "stream",
     "text": [
      "\n"
     ]
    },
    {
     "data": {
      "text/html": [
       "<div>\n",
       "<style scoped>\n",
       "    .dataframe tbody tr th:only-of-type {\n",
       "        vertical-align: middle;\n",
       "    }\n",
       "\n",
       "    .dataframe tbody tr th {\n",
       "        vertical-align: top;\n",
       "    }\n",
       "\n",
       "    .dataframe thead th {\n",
       "        text-align: right;\n",
       "    }\n",
       "</style>\n",
       "<table border=\"1\" class=\"dataframe\">\n",
       "  <thead>\n",
       "    <tr style=\"text-align: right;\">\n",
       "      <th></th>\n",
       "      <th>count</th>\n",
       "      <th>mean</th>\n",
       "      <th>std</th>\n",
       "      <th>min</th>\n",
       "      <th>25%</th>\n",
       "      <th>50%</th>\n",
       "      <th>75%</th>\n",
       "      <th>max</th>\n",
       "    </tr>\n",
       "  </thead>\n",
       "  <tbody>\n",
       "    <tr>\n",
       "      <th>f0</th>\n",
       "      <td>100000.0</td>\n",
       "      <td>0.002023</td>\n",
       "      <td>1.732045</td>\n",
       "      <td>-8.760004</td>\n",
       "      <td>-1.162288</td>\n",
       "      <td>0.009424</td>\n",
       "      <td>1.158535</td>\n",
       "      <td>7.238262</td>\n",
       "    </tr>\n",
       "    <tr>\n",
       "      <th>f1</th>\n",
       "      <td>100000.0</td>\n",
       "      <td>-0.002081</td>\n",
       "      <td>1.730417</td>\n",
       "      <td>-7.084020</td>\n",
       "      <td>-1.174820</td>\n",
       "      <td>-0.009482</td>\n",
       "      <td>1.163678</td>\n",
       "      <td>7.844801</td>\n",
       "    </tr>\n",
       "    <tr>\n",
       "      <th>f2</th>\n",
       "      <td>100000.0</td>\n",
       "      <td>2.495128</td>\n",
       "      <td>3.473445</td>\n",
       "      <td>-11.970335</td>\n",
       "      <td>0.130359</td>\n",
       "      <td>2.484236</td>\n",
       "      <td>4.858794</td>\n",
       "      <td>16.739402</td>\n",
       "    </tr>\n",
       "    <tr>\n",
       "      <th>product</th>\n",
       "      <td>100000.0</td>\n",
       "      <td>95.000000</td>\n",
       "      <td>44.749921</td>\n",
       "      <td>0.000000</td>\n",
       "      <td>59.450441</td>\n",
       "      <td>94.925613</td>\n",
       "      <td>130.595027</td>\n",
       "      <td>190.029838</td>\n",
       "    </tr>\n",
       "  </tbody>\n",
       "</table>\n",
       "</div>"
      ],
      "text/plain": [
       "            count       mean        std        min        25%        50%  \\\n",
       "f0       100000.0   0.002023   1.732045  -8.760004  -1.162288   0.009424   \n",
       "f1       100000.0  -0.002081   1.730417  -7.084020  -1.174820  -0.009482   \n",
       "f2       100000.0   2.495128   3.473445 -11.970335   0.130359   2.484236   \n",
       "product  100000.0  95.000000  44.749921   0.000000  59.450441  94.925613   \n",
       "\n",
       "                75%         max  \n",
       "f0         1.158535    7.238262  \n",
       "f1         1.163678    7.844801  \n",
       "f2         4.858794   16.739402  \n",
       "product  130.595027  190.029838  "
      ]
     },
     "metadata": {},
     "output_type": "display_data"
    },
    {
     "name": "stdout",
     "output_type": "stream",
     "text": [
      "\n",
      "\n",
      "Кол-во явных дубликатов: 0\n",
      "\n",
      "Кол-во пропусков:\n"
     ]
    },
    {
     "data": {
      "text/plain": [
       "id         0\n",
       "f0         0\n",
       "f1         0\n",
       "f2         0\n",
       "product    0\n",
       "dtype: int64"
      ]
     },
     "metadata": {},
     "output_type": "display_data"
    },
    {
     "name": "stdout",
     "output_type": "stream",
     "text": [
      "\n"
     ]
    }
   ],
   "source": [
    "#проверим первый датасет\n",
    "data_overview(reg_3)"
   ]
  },
  {
   "cell_type": "markdown",
   "id": "7514a8f9-cf2d-4b08-94f0-1b5c9dc7f0aa",
   "metadata": {},
   "source": [
    "**Итог обзора данных**\n",
    "\n",
    "**reg_1**: данные по скважинам первого региона\n",
    "\n",
    "- Названия столбцов ок.\n",
    "- Тип данных верный.\n",
    "- Пропущенных значений нет.\n",
    "- Основные статистики выглядят адекватно, насколько возможно судить по цифрам без контекста.\n",
    "- Явных дубликатов нет, но надо проверить неявные дубликаты в столбце id.\n",
    "______\n",
    "\n",
    "**reg_2**: данные по скважинам второго региона\n",
    "\n",
    "- Названия столбцов ок.\n",
    "- Тип данных верный.\n",
    "- Пропущенных значений нет.\n",
    "- Основные статистики выглядят сильно отличающимися от первого и третьего региона.\n",
    "- Явных дубликатов нет, но надо проверить неявные дубликаты в столбце id.\n",
    "______\n",
    "\n",
    "**reg_3**: данные по скважинам третьего региона\n",
    "\n",
    "- Названия столбцов ок.\n",
    "- Тип данных верный.\n",
    "- Пропущенных значений нет.\n",
    "- Основные статистики выглядят адекватно, насколько возможно судить по цифрам без контекста.\n",
    "- Явных дубликатов нет, но надо проверить неявные дубликаты в столбце id."
   ]
  },
  {
   "cell_type": "markdown",
   "id": "35c6fcd0-f799-4e21-993d-aab4eef6a669",
   "metadata": {},
   "source": [
    "### Проверка на неявные дубликаты"
   ]
  },
  {
   "cell_type": "code",
   "execution_count": 12,
   "id": "854365e7-165a-46ce-858d-cc64cd67bccc",
   "metadata": {},
   "outputs": [
    {
     "data": {
      "text/plain": [
       "99990"
      ]
     },
     "execution_count": 12,
     "metadata": {},
     "output_type": "execute_result"
    }
   ],
   "source": [
    "#проверим число уникальных id в первом регионе, чтобы выявить неявные дубликаты\n",
    "reg_1['id'].nunique()"
   ]
  },
  {
   "cell_type": "code",
   "execution_count": 13,
   "id": "9adf2a99-9608-48bb-a007-4408380691b9",
   "metadata": {},
   "outputs": [
    {
     "data": {
      "text/plain": [
       "74z30    2\n",
       "bxg6G    2\n",
       "HZww2    2\n",
       "fiKDv    2\n",
       "Tdehs    2\n",
       "A5aEY    2\n",
       "TtcGQ    2\n",
       "AGS9W    2\n",
       "QcMuo    2\n",
       "bsk9y    2\n",
       "Name: id, dtype: int64"
      ]
     },
     "execution_count": 13,
     "metadata": {},
     "output_type": "execute_result"
    }
   ],
   "source": [
    "reg_1['id'].value_counts().head(10)"
   ]
  },
  {
   "cell_type": "code",
   "execution_count": 14,
   "id": "19ce8ce7-eeb7-44b0-b8ed-737fb45861fb",
   "metadata": {},
   "outputs": [
    {
     "data": {
      "text/html": [
       "<div>\n",
       "<style scoped>\n",
       "    .dataframe tbody tr th:only-of-type {\n",
       "        vertical-align: middle;\n",
       "    }\n",
       "\n",
       "    .dataframe tbody tr th {\n",
       "        vertical-align: top;\n",
       "    }\n",
       "\n",
       "    .dataframe thead th {\n",
       "        text-align: right;\n",
       "    }\n",
       "</style>\n",
       "<table border=\"1\" class=\"dataframe\">\n",
       "  <thead>\n",
       "    <tr style=\"text-align: right;\">\n",
       "      <th></th>\n",
       "      <th>id</th>\n",
       "      <th>f0</th>\n",
       "      <th>f1</th>\n",
       "      <th>f2</th>\n",
       "      <th>product</th>\n",
       "    </tr>\n",
       "  </thead>\n",
       "  <tbody>\n",
       "    <tr>\n",
       "      <th>66136</th>\n",
       "      <td>74z30</td>\n",
       "      <td>1.084962</td>\n",
       "      <td>-0.312358</td>\n",
       "      <td>6.990771</td>\n",
       "      <td>127.643327</td>\n",
       "    </tr>\n",
       "    <tr>\n",
       "      <th>64022</th>\n",
       "      <td>74z30</td>\n",
       "      <td>0.741456</td>\n",
       "      <td>0.459229</td>\n",
       "      <td>5.153109</td>\n",
       "      <td>140.771492</td>\n",
       "    </tr>\n",
       "    <tr>\n",
       "      <th>51970</th>\n",
       "      <td>A5aEY</td>\n",
       "      <td>-0.180335</td>\n",
       "      <td>0.935548</td>\n",
       "      <td>-2.094773</td>\n",
       "      <td>33.020205</td>\n",
       "    </tr>\n",
       "    <tr>\n",
       "      <th>3389</th>\n",
       "      <td>A5aEY</td>\n",
       "      <td>-0.039949</td>\n",
       "      <td>0.156872</td>\n",
       "      <td>0.209861</td>\n",
       "      <td>89.249364</td>\n",
       "    </tr>\n",
       "    <tr>\n",
       "      <th>69163</th>\n",
       "      <td>AGS9W</td>\n",
       "      <td>-0.933795</td>\n",
       "      <td>0.116194</td>\n",
       "      <td>-3.655896</td>\n",
       "      <td>19.230453</td>\n",
       "    </tr>\n",
       "    <tr>\n",
       "      <th>42529</th>\n",
       "      <td>AGS9W</td>\n",
       "      <td>1.454747</td>\n",
       "      <td>-0.479651</td>\n",
       "      <td>0.683380</td>\n",
       "      <td>126.370504</td>\n",
       "    </tr>\n",
       "    <tr>\n",
       "      <th>931</th>\n",
       "      <td>HZww2</td>\n",
       "      <td>0.755284</td>\n",
       "      <td>0.368511</td>\n",
       "      <td>1.863211</td>\n",
       "      <td>30.681774</td>\n",
       "    </tr>\n",
       "    <tr>\n",
       "      <th>7530</th>\n",
       "      <td>HZww2</td>\n",
       "      <td>1.061194</td>\n",
       "      <td>-0.373969</td>\n",
       "      <td>10.430210</td>\n",
       "      <td>158.828695</td>\n",
       "    </tr>\n",
       "    <tr>\n",
       "      <th>63593</th>\n",
       "      <td>QcMuo</td>\n",
       "      <td>0.635635</td>\n",
       "      <td>-0.473422</td>\n",
       "      <td>0.862670</td>\n",
       "      <td>64.578675</td>\n",
       "    </tr>\n",
       "    <tr>\n",
       "      <th>1949</th>\n",
       "      <td>QcMuo</td>\n",
       "      <td>0.506563</td>\n",
       "      <td>-0.323775</td>\n",
       "      <td>-2.215583</td>\n",
       "      <td>75.496502</td>\n",
       "    </tr>\n",
       "    <tr>\n",
       "      <th>75715</th>\n",
       "      <td>Tdehs</td>\n",
       "      <td>0.112079</td>\n",
       "      <td>0.430296</td>\n",
       "      <td>3.218993</td>\n",
       "      <td>60.964018</td>\n",
       "    </tr>\n",
       "    <tr>\n",
       "      <th>21426</th>\n",
       "      <td>Tdehs</td>\n",
       "      <td>0.829407</td>\n",
       "      <td>0.298807</td>\n",
       "      <td>-0.049563</td>\n",
       "      <td>96.035308</td>\n",
       "    </tr>\n",
       "    <tr>\n",
       "      <th>92341</th>\n",
       "      <td>TtcGQ</td>\n",
       "      <td>0.110711</td>\n",
       "      <td>1.022689</td>\n",
       "      <td>0.911381</td>\n",
       "      <td>101.318008</td>\n",
       "    </tr>\n",
       "    <tr>\n",
       "      <th>60140</th>\n",
       "      <td>TtcGQ</td>\n",
       "      <td>0.569276</td>\n",
       "      <td>-0.104876</td>\n",
       "      <td>6.440215</td>\n",
       "      <td>85.350186</td>\n",
       "    </tr>\n",
       "    <tr>\n",
       "      <th>89582</th>\n",
       "      <td>bsk9y</td>\n",
       "      <td>0.398908</td>\n",
       "      <td>-0.400253</td>\n",
       "      <td>10.122376</td>\n",
       "      <td>163.433078</td>\n",
       "    </tr>\n",
       "    <tr>\n",
       "      <th>97785</th>\n",
       "      <td>bsk9y</td>\n",
       "      <td>0.378429</td>\n",
       "      <td>0.005837</td>\n",
       "      <td>0.160827</td>\n",
       "      <td>160.637302</td>\n",
       "    </tr>\n",
       "    <tr>\n",
       "      <th>41724</th>\n",
       "      <td>bxg6G</td>\n",
       "      <td>-0.823752</td>\n",
       "      <td>0.546319</td>\n",
       "      <td>3.630479</td>\n",
       "      <td>93.007798</td>\n",
       "    </tr>\n",
       "    <tr>\n",
       "      <th>1364</th>\n",
       "      <td>bxg6G</td>\n",
       "      <td>0.411645</td>\n",
       "      <td>0.856830</td>\n",
       "      <td>-3.653440</td>\n",
       "      <td>73.604260</td>\n",
       "    </tr>\n",
       "    <tr>\n",
       "      <th>16633</th>\n",
       "      <td>fiKDv</td>\n",
       "      <td>0.157341</td>\n",
       "      <td>1.028359</td>\n",
       "      <td>5.585586</td>\n",
       "      <td>95.817889</td>\n",
       "    </tr>\n",
       "    <tr>\n",
       "      <th>90815</th>\n",
       "      <td>fiKDv</td>\n",
       "      <td>0.049883</td>\n",
       "      <td>0.841313</td>\n",
       "      <td>6.394613</td>\n",
       "      <td>137.346586</td>\n",
       "    </tr>\n",
       "  </tbody>\n",
       "</table>\n",
       "</div>"
      ],
      "text/plain": [
       "          id        f0        f1         f2     product\n",
       "66136  74z30  1.084962 -0.312358   6.990771  127.643327\n",
       "64022  74z30  0.741456  0.459229   5.153109  140.771492\n",
       "51970  A5aEY -0.180335  0.935548  -2.094773   33.020205\n",
       "3389   A5aEY -0.039949  0.156872   0.209861   89.249364\n",
       "69163  AGS9W -0.933795  0.116194  -3.655896   19.230453\n",
       "42529  AGS9W  1.454747 -0.479651   0.683380  126.370504\n",
       "931    HZww2  0.755284  0.368511   1.863211   30.681774\n",
       "7530   HZww2  1.061194 -0.373969  10.430210  158.828695\n",
       "63593  QcMuo  0.635635 -0.473422   0.862670   64.578675\n",
       "1949   QcMuo  0.506563 -0.323775  -2.215583   75.496502\n",
       "75715  Tdehs  0.112079  0.430296   3.218993   60.964018\n",
       "21426  Tdehs  0.829407  0.298807  -0.049563   96.035308\n",
       "92341  TtcGQ  0.110711  1.022689   0.911381  101.318008\n",
       "60140  TtcGQ  0.569276 -0.104876   6.440215   85.350186\n",
       "89582  bsk9y  0.398908 -0.400253  10.122376  163.433078\n",
       "97785  bsk9y  0.378429  0.005837   0.160827  160.637302\n",
       "41724  bxg6G -0.823752  0.546319   3.630479   93.007798\n",
       "1364   bxg6G  0.411645  0.856830  -3.653440   73.604260\n",
       "16633  fiKDv  0.157341  1.028359   5.585586   95.817889\n",
       "90815  fiKDv  0.049883  0.841313   6.394613  137.346586"
      ]
     },
     "execution_count": 14,
     "metadata": {},
     "output_type": "execute_result"
    }
   ],
   "source": [
    "reg_1[reg_1['id'].map(reg_1['id'].value_counts()) == 2].sort_values(by='id')"
   ]
  },
  {
   "cell_type": "markdown",
   "id": "07f4353d-5b87-42b5-af8c-af205092c4c0",
   "metadata": {},
   "source": [
    "- Дубли id в датасете первого региона расположены хаотично относительно друг друга и не имеют ни чего общего с друг другом, а равно и аномального сами по себе.\n",
    "- Возможная причина дублей - сбой или человеческая ошибка.\n",
    "- Столбец с id нам не понадобится для рассчетов, а сами строки выглядят пригодными, поэтому оставим всё как есть."
   ]
  },
  {
   "cell_type": "code",
   "execution_count": 15,
   "id": "bd931a25-08c0-481b-927e-8c3f44944cdf",
   "metadata": {},
   "outputs": [
    {
     "data": {
      "text/plain": [
       "99996"
      ]
     },
     "execution_count": 15,
     "metadata": {},
     "output_type": "execute_result"
    }
   ],
   "source": [
    "#проверим число уникальных id во втором регионе, чтобы выявить неявные дубликаты\n",
    "reg_2['id'].nunique()"
   ]
  },
  {
   "cell_type": "code",
   "execution_count": 16,
   "id": "d3757e13-f4da-441e-9b68-159e7569d3cc",
   "metadata": {},
   "outputs": [
    {
     "data": {
      "text/plain": [
       "bfPNe    2\n",
       "5ltQ6    2\n",
       "LHZR0    2\n",
       "wt4Uk    2\n",
       "YY7vq    1\n",
       "JczBL    1\n",
       "aPy8f    1\n",
       "tae07    1\n",
       "qHQUO    1\n",
       "Z0QTR    1\n",
       "Name: id, dtype: int64"
      ]
     },
     "execution_count": 16,
     "metadata": {},
     "output_type": "execute_result"
    }
   ],
   "source": [
    "reg_2['id'].value_counts().head(10)"
   ]
  },
  {
   "cell_type": "code",
   "execution_count": 17,
   "id": "83ead2da-0e3b-4269-817d-fa618600f7b1",
   "metadata": {},
   "outputs": [
    {
     "data": {
      "text/html": [
       "<div>\n",
       "<style scoped>\n",
       "    .dataframe tbody tr th:only-of-type {\n",
       "        vertical-align: middle;\n",
       "    }\n",
       "\n",
       "    .dataframe tbody tr th {\n",
       "        vertical-align: top;\n",
       "    }\n",
       "\n",
       "    .dataframe thead th {\n",
       "        text-align: right;\n",
       "    }\n",
       "</style>\n",
       "<table border=\"1\" class=\"dataframe\">\n",
       "  <thead>\n",
       "    <tr style=\"text-align: right;\">\n",
       "      <th></th>\n",
       "      <th>id</th>\n",
       "      <th>f0</th>\n",
       "      <th>f1</th>\n",
       "      <th>f2</th>\n",
       "      <th>product</th>\n",
       "    </tr>\n",
       "  </thead>\n",
       "  <tbody>\n",
       "    <tr>\n",
       "      <th>5849</th>\n",
       "      <td>5ltQ6</td>\n",
       "      <td>-3.435401</td>\n",
       "      <td>-12.296043</td>\n",
       "      <td>1.999796</td>\n",
       "      <td>57.085625</td>\n",
       "    </tr>\n",
       "    <tr>\n",
       "      <th>84461</th>\n",
       "      <td>5ltQ6</td>\n",
       "      <td>18.213839</td>\n",
       "      <td>2.191999</td>\n",
       "      <td>3.993869</td>\n",
       "      <td>107.813044</td>\n",
       "    </tr>\n",
       "    <tr>\n",
       "      <th>1305</th>\n",
       "      <td>LHZR0</td>\n",
       "      <td>11.170835</td>\n",
       "      <td>-1.945066</td>\n",
       "      <td>3.002872</td>\n",
       "      <td>80.859783</td>\n",
       "    </tr>\n",
       "    <tr>\n",
       "      <th>41906</th>\n",
       "      <td>LHZR0</td>\n",
       "      <td>-8.989672</td>\n",
       "      <td>-4.286607</td>\n",
       "      <td>2.009139</td>\n",
       "      <td>57.085625</td>\n",
       "    </tr>\n",
       "    <tr>\n",
       "      <th>2721</th>\n",
       "      <td>bfPNe</td>\n",
       "      <td>-9.494442</td>\n",
       "      <td>-5.463692</td>\n",
       "      <td>4.006042</td>\n",
       "      <td>110.992147</td>\n",
       "    </tr>\n",
       "    <tr>\n",
       "      <th>82178</th>\n",
       "      <td>bfPNe</td>\n",
       "      <td>-6.202799</td>\n",
       "      <td>-4.820045</td>\n",
       "      <td>2.995107</td>\n",
       "      <td>84.038886</td>\n",
       "    </tr>\n",
       "    <tr>\n",
       "      <th>47591</th>\n",
       "      <td>wt4Uk</td>\n",
       "      <td>-9.091098</td>\n",
       "      <td>-8.109279</td>\n",
       "      <td>-0.002314</td>\n",
       "      <td>3.179103</td>\n",
       "    </tr>\n",
       "    <tr>\n",
       "      <th>82873</th>\n",
       "      <td>wt4Uk</td>\n",
       "      <td>10.259972</td>\n",
       "      <td>-9.376355</td>\n",
       "      <td>4.994297</td>\n",
       "      <td>134.766305</td>\n",
       "    </tr>\n",
       "  </tbody>\n",
       "</table>\n",
       "</div>"
      ],
      "text/plain": [
       "          id         f0         f1        f2     product\n",
       "5849   5ltQ6  -3.435401 -12.296043  1.999796   57.085625\n",
       "84461  5ltQ6  18.213839   2.191999  3.993869  107.813044\n",
       "1305   LHZR0  11.170835  -1.945066  3.002872   80.859783\n",
       "41906  LHZR0  -8.989672  -4.286607  2.009139   57.085625\n",
       "2721   bfPNe  -9.494442  -5.463692  4.006042  110.992147\n",
       "82178  bfPNe  -6.202799  -4.820045  2.995107   84.038886\n",
       "47591  wt4Uk  -9.091098  -8.109279 -0.002314    3.179103\n",
       "82873  wt4Uk  10.259972  -9.376355  4.994297  134.766305"
      ]
     },
     "execution_count": 17,
     "metadata": {},
     "output_type": "execute_result"
    }
   ],
   "source": [
    "reg_2[reg_2['id'].map(reg_2['id'].value_counts()) == 2].sort_values(by='id')"
   ]
  },
  {
   "cell_type": "markdown",
   "id": "79b09e47-5acc-4369-aedd-497ee3bab251",
   "metadata": {},
   "source": [
    "- Ситуация та же, что и с датасетом в первом регионе.\n",
    "- Поступим так же - оставим всё, как есть."
   ]
  },
  {
   "cell_type": "code",
   "execution_count": 18,
   "id": "1830c79c-d25b-423f-b29c-137f1806b7e9",
   "metadata": {},
   "outputs": [
    {
     "data": {
      "text/plain": [
       "99996"
      ]
     },
     "execution_count": 18,
     "metadata": {},
     "output_type": "execute_result"
    }
   ],
   "source": [
    "#проверим число уникальных id в третьем регионе, чтобы выявить неявные дубликаты\n",
    "reg_3['id'].nunique()"
   ]
  },
  {
   "cell_type": "code",
   "execution_count": 19,
   "id": "0d43cb66-0d7a-4552-9e8c-1e52a5f484f8",
   "metadata": {},
   "outputs": [
    {
     "data": {
      "text/plain": [
       "xCHr8    2\n",
       "KUPhW    2\n",
       "VF7Jo    2\n",
       "Vcm5J    2\n",
       "AQF9d    1\n",
       "4JGQt    1\n",
       "Bu9wj    1\n",
       "X6t6l    1\n",
       "ZnVQM    1\n",
       "WA0Ri    1\n",
       "Name: id, dtype: int64"
      ]
     },
     "execution_count": 19,
     "metadata": {},
     "output_type": "execute_result"
    }
   ],
   "source": [
    "reg_3['id'].value_counts().head(10)"
   ]
  },
  {
   "cell_type": "code",
   "execution_count": 20,
   "id": "298198e8-3882-4d0d-a807-a71b4f4c24e5",
   "metadata": {},
   "outputs": [
    {
     "data": {
      "text/html": [
       "<div>\n",
       "<style scoped>\n",
       "    .dataframe tbody tr th:only-of-type {\n",
       "        vertical-align: middle;\n",
       "    }\n",
       "\n",
       "    .dataframe tbody tr th {\n",
       "        vertical-align: top;\n",
       "    }\n",
       "\n",
       "    .dataframe thead th {\n",
       "        text-align: right;\n",
       "    }\n",
       "</style>\n",
       "<table border=\"1\" class=\"dataframe\">\n",
       "  <thead>\n",
       "    <tr style=\"text-align: right;\">\n",
       "      <th></th>\n",
       "      <th>id</th>\n",
       "      <th>f0</th>\n",
       "      <th>f1</th>\n",
       "      <th>f2</th>\n",
       "      <th>product</th>\n",
       "    </tr>\n",
       "  </thead>\n",
       "  <tbody>\n",
       "    <tr>\n",
       "      <th>45404</th>\n",
       "      <td>KUPhW</td>\n",
       "      <td>0.231846</td>\n",
       "      <td>-1.698941</td>\n",
       "      <td>4.990775</td>\n",
       "      <td>11.716299</td>\n",
       "    </tr>\n",
       "    <tr>\n",
       "      <th>55967</th>\n",
       "      <td>KUPhW</td>\n",
       "      <td>1.211150</td>\n",
       "      <td>3.176408</td>\n",
       "      <td>5.543540</td>\n",
       "      <td>132.831802</td>\n",
       "    </tr>\n",
       "    <tr>\n",
       "      <th>11449</th>\n",
       "      <td>VF7Jo</td>\n",
       "      <td>2.122656</td>\n",
       "      <td>-0.858275</td>\n",
       "      <td>5.746001</td>\n",
       "      <td>181.716817</td>\n",
       "    </tr>\n",
       "    <tr>\n",
       "      <th>49564</th>\n",
       "      <td>VF7Jo</td>\n",
       "      <td>-0.883115</td>\n",
       "      <td>0.560537</td>\n",
       "      <td>0.723601</td>\n",
       "      <td>136.233420</td>\n",
       "    </tr>\n",
       "    <tr>\n",
       "      <th>44378</th>\n",
       "      <td>Vcm5J</td>\n",
       "      <td>-1.229484</td>\n",
       "      <td>-2.439204</td>\n",
       "      <td>1.222909</td>\n",
       "      <td>137.968290</td>\n",
       "    </tr>\n",
       "    <tr>\n",
       "      <th>95090</th>\n",
       "      <td>Vcm5J</td>\n",
       "      <td>2.587702</td>\n",
       "      <td>1.986875</td>\n",
       "      <td>2.482245</td>\n",
       "      <td>92.327572</td>\n",
       "    </tr>\n",
       "    <tr>\n",
       "      <th>28039</th>\n",
       "      <td>xCHr8</td>\n",
       "      <td>1.633027</td>\n",
       "      <td>0.368135</td>\n",
       "      <td>-2.378367</td>\n",
       "      <td>6.120525</td>\n",
       "    </tr>\n",
       "    <tr>\n",
       "      <th>43233</th>\n",
       "      <td>xCHr8</td>\n",
       "      <td>-0.847066</td>\n",
       "      <td>2.101796</td>\n",
       "      <td>5.597130</td>\n",
       "      <td>184.388641</td>\n",
       "    </tr>\n",
       "  </tbody>\n",
       "</table>\n",
       "</div>"
      ],
      "text/plain": [
       "          id        f0        f1        f2     product\n",
       "45404  KUPhW  0.231846 -1.698941  4.990775   11.716299\n",
       "55967  KUPhW  1.211150  3.176408  5.543540  132.831802\n",
       "11449  VF7Jo  2.122656 -0.858275  5.746001  181.716817\n",
       "49564  VF7Jo -0.883115  0.560537  0.723601  136.233420\n",
       "44378  Vcm5J -1.229484 -2.439204  1.222909  137.968290\n",
       "95090  Vcm5J  2.587702  1.986875  2.482245   92.327572\n",
       "28039  xCHr8  1.633027  0.368135 -2.378367    6.120525\n",
       "43233  xCHr8 -0.847066  2.101796  5.597130  184.388641"
      ]
     },
     "execution_count": 20,
     "metadata": {},
     "output_type": "execute_result"
    }
   ],
   "source": [
    "reg_3[reg_3['id'].map(reg_3['id'].value_counts()) == 2].sort_values(by='id')"
   ]
  },
  {
   "cell_type": "markdown",
   "id": "c0cd0a02-a699-4203-b7f0-3d2de4ccd480",
   "metadata": {},
   "source": [
    "- Ситуация та же, что и с датасетом в первом регионе.\n",
    "- Поступим так же - оставим всё, как есть."
   ]
  },
  {
   "cell_type": "markdown",
   "id": "07554e77-bf55-4872-abef-670e81950f50",
   "metadata": {},
   "source": [
    "### Выводы по предобработке данных "
   ]
  },
  {
   "cell_type": "markdown",
   "id": "08e11b81-f12e-48cb-8175-fe718b046547",
   "metadata": {},
   "source": [
    "**reg_1**: данные по скважинам первого региона\n",
    "\n",
    "- Названия столбцов ок.\n",
    "- Тип данных верный.\n",
    "- Пропущенных значений нет.\n",
    "- Основные статистики выглядят адекватно, насколько возможно судить по цифрам без контекста.\n",
    "- Явных дубликатов нет.\n",
    "- Дубликаты в столбце id есть в кол-ве 10 штук, но обусловлены ошибкой. Сами строки-дубликаты выглядят нормально и не схожи между собой, поэтому ошибка вероятнее всего в id. Т.к. id использоваться не будет, строки оставили.\n",
    "______\n",
    "\n",
    "**reg_2**: данные по скважинам второго региона\n",
    "\n",
    "- Названия столбцов ок.\n",
    "- Тип данных верный.\n",
    "- Пропущенных значений нет.\n",
    "- Основные статистики выглядят сильно отличающимися от первого и третьего региона.\n",
    "- Явных дубликатов нет.\n",
    "- Дубликаты в столбце id есть в кол-ве 4 штук, но обусловлены ошибкой. Сами строки-дубликаты выглядят нормально и не схожи между собой, поэтому ошибка вероятнее всего в id. Т.к. id использоваться не будет, строки оставили.\n",
    "______\n",
    "\n",
    "**reg_3**: данные по скважинам третьего региона\n",
    "\n",
    "- Названия столбцов ок.\n",
    "- Тип данных верный.\n",
    "- Пропущенных значений нет.\n",
    "- Основные статистики выглядят адекватно, насколько возможно судить по цифрам без контекста.\n",
    "- Явных дубликатов нет.\n",
    "- Дубликаты в столбце id есть в кол-ве 4 штук, но обусловлены ошибкой. Сами строки-дубликаты выглядят нормально и не схожи между собой, поэтому ошибка вероятнее всего в id. Т.к. id использоваться не будет, строки оставили."
   ]
  },
  {
   "cell_type": "markdown",
   "id": "616e4b23-4b39-49e7-bc27-a04dea0dc3a6",
   "metadata": {},
   "source": [
    "##  Исследовательский анализ данных"
   ]
  },
  {
   "cell_type": "markdown",
   "id": "34a0ad69-4efb-4d91-b4cf-04cf408fbe83",
   "metadata": {},
   "source": [
    "- Т.к. у нас нет понимания сути признаков и какого-либо контекста, мы будем проводить визуальный анализ не по регионам, а по признакам - чтобы иметь хоть какой-то контекст и представление о норме.\n",
    "- Строить будем отдельные графики, чтобы они оставались читаемыми, несмотря на разные формы распределений из-за разницы диапазонов (см. статистики)."
   ]
  },
  {
   "cell_type": "markdown",
   "id": "a1219e14-9da5-46a0-bcfb-4b19b44b3f03",
   "metadata": {},
   "source": [
    "### Анализ признака f0"
   ]
  },
  {
   "cell_type": "code",
   "execution_count": 21,
   "id": "de7e3ae8-a511-4945-8900-b2bf121d56ee",
   "metadata": {},
   "outputs": [
    {
     "data": {
      "image/png": "[encoded data removed]",
      "text/plain": [
       "<Figure size 1500x500 with 2 Axes>"
      ]
     },
     "metadata": {},
     "output_type": "display_data"
    }
   ],
   "source": [
    "hist_and_box_chart(reg_1, 'f0', 'Распределение показателя f0 в первом регионе', 'Число скважин', 'Значение f0', 50)"
   ]
  },
  {
   "cell_type": "code",
   "execution_count": 22,
   "id": "3d262b8f-91d1-45b7-aa38-4a4b5f6b2093",
   "metadata": {},
   "outputs": [
    {
     "data": {
      "image/png": "[encoded data removed]",
      "text/plain": [
       "<Figure size 1500x500 with 2 Axes>"
      ]
     },
     "metadata": {},
     "output_type": "display_data"
    }
   ],
   "source": [
    "hist_and_box_chart(reg_2, 'f0', 'Распределение показателя f0 во втором регионе', 'Число скважин', 'Значение f0', 50)"
   ]
  },
  {
   "cell_type": "code",
   "execution_count": 23,
   "id": "b626cbf9-0fcb-43d7-9781-016d3cb967fe",
   "metadata": {},
   "outputs": [
    {
     "data": {
      "image/png": "[encoded data removed]",
      "text/plain": [
       "<Figure size 1500x500 with 2 Axes>"
      ]
     },
     "metadata": {},
     "output_type": "display_data"
    }
   ],
   "source": [
    "hist_and_box_chart(reg_3, 'f0', 'Распределение показателя f0 в третьем регионе', 'Число скважин', 'Значение f0', 50)"
   ]
  },
  {
   "cell_type": "markdown",
   "id": "d224c846-5ce4-4e59-bf7a-62412de1ecec",
   "metadata": {},
   "source": [
    "- Все три распределения разные: по форме и диапазонам, хотя при этом имеют схожие средние значения - 0.5, 1.15 и 0.\n",
    "- Распределение данных в регионе один имеет два больших пика ближе к центру гистограммы и два поменьше по краям. При этом общий диапазон самый компактный, от -1.5 до 2.5.\n",
    "- Распределение данных в во втором регионе имеет два пика вокруг небольшого провала в области среднего, а по краям плавно нисходит от двух пиков. Очень большой диапазон значений от -30 до 30. Имееются единичные выбросы в области очень низких значений.\n",
    "- Распределение данных в третьем регионе имеет форму, похожую на нормальное распределение. Диапазон умеренный, от -8 до 8. Имеется большое число выбросов в обе стороны, но ввиду их количества и контекста данных во втором регионе, скорее всего значения более чем ок."
   ]
  },
  {
   "cell_type": "markdown",
   "id": "45867aa4-ba34-44d8-872b-bc055c697110",
   "metadata": {},
   "source": [
    "### Анализ признака f1"
   ]
  },
  {
   "cell_type": "code",
   "execution_count": 24,
   "id": "bd745783-3bb0-4db5-a916-ebd84f278f00",
   "metadata": {},
   "outputs": [
    {
     "data": {
      "image/png": "[encoded data removed]",
      "text/plain": [
       "<Figure size 1500x500 with 2 Axes>"
      ]
     },
     "metadata": {},
     "output_type": "display_data"
    }
   ],
   "source": [
    "hist_and_box_chart(reg_1, 'f1', 'Распределение показателя f1 в первом регионе', 'Число скважин', 'Значение f1', 50)"
   ]
  },
  {
   "cell_type": "code",
   "execution_count": 25,
   "id": "b9c6ad3a-77fa-4193-9038-82c632cca8dd",
   "metadata": {},
   "outputs": [
    {
     "data": {
      "image/png": "[encoded data removed]",
      "text/plain": [
       "<Figure size 1500x500 with 2 Axes>"
      ]
     },
     "metadata": {},
     "output_type": "display_data"
    }
   ],
   "source": [
    "hist_and_box_chart(reg_2, 'f1', 'Распределение показателя f1 во втором регионе', 'Число скважин', 'Значение f1', 50)"
   ]
  },
  {
   "cell_type": "code",
   "execution_count": 26,
   "id": "e4c6a7bf-59f8-4e60-bbcb-7794f9179c4d",
   "metadata": {},
   "outputs": [
    {
     "data": {
      "text/html": [
       "<div>\n",
       "<style scoped>\n",
       "    .dataframe tbody tr th:only-of-type {\n",
       "        vertical-align: middle;\n",
       "    }\n",
       "\n",
       "    .dataframe tbody tr th {\n",
       "        vertical-align: top;\n",
       "    }\n",
       "\n",
       "    .dataframe thead th {\n",
       "        text-align: right;\n",
       "    }\n",
       "</style>\n",
       "<table border=\"1\" class=\"dataframe\">\n",
       "  <thead>\n",
       "    <tr style=\"text-align: right;\">\n",
       "      <th></th>\n",
       "      <th>id</th>\n",
       "      <th>f0</th>\n",
       "      <th>f1</th>\n",
       "      <th>f2</th>\n",
       "      <th>product</th>\n",
       "    </tr>\n",
       "  </thead>\n",
       "  <tbody>\n",
       "    <tr>\n",
       "      <th>41</th>\n",
       "      <td>GrqpD</td>\n",
       "      <td>-4.758592</td>\n",
       "      <td>-18.409826</td>\n",
       "      <td>3.007507</td>\n",
       "      <td>84.038886</td>\n",
       "    </tr>\n",
       "    <tr>\n",
       "      <th>192</th>\n",
       "      <td>GxTGL</td>\n",
       "      <td>6.873130</td>\n",
       "      <td>9.546176</td>\n",
       "      <td>3.998873</td>\n",
       "      <td>107.813044</td>\n",
       "    </tr>\n",
       "    <tr>\n",
       "      <th>252</th>\n",
       "      <td>IfDKr</td>\n",
       "      <td>8.105284</td>\n",
       "      <td>10.427709</td>\n",
       "      <td>1.001737</td>\n",
       "      <td>26.953261</td>\n",
       "    </tr>\n",
       "    <tr>\n",
       "      <th>304</th>\n",
       "      <td>6QCCp</td>\n",
       "      <td>1.361165</td>\n",
       "      <td>10.031704</td>\n",
       "      <td>1.001664</td>\n",
       "      <td>26.953261</td>\n",
       "    </tr>\n",
       "    <tr>\n",
       "      <th>512</th>\n",
       "      <td>9HrqR</td>\n",
       "      <td>-1.887944</td>\n",
       "      <td>9.327144</td>\n",
       "      <td>4.004213</td>\n",
       "      <td>110.992147</td>\n",
       "    </tr>\n",
       "    <tr>\n",
       "      <th>...</th>\n",
       "      <td>...</td>\n",
       "      <td>...</td>\n",
       "      <td>...</td>\n",
       "      <td>...</td>\n",
       "      <td>...</td>\n",
       "    </tr>\n",
       "    <tr>\n",
       "      <th>99250</th>\n",
       "      <td>HUG7q</td>\n",
       "      <td>-11.310991</td>\n",
       "      <td>-22.335672</td>\n",
       "      <td>4.003400</td>\n",
       "      <td>110.992147</td>\n",
       "    </tr>\n",
       "    <tr>\n",
       "      <th>99336</th>\n",
       "      <td>oJRv2</td>\n",
       "      <td>-2.898923</td>\n",
       "      <td>-18.485769</td>\n",
       "      <td>-0.000160</td>\n",
       "      <td>3.179103</td>\n",
       "    </tr>\n",
       "    <tr>\n",
       "      <th>99349</th>\n",
       "      <td>DDFNm</td>\n",
       "      <td>-4.506281</td>\n",
       "      <td>11.551203</td>\n",
       "      <td>5.001728</td>\n",
       "      <td>137.945408</td>\n",
       "    </tr>\n",
       "    <tr>\n",
       "      <th>99469</th>\n",
       "      <td>uT90b</td>\n",
       "      <td>-4.195565</td>\n",
       "      <td>-18.547602</td>\n",
       "      <td>4.004528</td>\n",
       "      <td>110.992147</td>\n",
       "    </tr>\n",
       "    <tr>\n",
       "      <th>99803</th>\n",
       "      <td>xXL4t</td>\n",
       "      <td>5.146503</td>\n",
       "      <td>9.630315</td>\n",
       "      <td>4.999050</td>\n",
       "      <td>134.766305</td>\n",
       "    </tr>\n",
       "  </tbody>\n",
       "</table>\n",
       "<p>806 rows × 5 columns</p>\n",
       "</div>"
      ],
      "text/plain": [
       "          id         f0         f1        f2     product\n",
       "41     GrqpD  -4.758592 -18.409826  3.007507   84.038886\n",
       "192    GxTGL   6.873130   9.546176  3.998873  107.813044\n",
       "252    IfDKr   8.105284  10.427709  1.001737   26.953261\n",
       "304    6QCCp   1.361165  10.031704  1.001664   26.953261\n",
       "512    9HrqR  -1.887944   9.327144  4.004213  110.992147\n",
       "...      ...        ...        ...       ...         ...\n",
       "99250  HUG7q -11.310991 -22.335672  4.003400  110.992147\n",
       "99336  oJRv2  -2.898923 -18.485769 -0.000160    3.179103\n",
       "99349  DDFNm  -4.506281  11.551203  5.001728  137.945408\n",
       "99469  uT90b  -4.195565 -18.547602  4.004528  110.992147\n",
       "99803  xXL4t   5.146503   9.630315  4.999050  134.766305\n",
       "\n",
       "[806 rows x 5 columns]"
      ]
     },
     "execution_count": 26,
     "metadata": {},
     "output_type": "execute_result"
    }
   ],
   "source": [
    "reg_2.query('(f1 < -18) | (f1 > 9)')"
   ]
  },
  {
   "cell_type": "code",
   "execution_count": 27,
   "id": "26e97cc5-3fb3-4e06-b8f4-ba3d6ad48339",
   "metadata": {},
   "outputs": [
    {
     "data": {
      "image/png": "[encoded data removed]",
      "text/plain": [
       "<Figure size 1500x500 with 2 Axes>"
      ]
     },
     "metadata": {},
     "output_type": "display_data"
    }
   ],
   "source": [
    "hist_and_box_chart(reg_3, 'f1', 'Распределение показателя f1 в третьем регионе', 'Число скважин', 'Значение f1', 50)"
   ]
  },
  {
   "cell_type": "code",
   "execution_count": 28,
   "id": "de7af328-9af0-42b2-84cd-fc33bcdb587a",
   "metadata": {},
   "outputs": [
    {
     "data": {
      "text/html": [
       "<div>\n",
       "<style scoped>\n",
       "    .dataframe tbody tr th:only-of-type {\n",
       "        vertical-align: middle;\n",
       "    }\n",
       "\n",
       "    .dataframe tbody tr th {\n",
       "        vertical-align: top;\n",
       "    }\n",
       "\n",
       "    .dataframe thead th {\n",
       "        text-align: right;\n",
       "    }\n",
       "</style>\n",
       "<table border=\"1\" class=\"dataframe\">\n",
       "  <thead>\n",
       "    <tr style=\"text-align: right;\">\n",
       "      <th></th>\n",
       "      <th>id</th>\n",
       "      <th>f0</th>\n",
       "      <th>f1</th>\n",
       "      <th>f2</th>\n",
       "      <th>product</th>\n",
       "    </tr>\n",
       "  </thead>\n",
       "  <tbody>\n",
       "    <tr>\n",
       "      <th>110</th>\n",
       "      <td>ByiA5</td>\n",
       "      <td>0.194230</td>\n",
       "      <td>-5.429406</td>\n",
       "      <td>8.430379</td>\n",
       "      <td>150.744572</td>\n",
       "    </tr>\n",
       "    <tr>\n",
       "      <th>279</th>\n",
       "      <td>lZsKI</td>\n",
       "      <td>-1.009853</td>\n",
       "      <td>4.592661</td>\n",
       "      <td>0.942551</td>\n",
       "      <td>54.416996</td>\n",
       "    </tr>\n",
       "    <tr>\n",
       "      <th>304</th>\n",
       "      <td>JPo2O</td>\n",
       "      <td>-2.658937</td>\n",
       "      <td>5.655811</td>\n",
       "      <td>2.218928</td>\n",
       "      <td>141.726290</td>\n",
       "    </tr>\n",
       "    <tr>\n",
       "      <th>314</th>\n",
       "      <td>LIwmP</td>\n",
       "      <td>0.577238</td>\n",
       "      <td>5.389690</td>\n",
       "      <td>-0.458313</td>\n",
       "      <td>140.980012</td>\n",
       "    </tr>\n",
       "    <tr>\n",
       "      <th>322</th>\n",
       "      <td>Wci7T</td>\n",
       "      <td>-2.537793</td>\n",
       "      <td>4.515745</td>\n",
       "      <td>-3.740523</td>\n",
       "      <td>105.275686</td>\n",
       "    </tr>\n",
       "    <tr>\n",
       "      <th>...</th>\n",
       "      <td>...</td>\n",
       "      <td>...</td>\n",
       "      <td>...</td>\n",
       "      <td>...</td>\n",
       "      <td>...</td>\n",
       "    </tr>\n",
       "    <tr>\n",
       "      <th>99233</th>\n",
       "      <td>FvfPt</td>\n",
       "      <td>1.530457</td>\n",
       "      <td>4.844400</td>\n",
       "      <td>2.421428</td>\n",
       "      <td>126.567042</td>\n",
       "    </tr>\n",
       "    <tr>\n",
       "      <th>99393</th>\n",
       "      <td>sdBoZ</td>\n",
       "      <td>0.486805</td>\n",
       "      <td>-5.201983</td>\n",
       "      <td>-2.235533</td>\n",
       "      <td>116.155874</td>\n",
       "    </tr>\n",
       "    <tr>\n",
       "      <th>99648</th>\n",
       "      <td>PNuY1</td>\n",
       "      <td>0.973961</td>\n",
       "      <td>5.148257</td>\n",
       "      <td>5.521346</td>\n",
       "      <td>162.870545</td>\n",
       "    </tr>\n",
       "    <tr>\n",
       "      <th>99714</th>\n",
       "      <td>NhiMu</td>\n",
       "      <td>0.923716</td>\n",
       "      <td>5.619497</td>\n",
       "      <td>-0.329068</td>\n",
       "      <td>147.824016</td>\n",
       "    </tr>\n",
       "    <tr>\n",
       "      <th>99941</th>\n",
       "      <td>htDqL</td>\n",
       "      <td>-2.228601</td>\n",
       "      <td>-6.054759</td>\n",
       "      <td>1.034860</td>\n",
       "      <td>79.930608</td>\n",
       "    </tr>\n",
       "  </tbody>\n",
       "</table>\n",
       "<p>914 rows × 5 columns</p>\n",
       "</div>"
      ],
      "text/plain": [
       "          id        f0        f1        f2     product\n",
       "110    ByiA5  0.194230 -5.429406  8.430379  150.744572\n",
       "279    lZsKI -1.009853  4.592661  0.942551   54.416996\n",
       "304    JPo2O -2.658937  5.655811  2.218928  141.726290\n",
       "314    LIwmP  0.577238  5.389690 -0.458313  140.980012\n",
       "322    Wci7T -2.537793  4.515745 -3.740523  105.275686\n",
       "...      ...       ...       ...       ...         ...\n",
       "99233  FvfPt  1.530457  4.844400  2.421428  126.567042\n",
       "99393  sdBoZ  0.486805 -5.201983 -2.235533  116.155874\n",
       "99648  PNuY1  0.973961  5.148257  5.521346  162.870545\n",
       "99714  NhiMu  0.923716  5.619497 -0.329068  147.824016\n",
       "99941  htDqL -2.228601 -6.054759  1.034860   79.930608\n",
       "\n",
       "[914 rows x 5 columns]"
      ]
     },
     "execution_count": 28,
     "metadata": {},
     "output_type": "execute_result"
    }
   ],
   "source": [
    "reg_3.query('(f1 < -4.5) | (f1 > 4.5)')"
   ]
  },
  {
   "cell_type": "markdown",
   "id": "dd9ed506-70df-4828-a64e-371eaaba87f1",
   "metadata": {},
   "source": [
    "- Все три распределения разные: по форме, диапазону, средним значениям.\n",
    "- Первый регион имеет очень компактный диапазон значений и достаточно равномерное распределение данных в рамках дипазона (с небольшими пиками). Выбросов нет. Среднее равно 0.25.\n",
    "- Второй регион имеет самый большой диапазон значений с распределением, похожим на нормальное. Есть выбросы в обе стороны, но их число указывает скорее на то, что в ряде ситуации такие показатели ок. Среднее равно -4.8\n",
    "- Третий регион имеет умеренный разброс и распределение, похожее на нормальное. Ситуация с выбросами - как во втором регионе: много в обе стороны, так что, скорее всего, это допустимые значения. Среднее похоже на первый регион - 0. "
   ]
  },
  {
   "cell_type": "markdown",
   "id": "652f822b-078e-4078-ac14-9d423f25e4b8",
   "metadata": {},
   "source": [
    "### Анализ признака f2"
   ]
  },
  {
   "cell_type": "code",
   "execution_count": 29,
   "id": "ac8b47f2-2c2b-4d42-85de-84965e411b9e",
   "metadata": {},
   "outputs": [
    {
     "data": {
      "image/png": "[encoded data removed]",
      "text/plain": [
       "<Figure size 1500x500 with 2 Axes>"
      ]
     },
     "metadata": {},
     "output_type": "display_data"
    }
   ],
   "source": [
    "hist_and_box_chart(reg_1, 'f2', 'Распределение показателя f2 в первом регионе', 'Число скважин', 'Значение f2', 50)"
   ]
  },
  {
   "cell_type": "code",
   "execution_count": 30,
   "id": "75013730-89af-48cf-9ee9-ef37303c71de",
   "metadata": {},
   "outputs": [
    {
     "data": {
      "text/html": [
       "<div>\n",
       "<style scoped>\n",
       "    .dataframe tbody tr th:only-of-type {\n",
       "        vertical-align: middle;\n",
       "    }\n",
       "\n",
       "    .dataframe tbody tr th {\n",
       "        vertical-align: top;\n",
       "    }\n",
       "\n",
       "    .dataframe thead th {\n",
       "        text-align: right;\n",
       "    }\n",
       "</style>\n",
       "<table border=\"1\" class=\"dataframe\">\n",
       "  <thead>\n",
       "    <tr style=\"text-align: right;\">\n",
       "      <th></th>\n",
       "      <th>id</th>\n",
       "      <th>f0</th>\n",
       "      <th>f1</th>\n",
       "      <th>f2</th>\n",
       "      <th>product</th>\n",
       "    </tr>\n",
       "  </thead>\n",
       "  <tbody>\n",
       "    <tr>\n",
       "      <th>131</th>\n",
       "      <td>hGDMF</td>\n",
       "      <td>-0.749902</td>\n",
       "      <td>0.654446</td>\n",
       "      <td>13.339420</td>\n",
       "      <td>130.648792</td>\n",
       "    </tr>\n",
       "    <tr>\n",
       "      <th>232</th>\n",
       "      <td>91Tg4</td>\n",
       "      <td>-0.403666</td>\n",
       "      <td>0.805531</td>\n",
       "      <td>-8.869885</td>\n",
       "      <td>46.546824</td>\n",
       "    </tr>\n",
       "    <tr>\n",
       "      <th>432</th>\n",
       "      <td>UAuJY</td>\n",
       "      <td>0.035181</td>\n",
       "      <td>0.999353</td>\n",
       "      <td>-6.159297</td>\n",
       "      <td>30.207315</td>\n",
       "    </tr>\n",
       "    <tr>\n",
       "      <th>457</th>\n",
       "      <td>RQPXf</td>\n",
       "      <td>0.099673</td>\n",
       "      <td>0.134502</td>\n",
       "      <td>-6.322886</td>\n",
       "      <td>88.248664</td>\n",
       "    </tr>\n",
       "    <tr>\n",
       "      <th>829</th>\n",
       "      <td>lOXZ8</td>\n",
       "      <td>0.924403</td>\n",
       "      <td>-0.032851</td>\n",
       "      <td>-6.080357</td>\n",
       "      <td>35.144155</td>\n",
       "    </tr>\n",
       "    <tr>\n",
       "      <th>...</th>\n",
       "      <td>...</td>\n",
       "      <td>...</td>\n",
       "      <td>...</td>\n",
       "      <td>...</td>\n",
       "      <td>...</td>\n",
       "    </tr>\n",
       "    <tr>\n",
       "      <th>99291</th>\n",
       "      <td>IAJQH</td>\n",
       "      <td>1.193736</td>\n",
       "      <td>-0.385367</td>\n",
       "      <td>-7.155326</td>\n",
       "      <td>106.118759</td>\n",
       "    </tr>\n",
       "    <tr>\n",
       "      <th>99388</th>\n",
       "      <td>Iias4</td>\n",
       "      <td>0.297242</td>\n",
       "      <td>-0.454613</td>\n",
       "      <td>11.534827</td>\n",
       "      <td>162.690385</td>\n",
       "    </tr>\n",
       "    <tr>\n",
       "      <th>99399</th>\n",
       "      <td>TePsR</td>\n",
       "      <td>0.651008</td>\n",
       "      <td>0.791712</td>\n",
       "      <td>11.682042</td>\n",
       "      <td>151.009229</td>\n",
       "    </tr>\n",
       "    <tr>\n",
       "      <th>99628</th>\n",
       "      <td>OEDcT</td>\n",
       "      <td>1.238443</td>\n",
       "      <td>-0.511931</td>\n",
       "      <td>12.585500</td>\n",
       "      <td>173.612787</td>\n",
       "    </tr>\n",
       "    <tr>\n",
       "      <th>99888</th>\n",
       "      <td>I4VmF</td>\n",
       "      <td>0.000008</td>\n",
       "      <td>0.278198</td>\n",
       "      <td>11.710431</td>\n",
       "      <td>154.037427</td>\n",
       "    </tr>\n",
       "  </tbody>\n",
       "</table>\n",
       "<p>751 rows × 5 columns</p>\n",
       "</div>"
      ],
      "text/plain": [
       "          id        f0        f1         f2     product\n",
       "131    hGDMF -0.749902  0.654446  13.339420  130.648792\n",
       "232    91Tg4 -0.403666  0.805531  -8.869885   46.546824\n",
       "432    UAuJY  0.035181  0.999353  -6.159297   30.207315\n",
       "457    RQPXf  0.099673  0.134502  -6.322886   88.248664\n",
       "829    lOXZ8  0.924403 -0.032851  -6.080357   35.144155\n",
       "...      ...       ...       ...        ...         ...\n",
       "99291  IAJQH  1.193736 -0.385367  -7.155326  106.118759\n",
       "99388  Iias4  0.297242 -0.454613  11.534827  162.690385\n",
       "99399  TePsR  0.651008  0.791712  11.682042  151.009229\n",
       "99628  OEDcT  1.238443 -0.511931  12.585500  173.612787\n",
       "99888  I4VmF  0.000008  0.278198  11.710431  154.037427\n",
       "\n",
       "[751 rows x 5 columns]"
      ]
     },
     "execution_count": 30,
     "metadata": {},
     "output_type": "execute_result"
    }
   ],
   "source": [
    "reg_1.query('(f2 < -6) | (f2 > 11)')"
   ]
  },
  {
   "cell_type": "code",
   "execution_count": 31,
   "id": "b95fcb5c-052a-47bc-8bad-d603ebb5d6c1",
   "metadata": {},
   "outputs": [
    {
     "data": {
      "image/png": "[encoded data removed]",
      "text/plain": [
       "<Figure size 1500x500 with 2 Axes>"
      ]
     },
     "metadata": {},
     "output_type": "display_data"
    }
   ],
   "source": [
    "hist_and_box_chart(reg_2, 'f2', 'Распределение показателя f2 во втором регионе', 'Число скважин', 'Значение f2', 50)"
   ]
  },
  {
   "cell_type": "code",
   "execution_count": 32,
   "id": "a69c2ac9-035c-4d18-9323-2bc5eae44576",
   "metadata": {},
   "outputs": [
    {
     "data": {
      "image/png": "[encoded data removed]",
      "text/plain": [
       "<Figure size 1500x500 with 2 Axes>"
      ]
     },
     "metadata": {},
     "output_type": "display_data"
    }
   ],
   "source": [
    "hist_and_box_chart(reg_3, 'f2', 'Распределение показателя f2 в третьем регионе', 'Число скважин', 'Значение f2', 50)"
   ]
  },
  {
   "cell_type": "code",
   "execution_count": 33,
   "id": "ee62e461-ddeb-4818-a6cd-9e19b2d26862",
   "metadata": {},
   "outputs": [
    {
     "data": {
      "text/html": [
       "<div>\n",
       "<style scoped>\n",
       "    .dataframe tbody tr th:only-of-type {\n",
       "        vertical-align: middle;\n",
       "    }\n",
       "\n",
       "    .dataframe tbody tr th {\n",
       "        vertical-align: top;\n",
       "    }\n",
       "\n",
       "    .dataframe thead th {\n",
       "        text-align: right;\n",
       "    }\n",
       "</style>\n",
       "<table border=\"1\" class=\"dataframe\">\n",
       "  <thead>\n",
       "    <tr style=\"text-align: right;\">\n",
       "      <th></th>\n",
       "      <th>id</th>\n",
       "      <th>f0</th>\n",
       "      <th>f1</th>\n",
       "      <th>f2</th>\n",
       "      <th>product</th>\n",
       "    </tr>\n",
       "  </thead>\n",
       "  <tbody>\n",
       "    <tr>\n",
       "      <th>211</th>\n",
       "      <td>TYrYl</td>\n",
       "      <td>-0.876439</td>\n",
       "      <td>1.148639</td>\n",
       "      <td>-6.276067</td>\n",
       "      <td>26.199921</td>\n",
       "    </tr>\n",
       "    <tr>\n",
       "      <th>240</th>\n",
       "      <td>rNDro</td>\n",
       "      <td>-0.017153</td>\n",
       "      <td>3.775609</td>\n",
       "      <td>-7.522400</td>\n",
       "      <td>92.007364</td>\n",
       "    </tr>\n",
       "    <tr>\n",
       "      <th>241</th>\n",
       "      <td>kXacb</td>\n",
       "      <td>1.283423</td>\n",
       "      <td>-0.262485</td>\n",
       "      <td>11.288307</td>\n",
       "      <td>137.108925</td>\n",
       "    </tr>\n",
       "    <tr>\n",
       "      <th>303</th>\n",
       "      <td>oRCjP</td>\n",
       "      <td>-1.901541</td>\n",
       "      <td>2.434956</td>\n",
       "      <td>-6.155733</td>\n",
       "      <td>69.888288</td>\n",
       "    </tr>\n",
       "    <tr>\n",
       "      <th>319</th>\n",
       "      <td>XVb4t</td>\n",
       "      <td>-1.277953</td>\n",
       "      <td>-2.906498</td>\n",
       "      <td>-8.588589</td>\n",
       "      <td>89.531978</td>\n",
       "    </tr>\n",
       "    <tr>\n",
       "      <th>...</th>\n",
       "      <td>...</td>\n",
       "      <td>...</td>\n",
       "      <td>...</td>\n",
       "      <td>...</td>\n",
       "      <td>...</td>\n",
       "    </tr>\n",
       "    <tr>\n",
       "      <th>99553</th>\n",
       "      <td>xrnOj</td>\n",
       "      <td>1.228094</td>\n",
       "      <td>0.956760</td>\n",
       "      <td>-7.201436</td>\n",
       "      <td>33.036502</td>\n",
       "    </tr>\n",
       "    <tr>\n",
       "      <th>99580</th>\n",
       "      <td>kHIG1</td>\n",
       "      <td>1.395574</td>\n",
       "      <td>-0.827866</td>\n",
       "      <td>-7.217435</td>\n",
       "      <td>16.081916</td>\n",
       "    </tr>\n",
       "    <tr>\n",
       "      <th>99620</th>\n",
       "      <td>5kAL2</td>\n",
       "      <td>3.478260</td>\n",
       "      <td>1.842257</td>\n",
       "      <td>12.855746</td>\n",
       "      <td>163.258517</td>\n",
       "    </tr>\n",
       "    <tr>\n",
       "      <th>99632</th>\n",
       "      <td>91wmF</td>\n",
       "      <td>1.634638</td>\n",
       "      <td>0.648326</td>\n",
       "      <td>-6.050760</td>\n",
       "      <td>89.174701</td>\n",
       "    </tr>\n",
       "    <tr>\n",
       "      <th>99641</th>\n",
       "      <td>uQs29</td>\n",
       "      <td>-2.481518</td>\n",
       "      <td>-1.637068</td>\n",
       "      <td>-7.194977</td>\n",
       "      <td>47.547362</td>\n",
       "    </tr>\n",
       "  </tbody>\n",
       "</table>\n",
       "<p>1355 rows × 5 columns</p>\n",
       "</div>"
      ],
      "text/plain": [
       "          id        f0        f1         f2     product\n",
       "211    TYrYl -0.876439  1.148639  -6.276067   26.199921\n",
       "240    rNDro -0.017153  3.775609  -7.522400   92.007364\n",
       "241    kXacb  1.283423 -0.262485  11.288307  137.108925\n",
       "303    oRCjP -1.901541  2.434956  -6.155733   69.888288\n",
       "319    XVb4t -1.277953 -2.906498  -8.588589   89.531978\n",
       "...      ...       ...       ...        ...         ...\n",
       "99553  xrnOj  1.228094  0.956760  -7.201436   33.036502\n",
       "99580  kHIG1  1.395574 -0.827866  -7.217435   16.081916\n",
       "99620  5kAL2  3.478260  1.842257  12.855746  163.258517\n",
       "99632  91wmF  1.634638  0.648326  -6.050760   89.174701\n",
       "99641  uQs29 -2.481518 -1.637068  -7.194977   47.547362\n",
       "\n",
       "[1355 rows x 5 columns]"
      ]
     },
     "execution_count": 33,
     "metadata": {},
     "output_type": "execute_result"
    }
   ],
   "source": [
    "reg_3.query('(f2 < -6) | (f2 > 11)')"
   ]
  },
  {
   "cell_type": "markdown",
   "id": "950cc612-0415-4c41-9e08-8738c4f16691",
   "metadata": {},
   "source": [
    "- Распределение в первом и третьем регионах выглядят схоже: форма, похожая на нормальное распределение, среднее 2.5, диапазон значений от -10 до 15, одинаковые хвосты очень низких и высоких значений.\n",
    "- Наличие \"выбросов\" в большом количестве в распределениях регионов один и три скорее указывает на то, что при определенных условиях такие значения более чем реальны-адекватны для некоторых типов скважин.\n",
    "- Распределение во втором регионе выглядит почти искусственным: у данных диапазон ядра значений 1 и 3 региона от 0 до 5, а внутри - низкая вариативность и стабильный шаг в ~1, а также почти равное распределение на всем промежутке."
   ]
  },
  {
   "cell_type": "markdown",
   "id": "f0e79f2d-097d-41dd-b18f-752d3b13b6b6",
   "metadata": {},
   "source": [
    "### Анализ оценки объема запасов нефти"
   ]
  },
  {
   "cell_type": "code",
   "execution_count": 34,
   "id": "91788bd5-0c9c-4b47-acab-34590dfe5f20",
   "metadata": {},
   "outputs": [
    {
     "data": {
      "image/png": "[encoded data removed]",
      "text/plain": [
       "<Figure size 1500x500 with 2 Axes>"
      ]
     },
     "metadata": {},
     "output_type": "display_data"
    }
   ],
   "source": [
    "hist_and_box_chart(reg_1, 'product', 'Объем запасов в скважине в первом регионе', 'Число скважин', 'Объем нефти (тыс. баррелей)', 50)"
   ]
  },
  {
   "cell_type": "code",
   "execution_count": 35,
   "id": "3ed52cc4-4298-4d9f-813a-30aa1e26d52a",
   "metadata": {},
   "outputs": [
    {
     "data": {
      "image/png": "[encoded data removed]",
      "text/plain": [
       "<Figure size 1500x500 with 2 Axes>"
      ]
     },
     "metadata": {},
     "output_type": "display_data"
    }
   ],
   "source": [
    "hist_and_box_chart(reg_2, 'product', 'Объем запасов в скважине во втором регионе', 'Число скважин', 'Объем нефти (тыс. баррелей)', 50)"
   ]
  },
  {
   "cell_type": "code",
   "execution_count": 36,
   "id": "bf6bbf64-f96f-41f2-bf02-783aba5c66f8",
   "metadata": {},
   "outputs": [
    {
     "data": {
      "image/png": "[encoded data removed]",
      "text/plain": [
       "<Figure size 1500x500 with 2 Axes>"
      ]
     },
     "metadata": {},
     "output_type": "display_data"
    }
   ],
   "source": [
    "hist_and_box_chart(reg_3, 'product', 'Объем запасов в скважине в третьем регионе', 'Число скважин', 'Объем нефти (тыс. баррелей)', 50)"
   ]
  },
  {
   "cell_type": "markdown",
   "id": "10f9e60b-f99d-4b43-a6eb-d69fcb04ce21",
   "metadata": {},
   "source": [
    "- Распределения в 1 и 3 регионе выглядят схоже: форма с более-менее равномерным (но с пиками) распределением между 30 и 160 с заметными спадами за пределами этих значений, среднее 92.5 и 95, диапазон от 0 до 180.\n",
    "- Распределение во 2 регионе снова выглядит искусственным: у данных схожий диапазон, но внутри вариативность значений в разы ниже, имеет стабильный шаг в ~23 тыс., и распределение значений очень уж равное на всём промежутке."
   ]
  },
  {
   "cell_type": "markdown",
   "id": "341edecf-9017-4d26-b8f6-cbc864cd2ba8",
   "metadata": {},
   "source": [
    "### Выводы из исследовательского анализа данных"
   ]
  },
  {
   "cell_type": "markdown",
   "id": "560105f7-6cb3-4a7c-b0c3-991f1aff7129",
   "metadata": {},
   "source": [
    "- Данные по признакам f0 и f1 заметно отличаются во всех трех регионах, особенно по форме распределений и по диапазону.\n",
    "- Данные по признакам f2 и объему нефти очень схожи в первом и третьем регионах. Данные второго региона по этим признакам выглядят почти искусственно - у них очень странное распределение с малой вариативностью и равномерным шагом по всему диапазону (который тоже отличен от первого и третьего региона).\n",
    "- Вероятно, во втором регионе могут быть какие-то трудности со сбором данных, связанные с техникой, человеческим фактором или другими проблемами доступности информации."
   ]
  },
  {
   "cell_type": "markdown",
   "id": "f0fd8742-b0d8-4461-a243-f02a12b6b48f",
   "metadata": {},
   "source": [
    "## Корреляционный анализ данных"
   ]
  },
  {
   "cell_type": "markdown",
   "id": "476ffd1f-93fa-4400-983b-46d0e7fedbd9",
   "metadata": {},
   "source": [
    "- Т.к. для каждого региона будет строиться своя модель, то и корреляцию признаков мы будем смотреть отдельно по каждому региону.\n",
    "- Посмотрим тепловую карту с корреляцией Пирсона, т.к. у нас все признаки числовые и модель линейная, и PhiK-матрицу на случай нелинейных связей."
   ]
  },
  {
   "cell_type": "markdown",
   "id": "f5422ee3-8b30-4592-b206-30694e1f4a08",
   "metadata": {},
   "source": [
    "### Первый регион"
   ]
  },
  {
   "cell_type": "code",
   "execution_count": 37,
   "id": "8ce8996a-7e30-44d9-ae59-7f9981ec41b6",
   "metadata": {},
   "outputs": [
    {
     "data": {
      "image/png": "[encoded data removed]",
      "text/plain": [
       "<Figure size 640x480 with 2 Axes>"
      ]
     },
     "metadata": {},
     "output_type": "display_data"
    }
   ],
   "source": [
    "#построим тепловую карту\n",
    "sns.heatmap(reg_1.drop('id', axis=1).corr(), annot=True, fmt='.2f', cmap='RdBu');"
   ]
  },
  {
   "cell_type": "code",
   "execution_count": 38,
   "id": "e8402083-81e4-4e59-8ba2-91b61b7eda06",
   "metadata": {},
   "outputs": [
    {
     "data": {
      "image/png": "[encoded data removed]",
      "text/plain": [
       "<Figure size 800x500 with 2 Axes>"
      ]
     },
     "metadata": {},
     "output_type": "display_data"
    }
   ],
   "source": [
    "#построим PHIK-матрицу\n",
    "plt.figure(figsize=(8, 5))\n",
    "interval_cols = ['f0', 'f1', 'f2', 'product']\n",
    "sns.heatmap(reg_1.drop('id', axis=1).phik_matrix(interval_cols=interval_cols), annot=True, cmap='RdGy');"
   ]
  },
  {
   "cell_type": "markdown",
   "id": "ab3d6d5c-a5f3-4c3c-9218-de67f3f5c462",
   "metadata": {},
   "source": [
    "- На обеих матрицах видно, что целевой признак умеренно коррелирует с f2.\n",
    "- Корреляция с f0 и f1 на обеих матрицах очень слабая.\n",
    "- Есть заметная корреляция между f1 и f0, но не критичная."
   ]
  },
  {
   "cell_type": "markdown",
   "id": "34cf0935-422d-4263-b5bf-fa1cdc0886d4",
   "metadata": {},
   "source": [
    "### Второй регион"
   ]
  },
  {
   "cell_type": "code",
   "execution_count": 39,
   "id": "85628b9e-4b0f-4718-b640-eb76ce94f46b",
   "metadata": {},
   "outputs": [
    {
     "data": {
      "image/png": "[encoded data removed]",
      "text/plain": [
       "<Figure size 640x480 with 2 Axes>"
      ]
     },
     "metadata": {},
     "output_type": "display_data"
    }
   ],
   "source": [
    "#построим тепловую карту\n",
    "sns.heatmap(reg_2.drop('id', axis=1).corr(), annot=True, fmt='.2f', cmap='RdBu');"
   ]
  },
  {
   "cell_type": "code",
   "execution_count": 40,
   "id": "2dbf939e-6070-4e26-a90d-ff282fe8414b",
   "metadata": {},
   "outputs": [
    {
     "data": {
      "image/png": "[encoded data removed]",
      "text/plain": [
       "<Figure size 800x500 with 2 Axes>"
      ]
     },
     "metadata": {},
     "output_type": "display_data"
    }
   ],
   "source": [
    "#построим PHIK-матрицу\n",
    "plt.figure(figsize=(8, 5))\n",
    "interval_cols = ['f0', 'f1', 'f2', 'product']\n",
    "sns.heatmap(reg_2.drop('id', axis=1).phik_matrix(interval_cols=interval_cols), annot=True, cmap='RdGy');"
   ]
  },
  {
   "cell_type": "markdown",
   "id": "19e6f54c-031b-4c79-a133-17d9a620df7f",
   "metadata": {},
   "source": [
    "- Обе матрицы указывают на сильнейшую линейную корреляцию f2 и целевого признака. Без контекста мы не можем определить такую корреляцию как утечку/не_утечку, поэтому будем считать это просто очень высокой корреляцией.\n",
    "- Между f0 и целевым признаком также есть связь, но она нелинейная: коэффициент Пирсона близок к 0, а вот Phik высокий - 0.63."
   ]
  },
  {
   "cell_type": "markdown",
   "id": "9b185c45-1416-4ed3-aeab-72bc07414ab3",
   "metadata": {},
   "source": [
    "### Третий регион"
   ]
  },
  {
   "cell_type": "code",
   "execution_count": 41,
   "id": "4d1745d3-75cc-4f06-a9b2-af6a317d3453",
   "metadata": {},
   "outputs": [
    {
     "data": {
      "image/png": "[encoded data removed]",
      "text/plain": [
       "<Figure size 640x480 with 2 Axes>"
      ]
     },
     "metadata": {},
     "output_type": "display_data"
    }
   ],
   "source": [
    "#построим тепловую карту\n",
    "sns.heatmap(reg_3.drop('id', axis=1).corr(), annot=True, fmt='.2f', cmap='RdBu');"
   ]
  },
  {
   "cell_type": "code",
   "execution_count": 42,
   "id": "5d7c5287-f9eb-4b90-933c-97e7dbc83723",
   "metadata": {},
   "outputs": [
    {
     "data": {
      "image/png": "[encoded data removed]",
      "text/plain": [
       "<Figure size 800x500 with 2 Axes>"
      ]
     },
     "metadata": {},
     "output_type": "display_data"
    }
   ],
   "source": [
    "#построим PHIK-матрицу\n",
    "plt.figure(figsize=(8, 5))\n",
    "interval_cols = ['f0', 'f1', 'f2', 'product']\n",
    "sns.heatmap(reg_3.drop('id', axis=1).phik_matrix(interval_cols=interval_cols), annot=True, cmap='RdGy');"
   ]
  },
  {
   "cell_type": "markdown",
   "id": "63d1fe88-c623-4b4f-9052-6a0bdb1d014a",
   "metadata": {},
   "source": [
    "- На обеих матрицах видно, что целевой признак умеренно коррелирует с f2.\n",
    "- Корреляция с f0 и f1 на обеих матрицах очень слабая."
   ]
  },
  {
   "cell_type": "markdown",
   "id": "af2b7f1f-cb22-40ff-ab86-76155a572c92",
   "metadata": {},
   "source": [
    "### Выводы из корреляционного анализа"
   ]
  },
  {
   "cell_type": "markdown",
   "id": "2b5e7592-4f35-47f0-b31f-1e5ec19a938e",
   "metadata": {},
   "source": [
    "- Во всех трех случаях целевой признак имел заметную корреляцию с целевым, а во втором регионе и вовсе 1 к 1 (но там и данные по f2 и целевому признаку имели очень математичный-искусственный вид).\n",
    "- Во втором регионе также очень заметна нелинейная связь f0 и целевого признака, и коэффициент этой связи в 3 раза выше, чем в двух других регионах.\n",
    "- Корреляция f1 и целевого признака везде незначительная.\n",
    "- Мультиколинеарность не выявлена."
   ]
  },
  {
   "cell_type": "markdown",
   "id": "ef7131d4-a2cd-4906-aabf-1a1c82ecbe55",
   "metadata": {},
   "source": [
    "## Модель прогноза объемов запаса нефти"
   ]
  },
  {
   "cell_type": "markdown",
   "id": "e59011fa-dcdb-4b70-a2d4-68caf2f18b04",
   "metadata": {},
   "source": [
    "- Для каждого региона мы создадим модель линейной регрессии, чтобы предсказать в регионе объем запасов нефти.\n",
    "- Целевой признак - объем запасов нефти, 'product'.\n",
    "- В качестве предобработки масштабируем данные с помощью StandardScaler(). Пропусков и категориальных данных в датасетах нет, поэтому другая предобработка не требуется. \n",
    "- Метрика для оценки моделей - корень из средней квадратичной ошибки.\n",
    "- Результаты предсказаний и соответствующие им реальные значения сохраним в таблице для дальнейшего анализа."
   ]
  },
  {
   "cell_type": "markdown",
   "id": "253401f3-54eb-4518-b60e-28be3c50569e",
   "metadata": {},
   "source": [
    "### Модель для первого региона"
   ]
  },
  {
   "cell_type": "code",
   "execution_count": 43,
   "id": "7a36109e-c7c6-48ca-887f-bc6e080f6064",
   "metadata": {},
   "outputs": [
    {
     "name": "stdout",
     "output_type": "stream",
     "text": [
      "Размеренность тренеровочного и валидационного датасетов с входными признаками:(75000, 3) и (25000, 3)\n",
      "Длина соответствующих столбцов с целевым значением: 75000 и 25000\n"
     ]
    }
   ],
   "source": [
    "#создадим выборки и проверим размеренность\n",
    "X_train_1, X_val_1, y_train_1, y_val_1 = train_val_selector(reg_1)"
   ]
  },
  {
   "cell_type": "code",
   "execution_count": 44,
   "id": "f7af8312-086d-45f5-adde-866cd917be00",
   "metadata": {},
   "outputs": [
    {
     "name": "stdout",
     "output_type": "stream",
     "text": [
      "Корень из средней квадратичной ошибки для модели 37.64\n",
      "\n",
      "Среднее значение предсказанного объема запаса нефти в регионе: 92.77\n"
     ]
    }
   ],
   "source": [
    "#обучим модель и получим оценку объемов нефти в регионе\n",
    "prediction_1 = linear_model_prediction (X_train_1, X_val_1, y_train_1, y_val_1)"
   ]
  },
  {
   "cell_type": "code",
   "execution_count": 45,
   "id": "e469cc9f-b462-4816-a9c9-9f9d9e41d428",
   "metadata": {},
   "outputs": [
    {
     "data": {
      "image/png": "[encoded data removed]",
      "text/plain": [
       "<Figure size 800x500 with 1 Axes>"
      ]
     },
     "metadata": {},
     "output_type": "display_data"
    }
   ],
   "source": [
    "residuals_1 = y_val_1 - prediction_1\n",
    "\n",
    "#построим графики для анализа остатков\n",
    "plt.figure(figsize=(8, 5))\n",
    "plt.hist(residuals_1, color = '#87CEEB')\n",
    "plt.title('Гистограмма распределения остатков')\n",
    "plt.xlabel('Остатки')\n",
    "mean = residuals_1.mean()\n",
    "plt.axvline(mean, color='orange', linestyle='dashed', linewidth=2, label=f'Среднее: {mean:.2f}')\n",
    "plt.legend()\n",
    "\n",
    "plt.show()"
   ]
  },
  {
   "cell_type": "markdown",
   "id": "e66b8746-056b-4e81-8914-364ce57e698f",
   "metadata": {},
   "source": [
    "- Распределение остатков выглядит симметрично, среднее близко к 0. Модель не делает систематических ошибок в сторону завышения или занижения прогноза.\n",
    "- Средняя погрешность - 37.64 тыс.баррелей."
   ]
  },
  {
   "cell_type": "code",
   "execution_count": 46,
   "id": "54a9b741-5457-460e-b619-724ca6356c45",
   "metadata": {},
   "outputs": [
    {
     "data": {
      "text/html": [
       "<div>\n",
       "<style scoped>\n",
       "    .dataframe tbody tr th:only-of-type {\n",
       "        vertical-align: middle;\n",
       "    }\n",
       "\n",
       "    .dataframe tbody tr th {\n",
       "        vertical-align: top;\n",
       "    }\n",
       "\n",
       "    .dataframe thead th {\n",
       "        text-align: right;\n",
       "    }\n",
       "</style>\n",
       "<table border=\"1\" class=\"dataframe\">\n",
       "  <thead>\n",
       "    <tr style=\"text-align: right;\">\n",
       "      <th></th>\n",
       "      <th>product</th>\n",
       "      <th>product_prediction</th>\n",
       "    </tr>\n",
       "  </thead>\n",
       "  <tbody>\n",
       "    <tr>\n",
       "      <th>65716</th>\n",
       "      <td>58.904731</td>\n",
       "      <td>52.644232</td>\n",
       "    </tr>\n",
       "    <tr>\n",
       "      <th>27857</th>\n",
       "      <td>174.444496</td>\n",
       "      <td>108.028618</td>\n",
       "    </tr>\n",
       "    <tr>\n",
       "      <th>55953</th>\n",
       "      <td>95.433245</td>\n",
       "      <td>83.907614</td>\n",
       "    </tr>\n",
       "    <tr>\n",
       "      <th>83660</th>\n",
       "      <td>93.363213</td>\n",
       "      <td>71.181027</td>\n",
       "    </tr>\n",
       "    <tr>\n",
       "      <th>17674</th>\n",
       "      <td>70.410739</td>\n",
       "      <td>111.219474</td>\n",
       "    </tr>\n",
       "    <tr>\n",
       "      <th>...</th>\n",
       "      <td>...</td>\n",
       "      <td>...</td>\n",
       "    </tr>\n",
       "    <tr>\n",
       "      <th>9893</th>\n",
       "      <td>165.251838</td>\n",
       "      <td>98.212882</td>\n",
       "    </tr>\n",
       "    <tr>\n",
       "      <th>41375</th>\n",
       "      <td>119.418244</td>\n",
       "      <td>73.383664</td>\n",
       "    </tr>\n",
       "    <tr>\n",
       "      <th>94435</th>\n",
       "      <td>66.211900</td>\n",
       "      <td>86.527385</td>\n",
       "    </tr>\n",
       "    <tr>\n",
       "      <th>74804</th>\n",
       "      <td>56.937502</td>\n",
       "      <td>138.355879</td>\n",
       "    </tr>\n",
       "    <tr>\n",
       "      <th>10017</th>\n",
       "      <td>120.695003</td>\n",
       "      <td>73.924083</td>\n",
       "    </tr>\n",
       "  </tbody>\n",
       "</table>\n",
       "<p>25000 rows × 2 columns</p>\n",
       "</div>"
      ],
      "text/plain": [
       "          product  product_prediction\n",
       "65716   58.904731           52.644232\n",
       "27857  174.444496          108.028618\n",
       "55953   95.433245           83.907614\n",
       "83660   93.363213           71.181027\n",
       "17674   70.410739          111.219474\n",
       "...           ...                 ...\n",
       "9893   165.251838           98.212882\n",
       "41375  119.418244           73.383664\n",
       "94435   66.211900           86.527385\n",
       "74804   56.937502          138.355879\n",
       "10017  120.695003           73.924083\n",
       "\n",
       "[25000 rows x 2 columns]"
      ]
     },
     "execution_count": 46,
     "metadata": {},
     "output_type": "execute_result"
    }
   ],
   "source": [
    "#объединим оценку модели и фактические данные в единую таблицу для дальнейшей оценки рисков\n",
    "reg_1_for_risk_analysys = pd.DataFrame({'product': y_val_1, 'product_prediction': prediction_1})\n",
    "reg_1_for_risk_analysys"
   ]
  },
  {
   "cell_type": "markdown",
   "id": "d61feb3e-45bf-4b67-a9ba-c0d397aba54c",
   "metadata": {},
   "source": [
    "### Модель для второго региона"
   ]
  },
  {
   "cell_type": "code",
   "execution_count": 47,
   "id": "2f270c6f-16d0-4f59-bae7-8589b0ef7836",
   "metadata": {},
   "outputs": [
    {
     "name": "stdout",
     "output_type": "stream",
     "text": [
      "Размеренность тренеровочного и валидационного датасетов с входными признаками:(75000, 3) и (25000, 3)\n",
      "Длина соответствующих столбцов с целевым значением: 75000 и 25000\n"
     ]
    }
   ],
   "source": [
    "#создадим выборки и проверим размеренность\n",
    "X_train_2, X_val_2, y_train_2, y_val_2 = train_val_selector(reg_2)"
   ]
  },
  {
   "cell_type": "code",
   "execution_count": 48,
   "id": "85f30a41-5b4d-45cf-928c-9962c7fb9650",
   "metadata": {},
   "outputs": [
    {
     "name": "stdout",
     "output_type": "stream",
     "text": [
      "Корень из средней квадратичной ошибки для модели 0.9\n",
      "\n",
      "Среднее значение предсказанного объема запаса нефти в регионе: 68.64\n"
     ]
    }
   ],
   "source": [
    "#обучим модель и получим оценку объемов нефти в регионе\n",
    "prediction_2 = linear_model_prediction (X_train_2, X_val_2, y_train_2, y_val_2)"
   ]
  },
  {
   "cell_type": "code",
   "execution_count": 49,
   "id": "8503a2ae-abab-4698-95b0-1ed340ee66ea",
   "metadata": {},
   "outputs": [
    {
     "data": {
      "image/png": "[encoded data removed]",
      "text/plain": [
       "<Figure size 800x500 with 1 Axes>"
      ]
     },
     "metadata": {},
     "output_type": "display_data"
    }
   ],
   "source": [
    "residuals_2 = y_val_2 - prediction_2\n",
    "\n",
    "#построим графики для анализа остатков\n",
    "plt.figure(figsize=(8, 5))\n",
    "plt.hist(residuals_2, color = '#87CEEB')\n",
    "plt.title('Гистограмма распределения остатков')\n",
    "plt.xlabel('Остатки')\n",
    "mean = residuals_2.mean()\n",
    "plt.axvline(mean, color='orange', linestyle='dashed', linewidth=2, label=f'Среднее: {mean:.2f}')\n",
    "plt.legend()\n",
    "\n",
    "plt.show()"
   ]
  },
  {
   "cell_type": "markdown",
   "id": "51fc37ea-4de0-4b13-9035-c8737e052059",
   "metadata": {},
   "source": [
    "- Распределение остатков выглядит симметрично, среднее близко к 0. Модель не делает систематических ошибок в сторону завышения или занижения прогноза.\n",
    "- Средняя погрешность - меньше 1 тыс. баррелей."
   ]
  },
  {
   "cell_type": "code",
   "execution_count": 50,
   "id": "bf05d473-b2bc-411e-ba59-800dfb5f6501",
   "metadata": {},
   "outputs": [
    {
     "data": {
      "text/html": [
       "<div>\n",
       "<style scoped>\n",
       "    .dataframe tbody tr th:only-of-type {\n",
       "        vertical-align: middle;\n",
       "    }\n",
       "\n",
       "    .dataframe tbody tr th {\n",
       "        vertical-align: top;\n",
       "    }\n",
       "\n",
       "    .dataframe thead th {\n",
       "        text-align: right;\n",
       "    }\n",
       "</style>\n",
       "<table border=\"1\" class=\"dataframe\">\n",
       "  <thead>\n",
       "    <tr style=\"text-align: right;\">\n",
       "      <th></th>\n",
       "      <th>product</th>\n",
       "      <th>product_prediction</th>\n",
       "    </tr>\n",
       "  </thead>\n",
       "  <tbody>\n",
       "    <tr>\n",
       "      <th>65716</th>\n",
       "      <td>3.179103</td>\n",
       "      <td>2.783121</td>\n",
       "    </tr>\n",
       "    <tr>\n",
       "      <th>27857</th>\n",
       "      <td>80.859783</td>\n",
       "      <td>81.485302</td>\n",
       "    </tr>\n",
       "    <tr>\n",
       "      <th>55953</th>\n",
       "      <td>107.813044</td>\n",
       "      <td>108.487750</td>\n",
       "    </tr>\n",
       "    <tr>\n",
       "      <th>83660</th>\n",
       "      <td>110.992147</td>\n",
       "      <td>111.686550</td>\n",
       "    </tr>\n",
       "    <tr>\n",
       "      <th>17674</th>\n",
       "      <td>30.132364</td>\n",
       "      <td>29.790434</td>\n",
       "    </tr>\n",
       "    <tr>\n",
       "      <th>...</th>\n",
       "      <td>...</td>\n",
       "      <td>...</td>\n",
       "    </tr>\n",
       "    <tr>\n",
       "      <th>9893</th>\n",
       "      <td>134.766305</td>\n",
       "      <td>135.016307</td>\n",
       "    </tr>\n",
       "    <tr>\n",
       "      <th>41375</th>\n",
       "      <td>137.945408</td>\n",
       "      <td>137.232445</td>\n",
       "    </tr>\n",
       "    <tr>\n",
       "      <th>94435</th>\n",
       "      <td>134.766305</td>\n",
       "      <td>134.142981</td>\n",
       "    </tr>\n",
       "    <tr>\n",
       "      <th>74804</th>\n",
       "      <td>0.000000</td>\n",
       "      <td>0.414021</td>\n",
       "    </tr>\n",
       "    <tr>\n",
       "      <th>10017</th>\n",
       "      <td>110.992147</td>\n",
       "      <td>110.570170</td>\n",
       "    </tr>\n",
       "  </tbody>\n",
       "</table>\n",
       "<p>25000 rows × 2 columns</p>\n",
       "</div>"
      ],
      "text/plain": [
       "          product  product_prediction\n",
       "65716    3.179103            2.783121\n",
       "27857   80.859783           81.485302\n",
       "55953  107.813044          108.487750\n",
       "83660  110.992147          111.686550\n",
       "17674   30.132364           29.790434\n",
       "...           ...                 ...\n",
       "9893   134.766305          135.016307\n",
       "41375  137.945408          137.232445\n",
       "94435  134.766305          134.142981\n",
       "74804    0.000000            0.414021\n",
       "10017  110.992147          110.570170\n",
       "\n",
       "[25000 rows x 2 columns]"
      ]
     },
     "execution_count": 50,
     "metadata": {},
     "output_type": "execute_result"
    }
   ],
   "source": [
    "#объединим оценку модели и фактические данные в единую таблицу для дальнейшей оценки рисков\n",
    "reg_2_for_risk_analysys = pd.DataFrame({'product': y_val_2, 'product_prediction': prediction_2})\n",
    "reg_2_for_risk_analysys"
   ]
  },
  {
   "cell_type": "markdown",
   "id": "c82f4620-b4b3-4c24-838b-dfb57754fde4",
   "metadata": {},
   "source": [
    "### Модель для третьего региона"
   ]
  },
  {
   "cell_type": "code",
   "execution_count": 51,
   "id": "cd29a6cc-e9ec-47e8-9cf6-f690ccc24ef3",
   "metadata": {},
   "outputs": [
    {
     "name": "stdout",
     "output_type": "stream",
     "text": [
      "Размеренность тренеровочного и валидационного датасетов с входными признаками:(75000, 3) и (25000, 3)\n",
      "Длина соответствующих столбцов с целевым значением: 75000 и 25000\n"
     ]
    }
   ],
   "source": [
    "#создадим выборки и проверим размеренность\n",
    "X_train_3, X_val_3, y_train_3, y_val_3 = train_val_selector(reg_3)"
   ]
  },
  {
   "cell_type": "code",
   "execution_count": 52,
   "id": "463d4d54-62c8-4a89-a1ea-a3d59317cb39",
   "metadata": {},
   "outputs": [
    {
     "name": "stdout",
     "output_type": "stream",
     "text": [
      "Корень из средней квадратичной ошибки для модели 40.28\n",
      "\n",
      "Среднее значение предсказанного объема запаса нефти в регионе: 95.08\n"
     ]
    }
   ],
   "source": [
    "#обучим модель и получим оценку объемов нефти в регионе\n",
    "prediction_3 = linear_model_prediction (X_train_3, X_val_3, y_train_3, y_val_3)"
   ]
  },
  {
   "cell_type": "code",
   "execution_count": 53,
   "id": "a555c5de-2b7c-4901-a192-d29b921a0df9",
   "metadata": {},
   "outputs": [
    {
     "data": {
      "image/png": "[encoded data removed]",
      "text/plain": [
       "<Figure size 800x500 with 1 Axes>"
      ]
     },
     "metadata": {},
     "output_type": "display_data"
    }
   ],
   "source": [
    "residuals_3 = y_val_3 - prediction_3\n",
    "\n",
    "#построим графики для анализа остатков\n",
    "plt.figure(figsize=(8, 5))\n",
    "plt.hist(residuals_3, color = '#87CEEB')\n",
    "plt.title('Гистограмма распределения остатков')\n",
    "plt.xlabel('Остатки')\n",
    "mean = residuals_3.mean()\n",
    "plt.axvline(mean, color='orange', linestyle='dashed', linewidth=2, label=f'Среднее: {mean:.2f}')\n",
    "plt.legend()\n",
    "\n",
    "plt.show()"
   ]
  },
  {
   "cell_type": "markdown",
   "id": "81dbc5a1-21e3-4448-865d-f0a9bfbabfec",
   "metadata": {},
   "source": [
    "- Распределение остатков выглядит симметрично, среднее близко к 0. Модель не делает систематических ошибок в сторону завышения или занижения прогноза.\n",
    "- Средняя погрешность - 40.3 тыс. баррелей."
   ]
  },
  {
   "cell_type": "code",
   "execution_count": 54,
   "id": "6cd840f6-a2ac-4d72-a63e-fc412dcfeac3",
   "metadata": {},
   "outputs": [
    {
     "data": {
      "text/html": [
       "<div>\n",
       "<style scoped>\n",
       "    .dataframe tbody tr th:only-of-type {\n",
       "        vertical-align: middle;\n",
       "    }\n",
       "\n",
       "    .dataframe tbody tr th {\n",
       "        vertical-align: top;\n",
       "    }\n",
       "\n",
       "    .dataframe thead th {\n",
       "        text-align: right;\n",
       "    }\n",
       "</style>\n",
       "<table border=\"1\" class=\"dataframe\">\n",
       "  <thead>\n",
       "    <tr style=\"text-align: right;\">\n",
       "      <th></th>\n",
       "      <th>product</th>\n",
       "      <th>product_prediction</th>\n",
       "    </tr>\n",
       "  </thead>\n",
       "  <tbody>\n",
       "    <tr>\n",
       "      <th>65716</th>\n",
       "      <td>104.287591</td>\n",
       "      <td>65.870320</td>\n",
       "    </tr>\n",
       "    <tr>\n",
       "      <th>27857</th>\n",
       "      <td>89.156753</td>\n",
       "      <td>81.345498</td>\n",
       "    </tr>\n",
       "    <tr>\n",
       "      <th>55953</th>\n",
       "      <td>41.278178</td>\n",
       "      <td>77.811517</td>\n",
       "    </tr>\n",
       "    <tr>\n",
       "      <th>83660</th>\n",
       "      <td>29.528634</td>\n",
       "      <td>89.847255</td>\n",
       "    </tr>\n",
       "    <tr>\n",
       "      <th>17674</th>\n",
       "      <td>74.243791</td>\n",
       "      <td>85.825481</td>\n",
       "    </tr>\n",
       "    <tr>\n",
       "      <th>...</th>\n",
       "      <td>...</td>\n",
       "      <td>...</td>\n",
       "    </tr>\n",
       "    <tr>\n",
       "      <th>9893</th>\n",
       "      <td>80.939834</td>\n",
       "      <td>96.315453</td>\n",
       "    </tr>\n",
       "    <tr>\n",
       "      <th>41375</th>\n",
       "      <td>44.952689</td>\n",
       "      <td>93.575376</td>\n",
       "    </tr>\n",
       "    <tr>\n",
       "      <th>94435</th>\n",
       "      <td>78.620859</td>\n",
       "      <td>71.214414</td>\n",
       "    </tr>\n",
       "    <tr>\n",
       "      <th>74804</th>\n",
       "      <td>138.295700</td>\n",
       "      <td>112.036526</td>\n",
       "    </tr>\n",
       "    <tr>\n",
       "      <th>10017</th>\n",
       "      <td>35.957179</td>\n",
       "      <td>92.259656</td>\n",
       "    </tr>\n",
       "  </tbody>\n",
       "</table>\n",
       "<p>25000 rows × 2 columns</p>\n",
       "</div>"
      ],
      "text/plain": [
       "          product  product_prediction\n",
       "65716  104.287591           65.870320\n",
       "27857   89.156753           81.345498\n",
       "55953   41.278178           77.811517\n",
       "83660   29.528634           89.847255\n",
       "17674   74.243791           85.825481\n",
       "...           ...                 ...\n",
       "9893    80.939834           96.315453\n",
       "41375   44.952689           93.575376\n",
       "94435   78.620859           71.214414\n",
       "74804  138.295700          112.036526\n",
       "10017   35.957179           92.259656\n",
       "\n",
       "[25000 rows x 2 columns]"
      ]
     },
     "execution_count": 54,
     "metadata": {},
     "output_type": "execute_result"
    }
   ],
   "source": [
    "#объединим оценку модели и фактические данные в единую таблицу для дальнейшей оценки рисков\n",
    "reg_3_for_risk_analysys = pd.DataFrame({'product': y_val_3, 'product_prediction': prediction_3})\n",
    "reg_3_for_risk_analysys"
   ]
  },
  {
   "cell_type": "markdown",
   "id": "f8f47084-1e8e-41b7-9364-7b0e1b6fc77b",
   "metadata": {},
   "source": [
    "### Выводы по моделям прогноза запасов"
   ]
  },
  {
   "cell_type": "markdown",
   "id": "f1982b82-79ed-4877-b155-b726def2a693",
   "metadata": {},
   "source": [
    "**Первый регион**:\n",
    "- **Предсказуемость**: Модель в среднем ошибается на 37.6 тыс баррелей. Это второй лучший результат.\n",
    "- **Запасы**: Среднее значение предсказанного объема запасов нефти в регионе - 92.8 тыс. баррелей. Это также второй лучший результат.\n",
    "_____\n",
    "\n",
    "**Второй регион**:\n",
    "- **Предсказуемость**: Модель в среднем ошибается на 0.9 тыс баррелей. Это лучший результат. (Впрочем, он может быть обусловлен не совсем корректными данными.)\n",
    "- **Запасы**: Среднее значение предсказанного объема запасов нефти в регионе - 68.6 тыс. баррелей. Это худший результат, он на 28% хуже самого лучшего.\n",
    "______\n",
    "\n",
    "**Третий регион**:\n",
    "- **Предсказуемость**: Модель в среднем ошибается на 40.3 тыс баррелей. Это худший результат. Однако, он в целом схож с моделью первого региона.\n",
    "- **Запасы**: Среднее значение предсказанного объема запасов нефти в регионе - 95 тыс. баррелей. Это самый высокий показатель."
   ]
  },
  {
   "cell_type": "markdown",
   "id": "97c9490f-df5c-4481-b557-3024ab6aedef",
   "metadata": {},
   "source": [
    "## Рассчет рисков и прибыли"
   ]
  },
  {
   "cell_type": "markdown",
   "id": "bfd30202-ce07-465f-8a9d-000dcebaeae3",
   "metadata": {},
   "source": [
    "Для оценки потенциала региона мы сделаем следующее:\n",
    "- Найдем точку безубыточности - среднее значение объема запаса нефти в скважине для безубыточного производства.\n",
    "- Сравним точку безубыточности со средним показателем в регионе.\n",
    "- Проведем оценку потенциальной доходности каждого региона при разработке топ-200 самых перспективных скважин согласно предсказаниям модели."
   ]
  },
  {
   "cell_type": "markdown",
   "id": "e9183210-bc00-4af2-8a34-057d700cf680",
   "metadata": {},
   "source": [
    "### Точка безубыточности"
   ]
  },
  {
   "cell_type": "code",
   "execution_count": 55,
   "id": "e22a4479-8f54-449f-9a91-ef250f4fe463",
   "metadata": {},
   "outputs": [],
   "source": [
    "#бюджет на разработку скважин в регионе\n",
    "BUDGET = 10000000000\n",
    "\n",
    "#количество исследуемых точек при разведке\n",
    "POINTS_TO_RESEARCH = 500 \n",
    "\n",
    "#количество точек для разработки \n",
    "POINTS_TO_CHOOSE = 200 \n",
    "\n",
    "#цена за 1000 баррелей, т.к. данные в таблице - в тысячах баррелей\n",
    "PRICE_PER_1K = 1000 * 450\n",
    "\n",
    "#максимально допустимая вероятность убытков\n",
    "MAX_LOSS = 0.025"
   ]
  },
  {
   "cell_type": "code",
   "execution_count": 56,
   "id": "b2a7503c-b42f-4364-adfa-80a924a654ab",
   "metadata": {},
   "outputs": [
    {
     "name": "stdout",
     "output_type": "stream",
     "text": [
      "Среднее значение объема запаса нефти в скважине для безубыточного производства: 111.11\n",
      "\n",
      "Первый регион:\n",
      "Среднее значение предсказанного объема запаса нефти в регионе: 92.77\n",
      "Среднее значение реального объема запаса нефти в регионе: 92.98\n",
      "Среднее значение топ-200 скважин, согласно прогнозу: 154.78\n",
      "\n",
      "Второй регион:\n",
      "Среднее значение предсказанного объема запаса нефти в регионе: 68.64\n",
      "Среднее значение реального объема запаса нефти в регионе: 68.64\n",
      "Среднее значение топ-200 скважин, согласно прогнозу: 138.72\n",
      "\n",
      "Третий регион:\n",
      "Среднее значение предсказанного объема запаса нефти в регионе: 95.08\n",
      "Среднее значение реального объема запаса нефти в регионе: 94.76\n",
      "Среднее значение топ-200 скважин, согласно прогнозу: 149.51\n"
     ]
    }
   ],
   "source": [
    "#рассчитаем точку безубыточности - среднее значение объемов скважины для безубыточной добычи\n",
    "MIN_PRODUCT_PER_POINT = (BUDGET/POINTS_TO_CHOOSE)/PRICE_PER_1K\n",
    "print('Среднее значение объема запаса нефти в скважине для безубыточного производства:', round(MIN_PRODUCT_PER_POINT, 2))\n",
    "print('')\n",
    "print('Первый регион:')\n",
    "print('Среднее значение предсказанного объема запаса нефти в регионе:', round(reg_1_for_risk_analysys['product_prediction'].mean(), 2))\n",
    "print('Среднее значение реального объема запаса нефти в регионе:', round(reg_1_for_risk_analysys['product'].mean(), 2))\n",
    "print('Среднее значение топ-200 скважин, согласно прогнозу:', round(reg_1_for_risk_analysys.sort_values(by='product_prediction', ascending=False)['product_prediction'].head(200).mean(), 2))\n",
    "print('')\n",
    "print('Второй регион:')\n",
    "print('Среднее значение предсказанного объема запаса нефти в регионе:', round(reg_2_for_risk_analysys['product_prediction'].mean(), 2))\n",
    "print('Среднее значение реального объема запаса нефти в регионе:', round(reg_2_for_risk_analysys['product'].mean(), 2))\n",
    "print('Среднее значение топ-200 скважин, согласно прогнозу:', round(reg_2_for_risk_analysys.sort_values(by='product_prediction', ascending=False)['product_prediction'].head(200).mean(), 2))\n",
    "print('')\n",
    "print('Третий регион:')\n",
    "print('Среднее значение предсказанного объема запаса нефти в регионе:', round(reg_3_for_risk_analysys['product_prediction'].mean(), 2))\n",
    "print('Среднее значение реального объема запаса нефти в регионе:', round(reg_3_for_risk_analysys['product'].mean(), 2))\n",
    "print('Среднее значение топ-200 скважин, согласно прогнозу:', round(reg_3_for_risk_analysys.sort_values(by='product_prediction', ascending=False)['product_prediction'].head(200).mean(), 2))\n",
    "\n"
   ]
  },
  {
   "cell_type": "markdown",
   "id": "6a22148f-d1cc-48be-9b84-88a174424ff3",
   "metadata": {},
   "source": [
    "- Значение запаса нефти в скважине для безубыточной добычи сейчас выше среднего по всем регионам. Минимум на 16 тысяч - в сравнении с третьим регионом.\n",
    "- Однако, для всех трех регионов среднее значение для безубыточной добычи заметно ниже среднего среди 200 самых перспективных скважин, согласно прогнозу. Минимум на 27 тысяч - в сравнении со вторым регионом.\n",
    "- Дальнейший анализ мы сфокусируем на том, насколько приемлемым является качество прогноза топ-200 с точки зрения финансовых показателей."
   ]
  },
  {
   "cell_type": "markdown",
   "id": "4fa39f67-e178-48e5-8eb3-77c269753c70",
   "metadata": {},
   "source": [
    "### Анализ рисков при разработке на основе прогноза"
   ]
  },
  {
   "cell_type": "code",
   "execution_count": 57,
   "id": "bf51def8-7b3d-4ad9-919c-96bad8add69d",
   "metadata": {},
   "outputs": [
    {
     "name": "stdout",
     "output_type": "stream",
     "text": [
      "Среднее значение доходности при разработке топ-200 из 500 скважин в регионе: 483167794.55\n",
      "95% доверительный интервал: (-28817847.17, 958042963.49)\n",
      "Вероятность убытков равна 0.03, что больше чем максимальная допустимая вероятность 0.025\n"
     ]
    }
   ],
   "source": [
    "#оценим потенциал прибыли и рисков первого региона\n",
    "profit_mean_1, profit_lower_1, profit_upper_1, loss_probability_1 = profit_variations(reg_1_for_risk_analysys)"
   ]
  },
  {
   "cell_type": "code",
   "execution_count": 58,
   "id": "c7383eaf-21d2-42cf-aaed-1ac185a5b285",
   "metadata": {},
   "outputs": [
    {
     "name": "stdout",
     "output_type": "stream",
     "text": [
      "Среднее значение доходности при разработке топ-200 из 500 скважин в регионе: 446328247.85\n",
      "95% доверительный интервал: (31054171.82, 842478985.18)\n",
      "Вероятность убытков равна 0.017, что меньше чем максимальная допустимая вероятность 0.025\n"
     ]
    }
   ],
   "source": [
    "#оценим потенциал прибыли и рисков первого региона\n",
    "profit_mean_2, profit_lower_2, profit_upper_2, loss_probability_2 = profit_variations(reg_2_for_risk_analysys)"
   ]
  },
  {
   "cell_type": "code",
   "execution_count": 59,
   "id": "5d9027fc-3a73-41bd-90f3-02535162d0ad",
   "metadata": {},
   "outputs": [
    {
     "name": "stdout",
     "output_type": "stream",
     "text": [
      "Среднее значение доходности при разработке топ-200 из 500 скважин в регионе: 315433432.42\n",
      "95% доверительный интервал: (-188067752.19, 828388665.33)\n",
      "Вероятность убытков равна 0.119, что больше чем максимальная допустимая вероятность 0.025\n"
     ]
    }
   ],
   "source": [
    "#оценим потенциал прибыли и рисков первого региона\n",
    "profit_mean_3, profit_lower_3, profit_upper_3, loss_probability_3 = profit_variations(reg_3_for_risk_analysys)"
   ]
  },
  {
   "cell_type": "code",
   "execution_count": 60,
   "id": "b881d671-0fe8-416c-80f9-70fc6bbee876",
   "metadata": {},
   "outputs": [
    {
     "data": {
      "text/html": [
       "<div>\n",
       "<style scoped>\n",
       "    .dataframe tbody tr th:only-of-type {\n",
       "        vertical-align: middle;\n",
       "    }\n",
       "\n",
       "    .dataframe tbody tr th {\n",
       "        vertical-align: top;\n",
       "    }\n",
       "\n",
       "    .dataframe thead th {\n",
       "        text-align: right;\n",
       "    }\n",
       "</style>\n",
       "<table border=\"1\" class=\"dataframe\">\n",
       "  <thead>\n",
       "    <tr style=\"text-align: right;\">\n",
       "      <th></th>\n",
       "      <th>region</th>\n",
       "      <th>profit_mean</th>\n",
       "      <th>95_conf_interval_lower</th>\n",
       "      <th>95_conf_interval_upper</th>\n",
       "      <th>loss_probability</th>\n",
       "    </tr>\n",
       "  </thead>\n",
       "  <tbody>\n",
       "    <tr>\n",
       "      <th>0</th>\n",
       "      <td>Первый регион</td>\n",
       "      <td>4.831678e+08</td>\n",
       "      <td>-2.881785e+07</td>\n",
       "      <td>9.580430e+08</td>\n",
       "      <td>0.030</td>\n",
       "    </tr>\n",
       "    <tr>\n",
       "      <th>1</th>\n",
       "      <td>Второй регион</td>\n",
       "      <td>4.463282e+08</td>\n",
       "      <td>3.105417e+07</td>\n",
       "      <td>8.424790e+08</td>\n",
       "      <td>0.017</td>\n",
       "    </tr>\n",
       "    <tr>\n",
       "      <th>2</th>\n",
       "      <td>Третий регион</td>\n",
       "      <td>3.154334e+08</td>\n",
       "      <td>-1.880678e+08</td>\n",
       "      <td>8.283887e+08</td>\n",
       "      <td>0.119</td>\n",
       "    </tr>\n",
       "  </tbody>\n",
       "</table>\n",
       "</div>"
      ],
      "text/plain": [
       "          region   profit_mean  95_conf_interval_lower  \\\n",
       "0  Первый регион  4.831678e+08           -2.881785e+07   \n",
       "1  Второй регион  4.463282e+08            3.105417e+07   \n",
       "2  Третий регион  3.154334e+08           -1.880678e+08   \n",
       "\n",
       "   95_conf_interval_upper  loss_probability  \n",
       "0            9.580430e+08             0.030  \n",
       "1            8.424790e+08             0.017  \n",
       "2            8.283887e+08             0.119  "
      ]
     },
     "execution_count": 60,
     "metadata": {},
     "output_type": "execute_result"
    }
   ],
   "source": [
    "profit_variations_data = pd.DataFrame({'region': ['Первый регион', 'Второй регион', 'Третий регион'], \n",
    "                              'profit_mean': [profit_mean_1, profit_mean_2, profit_mean_3],\n",
    "                              '95_conf_interval_lower': [profit_lower_1, profit_lower_2, profit_lower_3],\n",
    "                              '95_conf_interval_upper': [profit_upper_1, profit_upper_2, profit_upper_3],\n",
    "                              'loss_probability': [loss_probability_1, loss_probability_2, loss_probability_3]})\n",
    "profit_variations_data"
   ]
  },
  {
   "cell_type": "markdown",
   "id": "8973aa91-e344-4a42-968c-00b327d76a9a",
   "metadata": {},
   "source": [
    "- Вероятность убытков меньше всего во втором регионе - 1.7%. Это также единственный регион, где вероятность убытков не превышает допустимое значение.\n",
    "- Самый предсказуемый, компактный доверительный интервал во втором регион - от 31 054 171.82 до 842 478 985.18. Это также единственный регион без отрицательных значений на нижней границе доверительного интервала.\n",
    "- Самое высокое среднее значение доходности в первом регионе - 483 167 794.55. Верхняя граница доверительного интервала там также заметно выше, чем во втором и третьем."
   ]
  },
  {
   "cell_type": "markdown",
   "id": "b175b35b-8740-40f3-90d7-b5099536e3d9",
   "metadata": {},
   "source": [
    "### Выводы по рассчетам рисков и прибыли"
   ]
  },
  {
   "cell_type": "markdown",
   "id": "65020fcf-e3dd-4be6-866d-cb8de97c741c",
   "metadata": {},
   "source": [
    "**Вероятность убытков**\n",
    "- Минимальное значение вероятности убытков во втором регионе - 1.7%. Это также единственный регион, где вероятность убытков не превышает допустимое значение.\n",
    "- Второй регион незначительно превышает допустимое значение вероятности убытков - там вероятность убытков 3%, что на 0.5% выше допустимого.\n",
    "______\n",
    "\n",
    "**Диапазон прогнозируемой прибыли**\n",
    "- Самый предсказуемый, компактный 95% доверительный интервал прогнозов прибыли во втором регионе - от 31054171.8196517 до 842478985.1824985. Это также единственный регион без отрицательных значений на нижней границе.\n",
    "_____\n",
    "\n",
    "**Среднее прогнозируемое значение доходности**\n",
    "- Самое высокое среднее прогнозируемое значение доходности в первом регионе - 483 167 794.55. Верхняя граница доверительного интервала там также заметно выше, чем во втором и третьем.\n",
    "______\n",
    "\n",
    "**По результатам исследования рисков и прибыли рекомендуются разработки во Втором регионе.**\n",
    "\n",
    "Однако, первый регион может быть также рассмотрен, т.к. риск потерь очень незначительно отличается от допустимого, а прибыли выше и исходные данные выглядят достовернее."
   ]
  },
  {
   "cell_type": "markdown",
   "id": "65960caa-bd7a-4b78-a50c-0cc53779fa63",
   "metadata": {},
   "source": [
    "## Общие выводы"
   ]
  },
  {
   "cell_type": "markdown",
   "id": "91abcee9-689a-428d-8327-5452a3abf4d5",
   "metadata": {},
   "source": [
    "**Ход проекта**\n",
    "\n",
    "1. **Обзор и предобработка данных**\n",
    "   - В целом в данных не выявлено значительных недостатков.\n",
    "   - Были выявлены дубликаты в столбце id (10 в первом регионе и по 4 во втором и третьем). Сами строки-дубликаты выглядят нормально и не схожи между собой, поэтому ошибка вероятнее всего в заполнении id. Т.к. id использоваться не будет, строки для исследования оставили.\n",
    "2. **Исследовательский анализ данных**\n",
    "   - Данные по признакам f0 и f1 заметно отличаются во всех трех регионах, особенно по форме распределений и по диапазону.\n",
    "   - Данные по признакам f2 и объему нефти очень схожи в первом и третьем регионах. Данные второго региона по этим признакам выглядят почти искусственно - у них очень странное распределение с малой вариативностью и равномерным шагом по всему диапазону (который тоже отличен от первого и третьего региона).\n",
    "   - Вероятно, во втором регионе могут быть какие-то трудности со сбором данных, связанные с техникой, человеческим фактором или другими проблемами доступности информации.\n",
    "3. **Корреляционный анализ**\n",
    "   - Во всех трех случаях целевой признак имел заметную корреляцию с целевым, а во втором регионе и вовсе 1 к 1 (но там и данные по f2 и целевому признаку имели очень математичный-искусственный вид).\n",
    "   - Во втором регионе также очень заметна нелинейная связь f0 и целевого признака, и коэффициент этой связи в 3 раза выше, чем в двух других регионах.\n",
    "   - Корреляция f1 и целевого признака везде незначительная.\n",
    "   - Мультиколинеарность не выявлена.\n",
    "4. **Обучение моделей прогноза запасов нефти для каждого региона**\n",
    "   - **Модель Первого региона:**\n",
    "     1) Предсказуемость: Модель в среднем ошибается на 37.6 тыс баррелей. Это второй лучший результат.\n",
    "     2) Запасы: Среднее значение предсказанного объема запасов нефти в регионе - 92.8 тыс. баррелей. Это также второй лучший результат.\n",
    "   - **Модель Второго региона:**\n",
    "     1) Предсказуемость: Модель в среднем ошибается на 0.9 тыс баррелей. Это лучший результат. (Впрочем, он может быть обусловлен не совсем корректными данными.)\n",
    "     2) Запасы: Среднее значение предсказанного объема запасов нефти в регионе - 68.6 тыс. баррелей. Это худший результат, он на 28% хуже самого лучшего.\n",
    "   - **Модель Третьего региона:**\n",
    "     1) Предсказуемость: Модель в среднем ошибается на 40.3 тыс баррелей. Это худший результат. Однако, он в целом схож с моделью первого региона.\n",
    "     2) Запасы: Среднее значение предсказанного объема запасов нефти в регионе - 95 тыс. баррелей. Это самый высокий показатель.\n",
    "5. **Анализ рисков и прибыли при разработке на основе прогнозов моделей**\n",
    "   - **Вероятность убытков**\n",
    "     1) Минимальное значение вероятности убытков во втором регионе - 1.7%. Это также единственный регион, где вероятность убытков не превышает допустимое значение.\n",
    "     2) Второй регион незначительно превышает допустимое значение вероятности убытков - там вероятность убытков 3%, что на 0.5% выше допустимого.\n",
    "   - **Диапазон прогнозируемой прибыли**\n",
    "     1) Самый предсказуемый, компактный 95% доверительный интервал прогнозов прибыли во втором регионе - от 31 054 171.82 до 842 478 985.18. Это также единственный регион без отрицательных значений на нижней границе.\n",
    "   - **Среднее прогнозируемое значение доходности**\n",
    "     1) Самое высокое среднее прогнозируемое значение доходности в первом регионе - 483167794.55. Верхняя граница доверительного интервала там также заметно выше, чем во втором и третьем.\n",
    "_______\n",
    "\n",
    "**По результатам исследования имеющихся данных рекомендуются разработки во Втором регионе.**\n",
    "\n",
    "- Данный регион имеет минимальное значение вероятности убытков 1.7%.\n",
    "- 95% доверительный интервал вероятной прибыли компактный, предсказуемый и без отрицательных значений на нижней границе.\n",
    "- Разница среднего прогнозируемого значения с регионе отличается от максимального из трех регионов только на 37 миллионов, что не много, учитывая масштаб сумм.\n",
    "_______\n",
    "\n",
    "**Первый регион может быть рассмотрен как альтернативный вариант.**\n",
    "\n",
    "- Данный регион имеет риск потерь 3%, выше допустимого на 0.5%.\n",
    "- В регионе самое высокое значение средней прибыли и значительно более высокое значение на верхней нижней границе доверительного интервала.\n",
    "_______\n",
    "\n",
    "**Рекомендуется дополнительная проверка и сбор информации.**\n",
    "\n",
    "- Ряд наблюдений по Второму региону выглядит несколько сомнительно в контексте аналогичных данных по Первому и Третьему региону.\n",
    "- Дополнительные данные по всем регионам позволят улучшить модели прогноза объемов нефти в регионе, а значит и точность прогнозов выручки."
   ]
  },
  {
   "cell_type": "code",
   "execution_count": null,
   "id": "fb4c29a2-0459-4f86-8757-ef5fd6773d94",
   "metadata": {},
   "outputs": [],
   "source": []
  }
 ],
 "metadata": {
  "kernelspec": {
   "display_name": "Python 3 (ipykernel)",
   "language": "python",
   "name": "python3"
  },
  "language_info": {
   "codemirror_mode": {
    "name": "ipython",
    "version": 3
   },
   "file_extension": ".py",
   "mimetype": "text/x-python",
   "name": "python",
   "nbconvert_exporter": "python",
   "pygments_lexer": "ipython3",
   "version": "3.9.21"
  }
 },
 "nbformat": 4,
 "nbformat_minor": 5
}
